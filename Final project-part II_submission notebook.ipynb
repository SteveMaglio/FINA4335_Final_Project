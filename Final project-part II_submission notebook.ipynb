{
 "cells": [
  {
   "cell_type": "markdown",
   "id": "fae072b5-c9af-43cb-9619-b4baab613f53",
   "metadata": {},
   "source": [
    "<center><b>  <span style=\"font-size:24px;\">FINA 4335 -Final Project-<span style=\"color:red;\">Part II <span></span></b>\n",
    "<center><span style=\"font-size:22px;\"><b>Due date: 12/11/2024 11:59 PM ET</b></span></center>\n",
    "            \n",
    "##### First name and Last name (team member 1): Stephen Magliocchino\n",
    "##### First name and Last name (team member 2): Benjamin Damon\n",
    "##### First name and Last name (team member 3): Benjamin Inglesby"
   ]
  },
  {
   "cell_type": "markdown",
   "id": "771ab249-0766-49f6-8a5e-03855cbb6664",
   "metadata": {
    "jp-MarkdownHeadingCollapsed": true
   },
   "source": [
    "## Instructions\n",
    "1. Please rename the notebook. It should have the following format: **Final Project_Part II_Lastname1_Lastname2** if there are 2 members in the team.\n",
    "1. Use this **template** and you are free to add more code/markdown cells. Change the markdown cells if necessary. Well format this notebook file.\n",
    "1. After you answer all questions:\n",
    "    1. Restart your kernel and run all cells\n",
    "    1. Save your notebook and export your notebook as HTML\n",
    "    1. Submit the **notebook** and **HTML** to Canvas, under Final Group Project."
   ]
  },
  {
   "cell_type": "markdown",
   "id": "66523d20-73d8-4fb2-8b3f-8d594b8afba6",
   "metadata": {},
   "source": [
    "## Some Grading Guidelines\n",
    "1. All code cells (excluding evaluation cells) should be **executable**. \n",
    "    - Non-executable code cells will receive up to **50%** of grade deduction. To receive more partial credit for a non-executable code cell, ensure it includes sufficient comments.\n",
    "1.  <span style=\"color: blue;\">I grade on both **correctness** and **effort**</span>\n",
    "    - **Suppose you don’t know how to generate a specific variable, then you <span style=\"color: red;\">may use random values (with somewhat reasonable range) to replace the variable</span>. You will lose point for that variable but will get most credit for subsequent questions.**\n",
    "1. Write efficient and clean code\n",
    "    -  No repetitive code (An example of repetitive code: import the same csv file twice).\n",
    "    - Informative variable names (if not specified in the project description).\n",
    "    - Less than 2 uncommented `print`, `.describe()`, or similar quality check in every code cell or every 5 lines of code.\n",
    "    - Every 2 occurrence of inefficient or inclean code will receive **1 point deduction**\n",
    "1. Preserve as many observations as possible\n",
    "    - Losing observations is considered partially incorrect code\n",
    "    - Do not fill NAs\n",
    "1. Include sufficient comments (at least 1 comment every 3 lines of code)\n",
    "      - Failure to include sufficient comments will result in a **5 points** grade deduction\n",
    "1. Format the markdown file such as including headings and brief question description\n",
    "1. Use the methods and formulas **covered in the lecture notebooks**. Using formulas inconsistent to the lecture notebooks receives 20% of grade penalty\n",
    "1. Reasonable code execution time\n",
    "   - The code execution time for this Part should be less than 20 minutes, otherwise **deduct 1 point for every 5 minutes more code execuation time**\n",
    "1. **10% of grade penalty per day late, receive 0% if the project is submitted after Dec 13 11:59 PM ET.**"
   ]
  },
  {
   "cell_type": "code",
   "id": "59e5f521-bfbf-4286-aa82-9beed1cc9c3c",
   "metadata": {
    "ExecuteTime": {
     "end_time": "2024-12-11T05:29:11.737209Z",
     "start_time": "2024-12-11T05:29:11.729908Z"
    }
   },
   "source": [
    "import numpy as np\n",
    "import pandas as pd\n",
    "import datetime as dt\n",
    "import yfinance as yf\n",
    "import scipy.stats as stats \n",
    "import statsmodels.api as sm\n",
    "import pandas_datareader.data as web\n",
    "import matplotlib.pyplot as plt\n",
    "%matplotlib inline\n",
    "import time\n",
    "%config InlineBackend.figure_format = 'retina'\n",
    "# Measure execution time\n",
    "start_time_part2 = time.time()  # Start time"
   ],
   "outputs": [],
   "execution_count": 32
  },
  {
   "cell_type": "markdown",
   "id": "041ca27e-cd32-4422-a528-90c3c82f6dc3",
   "metadata": {},
   "source": [
    "## Data preparation (5 points)\n",
    "**Explanation of variables in 'weekly_rets.csv'**\n",
    "\n",
    "- **DATE**: This variable represents the last trading day of each week.\n",
    "- **PERMNO**: This is a unique identifier assigned to each security.\n",
    "- **ret**: the stock's weekly return, expressed as a decimal.\n",
    "  \n",
    "**Explanation of variables in 'monthly_rets_funda.csv'**\n",
    "\n",
    "- **DATE**: This variable represents the last trading day of each month.\n",
    "- **PERMNO**: This is a unique identifier assigned to each security.\n",
    "- **PRC**: reflects the **unadjusted** close price of a stock on the last trading day of the month. This value is the raw closing price without adjustments for corporate actions such as stock splits, dividends, or other modifications.\n",
    "- **RET**: the stock's monthly return, expressed as a decimal. \n",
    "- **SHROUT**: The **shares outstanding** (SHROUT) variable represents the number of shares (in thousands) of a company’s stock that are currently held by all shareholders.\n",
    "- **revenues**:  This variable represents the total revenues for a specific fiscal year. The variable is already 'lagged'."
   ]
  },
  {
   "cell_type": "code",
   "id": "9b467d4a-08dd-47e9-90d4-e4fdc0d2135c",
   "metadata": {
    "ExecuteTime": {
     "end_time": "2024-12-11T05:29:13.183141Z",
     "start_time": "2024-12-11T05:29:11.751128Z"
    }
   },
   "source": [
    "# Write your code in the provided code cell; you can add more cells (same applies below, no further repetition).\n",
    "weekly_rets = pd.read_csv('weekly_rets.csv', parse_dates=['DATE'])\n",
    "monthly_rets = pd.read_csv('monthly_rets_funda.csv', parse_dates=['DATE'])\n",
    "weekly_rets.sort_values(by=['PERMNO', 'DATE'], inplace=True)\n",
    "monthly_rets.sort_values(by=['PERMNO', 'DATE'], inplace=True)\n",
    "mrets_with_signals = monthly_rets.copy()"
   ],
   "outputs": [],
   "execution_count": 33
  },
  {
   "cell_type": "code",
   "id": "c780995f-8387-4f4d-966b-8e65d34e7859",
   "metadata": {
    "ExecuteTime": {
     "end_time": "2024-12-11T06:18:37.554941Z",
     "start_time": "2024-12-11T06:18:37.550603Z"
    }
   },
   "source": [
    "# Evaluation cell (used for grading-I don't have a TA)\n",
    "# you don't need to worry at all if you think certain valuation cell is wrong (same applies below, no further repetition)\n",
    "print(weekly_rets.head())\n",
    "print(monthly_rets.head())"
   ],
   "outputs": [
    {
     "name": "stdout",
     "output_type": "stream",
     "text": [
      "        DATE  PERMNO       ret\n",
      "0 2008-01-04   10001 -0.028264\n",
      "1 2008-01-11   10001 -0.013150\n",
      "2 2008-01-18   10001 -0.004682\n",
      "3 2008-01-25   10001  0.002904\n",
      "4 2008-02-01   10001  0.026923\n",
      "        DATE  PERMNO        PRC       RET    SHROUT  revenues\n",
      "0 2008-01-31   10001  13.986000 -0.006076  2872.125    84.278\n",
      "1 2008-02-29   10001   9.490400  0.021682  4340.655    84.278\n",
      "2 2008-03-31   10001   8.956035 -0.052463  4342.653    84.278\n",
      "3 2008-04-30   10001   8.591400 -0.036661  4342.653    84.278\n",
      "4 2008-05-30   10001  10.889100  0.271356  4342.653    84.278\n"
     ]
    }
   ],
   "execution_count": 54
  },
  {
   "cell_type": "markdown",
   "id": "d3c10bf2-4271-4529-a87a-c498f7c6906d",
   "metadata": {},
   "source": [
    "## Constructing factors (33 points; 15+8+5+5)"
   ]
  },
  {
   "cell_type": "markdown",
   "id": "ed995e29-4e2d-460f-a18b-5dd8d7a20301",
   "metadata": {},
   "source": [
    "### Create signals  (3*5=15 points)"
   ]
  },
  {
   "cell_type": "markdown",
   "id": "ea3d1af4-f18f-4a88-a28a-6a4365683d45",
   "metadata": {},
   "source": [
    "#### price_to_sales"
   ]
  },
  {
   "cell_type": "code",
   "id": "6a9f60e550d8d948",
   "metadata": {
    "ExecuteTime": {
     "end_time": "2024-12-11T05:29:13.216903Z",
     "start_time": "2024-12-11T05:29:13.212833Z"
    }
   },
   "source": [
    "# revenue is already 'lagged'\n",
    "mrets_with_signals['price_to_sales'] = mrets_with_signals['PRC'] / mrets_with_signals['revenues']"
   ],
   "outputs": [],
   "execution_count": 35
  },
  {
   "cell_type": "code",
   "id": "ea49e69b",
   "metadata": {
    "ExecuteTime": {
     "end_time": "2024-12-11T05:29:13.329169Z",
     "start_time": "2024-12-11T05:29:13.230721Z"
    }
   },
   "source": [
    "# some quality check such as .describe() and print head of key variables\n",
    "print(mrets_with_signals.describe())\n",
    "print(mrets_with_signals.isnull().sum())\n",
    "print(mrets_with_signals.head())"
   ],
   "outputs": [
    {
     "name": "stdout",
     "output_type": "stream",
     "text": [
      "                                DATE         PERMNO            PRC  \\\n",
      "count                         527919  527919.000000  525406.000000   \n",
      "mean   2015-12-02 04:09:19.313076224   58495.690371      37.219174   \n",
      "min              2008-01-31 00:00:00   10001.000000       0.016983   \n",
      "25%              2011-09-30 00:00:00   18838.000000       5.154840   \n",
      "50%              2015-10-30 00:00:00   76750.000000      17.032950   \n",
      "75%              2020-01-31 00:00:00   87377.000000      41.308650   \n",
      "max              2023-12-29 00:00:00   93436.000000    6993.449750   \n",
      "std                              NaN   32011.164148     109.502017   \n",
      "\n",
      "                 RET        SHROUT       revenues  price_to_sales  \n",
      "count  525388.000000  5.279190e+05  505997.000000   503601.000000  \n",
      "mean        0.009336  1.336051e+05    4137.744604        1.843115  \n",
      "min        -0.971201  8.991000e+00   -1964.999000     -165.275735  \n",
      "25%        -0.072681  1.954144e+04      91.016000        0.010764  \n",
      "50%         0.002023  4.206190e+04     504.386000        0.033545  \n",
      "75%         0.074546  9.473967e+04    2191.700000        0.106009  \n",
      "max        17.587045  1.708543e+07  569962.000000    34545.420000  \n",
      "std         0.198896  4.651944e+05   18021.597889      150.352424  \n",
      "DATE                  0\n",
      "PERMNO                0\n",
      "PRC                2513\n",
      "RET                2531\n",
      "SHROUT                0\n",
      "revenues          21922\n",
      "price_to_sales    24318\n",
      "dtype: int64\n",
      "        DATE  PERMNO        PRC       RET    SHROUT  revenues  price_to_sales\n",
      "0 2008-01-31   10001  13.986000 -0.006076  2872.125    84.278        0.165951\n",
      "1 2008-02-29   10001   9.490400  0.021682  4340.655    84.278        0.112608\n",
      "2 2008-03-31   10001   8.956035 -0.052463  4342.653    84.278        0.106268\n",
      "3 2008-04-30   10001   8.591400 -0.036661  4342.653    84.278        0.101941\n",
      "4 2008-05-30   10001  10.889100  0.271356  4342.653    84.278        0.129205\n"
     ]
    }
   ],
   "execution_count": 36
  },
  {
   "cell_type": "markdown",
   "id": "3e1cff9f-3b83-41f6-8ce2-a57bfb29034e",
   "metadata": {},
   "source": [
    "#### ret_2to12m"
   ]
  },
  {
   "cell_type": "code",
   "id": "c9dbcbe2a4aa22eb",
   "metadata": {
    "ExecuteTime": {
     "end_time": "2024-12-11T05:29:13.341323Z",
     "start_time": "2024-12-11T05:29:13.339153Z"
    }
   },
   "source": [
    "# Each signal is only worth 3 points. Suppose you don’t know how to generate a specific signal, then you may use random values \n",
    "# (with somewhat reasonable range) to replace the signal. You will lose 3 points but will get most credit for subsequent questions.\n",
    "mrets_with_signals['ret_2to12m'] = (1 + mrets_with_signals['RET']).shift(2) * (1 + mrets_with_signals['RET']).shift(12) - 1"
   ],
   "outputs": [],
   "execution_count": 37
  },
  {
   "cell_type": "code",
   "id": "429640cf-2e85-4923-b5f2-7632ba70999c",
   "metadata": {
    "ExecuteTime": {
     "end_time": "2024-12-11T05:29:13.355191Z",
     "start_time": "2024-12-11T05:29:13.353576Z"
    }
   },
   "source": [
    "# some quality check such as .describe() and print head of key variables\n",
    "\n"
   ],
   "outputs": [],
   "execution_count": 38
  },
  {
   "cell_type": "markdown",
   "id": "960ce557-767f-40de-8f2a-4ed5220998b5",
   "metadata": {},
   "source": [
    "#### ret_2w"
   ]
  },
  {
   "cell_type": "code",
   "id": "b601b4d5-92f3-4e7c-897c-b09f3b555358",
   "metadata": {
    "ExecuteTime": {
     "end_time": "2024-12-11T05:29:13.366584Z",
     "start_time": "2024-12-11T05:29:13.364510Z"
    }
   },
   "source": [
    "# Each signal is only worth 3 points. Suppose you don’t know how to generate a specific signal, then you may use random values \n",
    "# (with somewhat reasonable range) to replace the signal. You will lose 3 points but will get most credit for subsequent questions.\n",
    "mrets_with_signals['ret_2w'] = (1 + mrets_with_signals['RET']).shift(1) * (1 + mrets_with_signals['RET']) - 1"
   ],
   "outputs": [],
   "execution_count": 39
  },
  {
   "cell_type": "code",
   "id": "3aed8ebb-2b1d-4206-9a15-3a9819dbe090",
   "metadata": {
    "ExecuteTime": {
     "end_time": "2024-12-11T05:29:13.377510Z",
     "start_time": "2024-12-11T05:29:13.375811Z"
    }
   },
   "source": [],
   "outputs": [],
   "execution_count": null
  },
  {
   "cell_type": "code",
   "id": "e11f143a-976b-4842-a179-b412590399f5",
   "metadata": {
    "ExecuteTime": {
     "end_time": "2024-12-11T05:29:13.389636Z",
     "start_time": "2024-12-11T05:29:13.387644Z"
    }
   },
   "source": [
    "# some quality check such as .describe() and print head of key variables\n"
   ],
   "outputs": [],
   "execution_count": 40
  },
  {
   "cell_type": "markdown",
   "id": "bba36a24-fa15-483a-b9c0-f8d4a76211e2",
   "metadata": {},
   "source": [
    "#### mcap_quarter"
   ]
  },
  {
   "cell_type": "code",
   "id": "c206b089-2fe2-4889-a8c5-5cbef24b9843",
   "metadata": {
    "ExecuteTime": {
     "end_time": "2024-12-11T05:29:13.404191Z",
     "start_time": "2024-12-11T05:29:13.400536Z"
    }
   },
   "source": [
    "# Each signal is only worth 3 points. Suppose you don’t know how to generate a specific signal, then you may use random values \n",
    "# (with somewhat reasonable range) to replace the signal. You will lose 3 points but will get most credit for subsequent questions.\n",
    "mrets_with_signals['mcap_quarter'] = mrets_with_signals['PRC'] * mrets_with_signals['SHROUT']"
   ],
   "outputs": [],
   "execution_count": 41
  },
  {
   "cell_type": "code",
   "id": "ef27961f-cc5a-471e-8c93-6fcc5477407b",
   "metadata": {
    "ExecuteTime": {
     "end_time": "2024-12-11T05:29:13.530077Z",
     "start_time": "2024-12-11T05:29:13.415464Z"
    }
   },
   "source": [
    "# some quality check such as .describe() and print head of key variables\n",
    "print(mrets_with_signals.describe())\n",
    "print(mrets_with_signals.isnull().sum())\n",
    "print(mrets_with_signals.head())"
   ],
   "outputs": [
    {
     "name": "stdout",
     "output_type": "stream",
     "text": [
      "                                DATE         PERMNO            PRC  \\\n",
      "count                         527919  527919.000000  525406.000000   \n",
      "mean   2015-12-02 04:09:19.313076224   58495.690371      37.219174   \n",
      "min              2008-01-31 00:00:00   10001.000000       0.016983   \n",
      "25%              2011-09-30 00:00:00   18838.000000       5.154840   \n",
      "50%              2015-10-30 00:00:00   76750.000000      17.032950   \n",
      "75%              2020-01-31 00:00:00   87377.000000      41.308650   \n",
      "max              2023-12-29 00:00:00   93436.000000    6993.449750   \n",
      "std                              NaN   32011.164148     109.502017   \n",
      "\n",
      "                 RET        SHROUT       revenues  price_to_sales  \\\n",
      "count  525388.000000  5.279190e+05  505997.000000   503601.000000   \n",
      "mean        0.009336  1.336051e+05    4137.744604        1.843115   \n",
      "min        -0.971201  8.991000e+00   -1964.999000     -165.275735   \n",
      "25%        -0.072681  1.954144e+04      91.016000        0.010764   \n",
      "50%         0.002023  4.206190e+04     504.386000        0.033545   \n",
      "75%         0.074546  9.473967e+04    2191.700000        0.106009   \n",
      "max        17.587045  1.708543e+07  569962.000000    34545.420000   \n",
      "std         0.198896  4.651944e+05   18021.597889      150.352424   \n",
      "\n",
      "       mcap_quarter  \n",
      "count  5.254060e+05  \n",
      "mean   7.108534e+06  \n",
      "min    8.815842e+01  \n",
      "25%    1.246557e+05  \n",
      "50%    6.304427e+05  \n",
      "75%    2.908814e+06  \n",
      "max    3.065205e+09  \n",
      "std    4.409977e+07  \n",
      "DATE                  0\n",
      "PERMNO                0\n",
      "PRC                2513\n",
      "RET                2531\n",
      "SHROUT                0\n",
      "revenues          21922\n",
      "price_to_sales    24318\n",
      "mcap_quarter       2513\n",
      "dtype: int64\n",
      "        DATE  PERMNO        PRC       RET    SHROUT  revenues  price_to_sales  \\\n",
      "0 2008-01-31   10001  13.986000 -0.006076  2872.125    84.278        0.165951   \n",
      "1 2008-02-29   10001   9.490400  0.021682  4340.655    84.278        0.112608   \n",
      "2 2008-03-31   10001   8.956035 -0.052463  4342.653    84.278        0.106268   \n",
      "3 2008-04-30   10001   8.591400 -0.036661  4342.653    84.278        0.101941   \n",
      "4 2008-05-30   10001  10.889100  0.271356  4342.653    84.278        0.129205   \n",
      "\n",
      "   mcap_quarter  \n",
      "0  40169.540250  \n",
      "1  41194.552646  \n",
      "2  38892.952261  \n",
      "3  37309.468984  \n",
      "4  47287.582782  \n"
     ]
    }
   ],
   "execution_count": 42
  },
  {
   "cell_type": "markdown",
   "id": "5baf15f1-b623-419c-b2be-25fa6d7cbc25",
   "metadata": {},
   "source": [
    "#### beta"
   ]
  },
  {
   "cell_type": "code",
   "id": "5e963546-7b56-499e-85a3-5fb0b988c59b",
   "metadata": {
    "ExecuteTime": {
     "end_time": "2024-12-11T06:19:20.752323Z",
     "start_time": "2024-12-11T06:19:18.576635Z"
    }
   },
   "source": [
    "# Each signal is only worth 3 points. Suppose you don’t know how to generate a specific signal, then you may use random values \n",
    "# (with somewhat reasonable range) to replace the signal. You will lose 3 points but will get most credit for subsequent questions.\n",
    "three_factors_day = web.get_data_famafrench('F-F_Research_Data_Factors_daily', start=mrets_with_signals['DATE'].min(), end=mrets_with_signals['DATE'].max())[0][['Mkt-RF','RF']].div(100)\n",
    "ff_monthly = (1 + three_factors_day).resample('M').prod() - 1\n",
    "merged_data = pd.merge(mrets_with_signals, ff_monthly, left_on='DATE', right_index=True, how='left')\n",
    "merged_data['excess_ret'] = merged_data['RET'] - merged_data['RF']  # stock excess returns\n",
    "merged_data['excess_mkt'] = merged_data['Mkt-RF']"
   ],
   "outputs": [
    {
     "name": "stderr",
     "output_type": "stream",
     "text": [
      "/var/folders/1b/vm9vwcxd62s4cvv71njdc7140000gv/T/ipykernel_85279/785955661.py:3: FutureWarning: The argument 'date_parser' is deprecated and will be removed in a future version. Please use 'date_format' instead, or read your data in as 'object' dtype and then call 'to_datetime'.\n",
      "  three_factors_day = web.get_data_famafrench('F-F_Research_Data_Factors_daily', start=mrets_with_signals['DATE'].min(), end=mrets_with_signals['DATE'].max())[0][['Mkt-RF','RF']].div(100)\n"
     ]
    }
   ],
   "execution_count": 55
  },
  {
   "cell_type": "code",
   "id": "5ee6a10f-dac4-4e97-87f7-d64bc98b99a9",
   "metadata": {
    "ExecuteTime": {
     "end_time": "2024-12-11T06:28:06.297369Z",
     "start_time": "2024-12-11T06:27:35.800727Z"
    }
   },
   "source": [
    "betas = []\n",
    "window_size = 24  # 24 months for rolling window\n",
    "\n",
    "# Loop through each stock and calculate the rolling beta using covariance and variance\n",
    "for permno in merged_data['PERMNO'].unique():\n",
    "    stock_data = merged_data[merged_data['PERMNO'] == permno]\n",
    "    \n",
    "    stock_betas = []\n",
    "    for start in range(len(stock_data) - window_size + 1):\n",
    "        end = start + window_size\n",
    "        window_data = stock_data.iloc[start:end]\n",
    "        \n",
    "        cov = window_data['excess_ret'].cov(window_data['excess_mkt'])\n",
    "        var = window_data['excess_mkt'].var()\n",
    "        beta = cov / var if var != 0 else np.nan  # Avoid division by zero\n",
    "        stock_betas.append(beta)"
   ],
   "outputs": [],
   "execution_count": 58
  },
  {
   "cell_type": "code",
   "id": "51100750-9fd9-4081-968c-457db22b80b9",
   "metadata": {
    "ExecuteTime": {
     "end_time": "2024-12-11T05:29:15.684878Z",
     "start_time": "2024-12-11T05:04:46.353608Z"
    }
   },
   "source": [
    "# some quality check such as .describe() and print head of key variables\n"
   ],
   "outputs": [],
   "execution_count": 18
  },
  {
   "cell_type": "code",
   "id": "38eb6342-9b21-41c0-ac52-ad3b709d8be3",
   "metadata": {
    "scrolled": true,
    "ExecuteTime": {
     "end_time": "2024-12-11T05:29:15.684995Z",
     "start_time": "2024-12-11T05:04:46.365960Z"
    }
   },
   "source": [
    "#############################################################################################################################\n",
    "# Evaluation cell (used for grading-I don't have a TA)\n",
    "#############################################################################################################################\n",
    "some_vars = ['PERMNO','RET']+['price_to_sales', 'ret_2to12m', 'ret_2w', 'mcap_quarter', 'beta']\n",
    "print(mrets_with_signals[some_vars].head())\n",
    "mrets_with_signals[some_vars].describe()"
   ],
   "outputs": [
    {
     "ename": "KeyError",
     "evalue": "\"['ret_2to12m', 'ret_2w', 'mcap_quarter', 'beta'] not in index\"",
     "output_type": "error",
     "traceback": [
      "\u001B[0;31m---------------------------------------------------------------------------\u001B[0m",
      "\u001B[0;31mKeyError\u001B[0m                                  Traceback (most recent call last)",
      "Cell \u001B[0;32mIn[19], line 5\u001B[0m\n\u001B[1;32m      1\u001B[0m \u001B[38;5;66;03m#############################################################################################################################\u001B[39;00m\n\u001B[1;32m      2\u001B[0m \u001B[38;5;66;03m# Evaluation cell (used for grading-I don't have a TA)\u001B[39;00m\n\u001B[1;32m      3\u001B[0m \u001B[38;5;66;03m#############################################################################################################################\u001B[39;00m\n\u001B[1;32m      4\u001B[0m some_vars \u001B[38;5;241m=\u001B[39m [\u001B[38;5;124m'\u001B[39m\u001B[38;5;124mPERMNO\u001B[39m\u001B[38;5;124m'\u001B[39m,\u001B[38;5;124m'\u001B[39m\u001B[38;5;124mRET\u001B[39m\u001B[38;5;124m'\u001B[39m]\u001B[38;5;241m+\u001B[39m[\u001B[38;5;124m'\u001B[39m\u001B[38;5;124mprice_to_sales\u001B[39m\u001B[38;5;124m'\u001B[39m, \u001B[38;5;124m'\u001B[39m\u001B[38;5;124mret_2to12m\u001B[39m\u001B[38;5;124m'\u001B[39m, \u001B[38;5;124m'\u001B[39m\u001B[38;5;124mret_2w\u001B[39m\u001B[38;5;124m'\u001B[39m, \u001B[38;5;124m'\u001B[39m\u001B[38;5;124mmcap_quarter\u001B[39m\u001B[38;5;124m'\u001B[39m, \u001B[38;5;124m'\u001B[39m\u001B[38;5;124mbeta\u001B[39m\u001B[38;5;124m'\u001B[39m]\n\u001B[0;32m----> 5\u001B[0m \u001B[38;5;28mprint\u001B[39m(mrets_with_signals[some_vars]\u001B[38;5;241m.\u001B[39mhead())\n\u001B[1;32m      6\u001B[0m mrets_with_signals[some_vars]\u001B[38;5;241m.\u001B[39mdescribe()\n",
      "File \u001B[0;32m~/anaconda3/lib/python3.11/site-packages/pandas/core/frame.py:3767\u001B[0m, in \u001B[0;36mDataFrame.__getitem__\u001B[0;34m(self, key)\u001B[0m\n\u001B[1;32m   3765\u001B[0m     \u001B[38;5;28;01mif\u001B[39;00m is_iterator(key):\n\u001B[1;32m   3766\u001B[0m         key \u001B[38;5;241m=\u001B[39m \u001B[38;5;28mlist\u001B[39m(key)\n\u001B[0;32m-> 3767\u001B[0m     indexer \u001B[38;5;241m=\u001B[39m \u001B[38;5;28mself\u001B[39m\u001B[38;5;241m.\u001B[39mcolumns\u001B[38;5;241m.\u001B[39m_get_indexer_strict(key, \u001B[38;5;124m\"\u001B[39m\u001B[38;5;124mcolumns\u001B[39m\u001B[38;5;124m\"\u001B[39m)[\u001B[38;5;241m1\u001B[39m]\n\u001B[1;32m   3769\u001B[0m \u001B[38;5;66;03m# take() does not accept boolean indexers\u001B[39;00m\n\u001B[1;32m   3770\u001B[0m \u001B[38;5;28;01mif\u001B[39;00m \u001B[38;5;28mgetattr\u001B[39m(indexer, \u001B[38;5;124m\"\u001B[39m\u001B[38;5;124mdtype\u001B[39m\u001B[38;5;124m\"\u001B[39m, \u001B[38;5;28;01mNone\u001B[39;00m) \u001B[38;5;241m==\u001B[39m \u001B[38;5;28mbool\u001B[39m:\n",
      "File \u001B[0;32m~/anaconda3/lib/python3.11/site-packages/pandas/core/indexes/base.py:5877\u001B[0m, in \u001B[0;36mIndex._get_indexer_strict\u001B[0;34m(self, key, axis_name)\u001B[0m\n\u001B[1;32m   5874\u001B[0m \u001B[38;5;28;01melse\u001B[39;00m:\n\u001B[1;32m   5875\u001B[0m     keyarr, indexer, new_indexer \u001B[38;5;241m=\u001B[39m \u001B[38;5;28mself\u001B[39m\u001B[38;5;241m.\u001B[39m_reindex_non_unique(keyarr)\n\u001B[0;32m-> 5877\u001B[0m \u001B[38;5;28mself\u001B[39m\u001B[38;5;241m.\u001B[39m_raise_if_missing(keyarr, indexer, axis_name)\n\u001B[1;32m   5879\u001B[0m keyarr \u001B[38;5;241m=\u001B[39m \u001B[38;5;28mself\u001B[39m\u001B[38;5;241m.\u001B[39mtake(indexer)\n\u001B[1;32m   5880\u001B[0m \u001B[38;5;28;01mif\u001B[39;00m \u001B[38;5;28misinstance\u001B[39m(key, Index):\n\u001B[1;32m   5881\u001B[0m     \u001B[38;5;66;03m# GH 42790 - Preserve name from an Index\u001B[39;00m\n",
      "File \u001B[0;32m~/anaconda3/lib/python3.11/site-packages/pandas/core/indexes/base.py:5941\u001B[0m, in \u001B[0;36mIndex._raise_if_missing\u001B[0;34m(self, key, indexer, axis_name)\u001B[0m\n\u001B[1;32m   5938\u001B[0m     \u001B[38;5;28;01mraise\u001B[39;00m \u001B[38;5;167;01mKeyError\u001B[39;00m(\u001B[38;5;124mf\u001B[39m\u001B[38;5;124m\"\u001B[39m\u001B[38;5;124mNone of [\u001B[39m\u001B[38;5;132;01m{\u001B[39;00mkey\u001B[38;5;132;01m}\u001B[39;00m\u001B[38;5;124m] are in the [\u001B[39m\u001B[38;5;132;01m{\u001B[39;00maxis_name\u001B[38;5;132;01m}\u001B[39;00m\u001B[38;5;124m]\u001B[39m\u001B[38;5;124m\"\u001B[39m)\n\u001B[1;32m   5940\u001B[0m not_found \u001B[38;5;241m=\u001B[39m \u001B[38;5;28mlist\u001B[39m(ensure_index(key)[missing_mask\u001B[38;5;241m.\u001B[39mnonzero()[\u001B[38;5;241m0\u001B[39m]]\u001B[38;5;241m.\u001B[39munique())\n\u001B[0;32m-> 5941\u001B[0m \u001B[38;5;28;01mraise\u001B[39;00m \u001B[38;5;167;01mKeyError\u001B[39;00m(\u001B[38;5;124mf\u001B[39m\u001B[38;5;124m\"\u001B[39m\u001B[38;5;132;01m{\u001B[39;00mnot_found\u001B[38;5;132;01m}\u001B[39;00m\u001B[38;5;124m not in index\u001B[39m\u001B[38;5;124m\"\u001B[39m)\n",
      "\u001B[0;31mKeyError\u001B[0m: \"['ret_2to12m', 'ret_2w', 'mcap_quarter', 'beta'] not in index\""
     ]
    }
   ],
   "execution_count": 19
  },
  {
   "cell_type": "code",
   "execution_count": null,
   "id": "f4b8de12-f276-4f99-b8f5-986f69ab56e5",
   "metadata": {},
   "outputs": [],
   "source": [
    "# Evaluation cell (used for grading-I don't have a TA)\n",
    "mrets_with_signals.head()"
   ]
  },
  {
   "cell_type": "markdown",
   "id": "d1b60194-eedc-4632-a7b4-c44d1ecec002",
   "metadata": {},
   "source": [
    "### Form time-series portfolios (8 points) "
   ]
  },
  {
   "cell_type": "code",
   "execution_count": null,
   "id": "e0a75b44-0a5a-4639-bb09-925b28ed95da",
   "metadata": {},
   "outputs": [],
   "source": [
    "\n"
   ]
  },
  {
   "cell_type": "code",
   "execution_count": null,
   "id": "aa9042c8-d000-4c16-adb5-0957e770e9bc",
   "metadata": {},
   "outputs": [],
   "source": [
    "# Evaluation cell (used for grading-I don't have a TA)\n",
    "print(value_df.head())\n",
    "value_df.describe()"
   ]
  },
  {
   "cell_type": "code",
   "execution_count": null,
   "id": "223b55ac-21b9-4b97-a5c4-a6ab9f20fdb6",
   "metadata": {},
   "outputs": [],
   "source": [
    "# Evaluation cell (do not change; used for grading)\n",
    "print(momentum_df.head())\n",
    "momentum_df.describe()"
   ]
  },
  {
   "cell_type": "code",
   "execution_count": null,
   "id": "b3c1a748-1045-4274-94f8-725018915e94",
   "metadata": {},
   "outputs": [],
   "source": [
    "# Evaluation cell (used for grading-I don't have a TA)\n",
    "print(reversal_df.head())\n",
    "reversal_df.describe()"
   ]
  },
  {
   "cell_type": "code",
   "execution_count": null,
   "id": "87f1e193-5cb7-48e3-89c1-5d816dc1cc52",
   "metadata": {},
   "outputs": [],
   "source": [
    "# Evaluation cell (used for grading-I don't have a TA)\n",
    "print(size_df.head())\n",
    "size_df.describe()"
   ]
  },
  {
   "cell_type": "code",
   "execution_count": null,
   "id": "fec5d82b-643d-42bc-ba05-7ad425f93749",
   "metadata": {},
   "outputs": [],
   "source": [
    "# Evaluation cell (used for grading-I don't have a TA)\n",
    "print(beta_df.head())\n",
    "beta_df.describe()"
   ]
  },
  {
   "cell_type": "markdown",
   "id": "3bc29106-55f7-49e1-8cc5-f0684b1830e1",
   "metadata": {},
   "source": [
    "### plot (5 points)"
   ]
  },
  {
   "cell_type": "code",
   "execution_count": null,
   "id": "fc9378e8-c668-45ca-ad12-fc0c72287484",
   "metadata": {},
   "outputs": [],
   "source": []
  },
  {
   "cell_type": "markdown",
   "id": "3a45d7a1-bd8f-47ea-bd7c-76ce036fcc4e",
   "metadata": {},
   "source": [
    "### Save the 5 long-short factor returns in a DataFrame called `factors_df`. (Do not drop any missing values). (5 points)"
   ]
  },
  {
   "cell_type": "code",
   "execution_count": null,
   "id": "609e2295-d47c-4654-8bf7-a72b19f24a9a",
   "metadata": {},
   "outputs": [],
   "source": []
  },
  {
   "cell_type": "code",
   "execution_count": null,
   "id": "dfdfcaa3-b0ee-48a1-b7b1-7fd3e996e32c",
   "metadata": {},
   "outputs": [],
   "source": [
    "# Evaluation cell (used for grading-I don't have a TA)\n",
    "print(factors_df.head())\n",
    "factors_df.describe()"
   ]
  },
  {
   "cell_type": "markdown",
   "id": "c869692d-eac9-468a-bcfe-9d97d44e4740",
   "metadata": {},
   "source": [
    "## Evaluate the factors you created (14 points; 4+4+6)"
   ]
  },
  {
   "cell_type": "markdown",
   "id": "f483e9bd-e62e-403d-83cd-a083bf1f0dc0",
   "metadata": {},
   "source": [
    "### Estimate Fama-French 5-factor model for the 5 factor portfolios (in `factors_df`). Report the R squares, regression coefficients, and their p values in a single DataFrame called `ff5_factors_reg`. "
   ]
  },
  {
   "cell_type": "code",
   "execution_count": null,
   "id": "ea22f315-4068-4409-9991-d91cba7bf769",
   "metadata": {},
   "outputs": [],
   "source": []
  },
  {
   "cell_type": "markdown",
   "id": "c19a8215-8c98-4a3f-aba3-53dad2626412",
   "metadata": {},
   "source": [
    "### Create `factors_sumstat`. "
   ]
  },
  {
   "cell_type": "code",
   "execution_count": null,
   "id": "7fc313a0-53cf-4f4a-9d57-4431cf204dd5",
   "metadata": {},
   "outputs": [],
   "source": []
  },
  {
   "cell_type": "code",
   "execution_count": null,
   "id": "f900e7fc-e6d3-4a29-b401-34fbf072060a",
   "metadata": {},
   "outputs": [],
   "source": [
    "# Evaluation cell (used for grading-I don't have a TA)\n",
    "print(ff5_factors_reg)\n",
    "print(factors_sumstat)"
   ]
  },
  {
   "cell_type": "markdown",
   "id": "207ccbcc-0cf6-4743-ab43-d867968aee5e",
   "metadata": {},
   "source": [
    "### Summarize at least three takeaways related to investments based on your results in Part II so far. Cite credible sources that help explain and support your findings. (6 points)"
   ]
  },
  {
   "cell_type": "markdown",
   "id": "ecf79a77-a416-49f9-916f-f208554cca47",
   "metadata": {},
   "source": []
  },
  {
   "cell_type": "markdown",
   "id": "918c4320-8d7f-4bdd-b159-15d81cdb4a7c",
   "metadata": {},
   "source": [
    "## Factor combination strategy (‘Mission Impossible’) (8 points)\n",
    "-  You can get partial credit if you have reasonable code."
   ]
  },
  {
   "cell_type": "code",
   "execution_count": null,
   "id": "e4f7237e-2fa8-4eca-ba83-f99b7bbef3e8",
   "metadata": {},
   "outputs": [],
   "source": [
    "\n",
    "\n"
   ]
  },
  {
   "cell_type": "code",
   "execution_count": null,
   "id": "b89a587b-6347-416c-a032-da0e758636de",
   "metadata": {},
   "outputs": [],
   "source": [
    "# Evaluation cell (used for grading-I don't have a TA)\n",
    "impossible_df"
   ]
  },
  {
   "cell_type": "code",
   "execution_count": null,
   "id": "3ec4beec-5e86-42fb-bc54-d1cb49994375",
   "metadata": {},
   "outputs": [],
   "source": [
    "end_time_part2 = time.time()  # End time\n",
    "execution_time_part2 = end_time_part2 - start_time_part2\n",
    "# Calculate the number of full minutes\n",
    "minutes = int(execution_time_part2 // 60)\n",
    "# Calculate the remaining seconds\n",
    "seconds = int(execution_time_part2 % 60)  \n",
    "print(f\"Execution time for Part II of the project:{minutes} minutes and {seconds} seconds\")"
   ]
  }
 ],
 "metadata": {
  "kernelspec": {
   "display_name": "Python 3 (ipykernel)",
   "language": "python",
   "name": "python3"
  },
  "language_info": {
   "codemirror_mode": {
    "name": "ipython",
    "version": 3
   },
   "file_extension": ".py",
   "mimetype": "text/x-python",
   "name": "python",
   "nbconvert_exporter": "python",
   "pygments_lexer": "ipython3",
   "version": "3.12.7"
  }
 },
 "nbformat": 4,
 "nbformat_minor": 5
}
