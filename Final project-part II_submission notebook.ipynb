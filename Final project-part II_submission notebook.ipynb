{
 "cells": [
  {
   "cell_type": "markdown",
   "id": "fae072b5-c9af-43cb-9619-b4baab613f53",
   "metadata": {},
   "source": [
    "<center><b>  <span style=\"font-size:24px;\">FINA 4335 -Final Project-<span style=\"color:red;\">Part II <span></span></b>\n",
    "<center><span style=\"font-size:22px;\"><b>Due date: 12/11/2024 11:59 PM ET</b></span></center>\n",
    "            \n",
    "##### First name and Last name (team member 1): Stephen Magliocchino\n",
    "##### First name and Last name (team member 2): Benjamin Damon\n",
    "##### First name and Last name (team member 3): Benjamin Inglesby"
   ]
  },
  {
   "cell_type": "markdown",
   "id": "771ab249-0766-49f6-8a5e-03855cbb6664",
   "metadata": {
    "jp-MarkdownHeadingCollapsed": true
   },
   "source": [
    "## Instructions\n",
    "1. Please rename the notebook. It should have the following format: **Final Project_Part II_Lastname1_Lastname2** if there are 2 members in the team.\n",
    "1. Use this **template** and you are free to add more code/markdown cells. Change the markdown cells if necessary. Well format this notebook file.\n",
    "1. After you answer all questions:\n",
    "    1. Restart your kernel and run all cells\n",
    "    1. Save your notebook and export your notebook as HTML\n",
    "    1. Submit the **notebook** and **HTML** to Canvas, under Final Group Project."
   ]
  },
  {
   "cell_type": "markdown",
   "id": "66523d20-73d8-4fb2-8b3f-8d594b8afba6",
   "metadata": {},
   "source": [
    "## Some Grading Guidelines\n",
    "1. All code cells (excluding evaluation cells) should be **executable**. \n",
    "    - Non-executable code cells will receive up to **50%** of grade deduction. To receive more partial credit for a non-executable code cell, ensure it includes sufficient comments.\n",
    "1.  <span style=\"color: blue;\">I grade on both **correctness** and **effort**</span>\n",
    "    - **Suppose you don’t know how to generate a specific variable, then you <span style=\"color: red;\">may use random values (with somewhat reasonable range) to replace the variable</span>. You will lose point for that variable but will get most credit for subsequent questions.**\n",
    "1. Write efficient and clean code\n",
    "    -  No repetitive code (An example of repetitive code: import the same csv file twice).\n",
    "    - Informative variable names (if not specified in the project description).\n",
    "    - Less than 2 uncommented `print`, `.describe()`, or similar quality check in every code cell or every 5 lines of code.\n",
    "    - Every 2 occurrence of inefficient or inclean code will receive **1 point deduction**\n",
    "1. Preserve as many observations as possible\n",
    "    - Losing observations is considered partially incorrect code\n",
    "    - Do not fill NAs\n",
    "1. Include sufficient comments (at least 1 comment every 3 lines of code)\n",
    "      - Failure to include sufficient comments will result in a **5 points** grade deduction\n",
    "1. Format the markdown file such as including headings and brief question description\n",
    "1. Use the methods and formulas **covered in the lecture notebooks**. Using formulas inconsistent to the lecture notebooks receives 20% of grade penalty\n",
    "1. Reasonable code execution time\n",
    "   - The code execution time for this Part should be less than 20 minutes, otherwise **deduct 1 point for every 5 minutes more code execuation time**\n",
    "1. **10% of grade penalty per day late, receive 0% if the project is submitted after Dec 13 11:59 PM ET.**"
   ]
  },
  {
   "cell_type": "code",
   "id": "59e5f521-bfbf-4286-aa82-9beed1cc9c3c",
   "metadata": {
    "ExecuteTime": {
     "end_time": "2024-12-12T03:51:00.633311Z",
     "start_time": "2024-12-12T03:51:00.609391Z"
    }
   },
   "source": [
    "import numpy as np\n",
    "import pandas as pd\n",
    "import datetime as dt\n",
    "import yfinance as yf\n",
    "import scipy.stats as stats \n",
    "import statsmodels.api as sm\n",
    "import pandas_datareader.data as web\n",
    "import seaborn as sns\n",
    "import matplotlib.pyplot as plt\n",
    "%matplotlib inline\n",
    "import time\n",
    "%config InlineBackend.figure_format = 'retina'\n",
    "# Measure execution time\n",
    "start_time_part2 = time.time()  # Start time"
   ],
   "outputs": [],
   "execution_count": 586
  },
  {
   "cell_type": "markdown",
   "id": "041ca27e-cd32-4422-a528-90c3c82f6dc3",
   "metadata": {},
   "source": [
    "## Data preparation (5 points)\n",
    "**Explanation of variables in 'weekly_rets.csv'**\n",
    "\n",
    "- **DATE**: This variable represents the last trading day of each week.\n",
    "- **PERMNO**: This is a unique identifier assigned to each security.\n",
    "- **ret**: the stock's weekly return, expressed as a decimal.\n",
    "  \n",
    "**Explanation of variables in 'monthly_rets_funda.csv'**\n",
    "\n",
    "- **DATE**: This variable represents the last trading day of each month.\n",
    "- **PERMNO**: This is a unique identifier assigned to each security.\n",
    "- **PRC**: reflects the **unadjusted** close price of a stock on the last trading day of the month. This value is the raw closing price without adjustments for corporate actions such as stock splits, dividends, or other modifications.\n",
    "- **RET**: the stock's monthly return, expressed as a decimal. \n",
    "- **SHROUT**: The **shares outstanding** (SHROUT) variable represents the number of shares (in thousands) of a company’s stock that are currently held by all shareholders.\n",
    "- **revenues**:  This variable represents the total revenues for a specific fiscal year. The variable is already 'lagged'."
   ]
  },
  {
   "cell_type": "code",
   "id": "9b467d4a-08dd-47e9-90d4-e4fdc0d2135c",
   "metadata": {
    "ExecuteTime": {
     "end_time": "2024-12-12T03:51:02.247864Z",
     "start_time": "2024-12-12T03:51:00.656639Z"
    }
   },
   "source": [
    "# Write your code in the provided code cell; you can add more cells (same applies below, no further repetition).\n",
    "weekly_rets = pd.read_csv('weekly_rets.csv', parse_dates=['DATE'])\n",
    "monthly_rets = pd.read_csv('monthly_rets_funda.csv', parse_dates=['DATE'])\n",
    "weekly_rets.sort_values(by=['PERMNO', 'DATE'], inplace=True)\n",
    "monthly_rets.sort_values(by=['PERMNO', 'DATE'], inplace=True)\n",
    "mrets_with_signals = monthly_rets.copy()"
   ],
   "outputs": [],
   "execution_count": 587
  },
  {
   "cell_type": "code",
   "id": "c780995f-8387-4f4d-966b-8e65d34e7859",
   "metadata": {
    "ExecuteTime": {
     "end_time": "2024-12-12T03:51:02.287896Z",
     "start_time": "2024-12-12T03:51:02.284881Z"
    }
   },
   "source": [
    "# Evaluation cell (used for grading-I don't have a TA)\n",
    "# you don't need to worry at all if you think certain valuation cell is wrong (same applies below, no further repetition)\n",
    "print(weekly_rets.head())\n",
    "print(monthly_rets.head())"
   ],
   "outputs": [
    {
     "name": "stdout",
     "output_type": "stream",
     "text": [
      "        DATE  PERMNO     ret\n",
      "0 2008-01-04   10001 -0.0283\n",
      "1 2008-01-11   10001 -0.0131\n",
      "2 2008-01-18   10001 -0.0047\n",
      "3 2008-01-25   10001  0.0029\n",
      "4 2008-02-01   10001  0.0269\n",
      "        DATE  PERMNO     PRC     RET    SHROUT  revenues\n",
      "0 2008-01-31   10001 13.9860 -0.0061 2872.1250   84.2780\n",
      "1 2008-02-29   10001  9.4904  0.0217 4340.6550   84.2780\n",
      "2 2008-03-31   10001  8.9560 -0.0525 4342.6530   84.2780\n",
      "3 2008-04-30   10001  8.5914 -0.0367 4342.6530   84.2780\n",
      "4 2008-05-30   10001 10.8891  0.2714 4342.6530   84.2780\n"
     ]
    }
   ],
   "execution_count": 588
  },
  {
   "cell_type": "markdown",
   "id": "d3c10bf2-4271-4529-a87a-c498f7c6906d",
   "metadata": {},
   "source": [
    "## Constructing factors (33 points; 15+8+5+5)"
   ]
  },
  {
   "cell_type": "markdown",
   "id": "ed995e29-4e2d-460f-a18b-5dd8d7a20301",
   "metadata": {},
   "source": [
    "### Create signals  (3*5=15 points)"
   ]
  },
  {
   "cell_type": "markdown",
   "id": "ea3d1af4-f18f-4a88-a28a-6a4365683d45",
   "metadata": {},
   "source": [
    "#### price_to_sales"
   ]
  },
  {
   "cell_type": "code",
   "id": "6a9f60e550d8d948",
   "metadata": {
    "ExecuteTime": {
     "end_time": "2024-12-12T03:51:02.378200Z",
     "start_time": "2024-12-12T03:51:02.373553Z"
    }
   },
   "source": [
    "# revenue is already 'lagged'\n",
    "mrets_with_signals['price_to_sales'] = mrets_with_signals['PRC'] / mrets_with_signals['revenues']"
   ],
   "outputs": [],
   "execution_count": 589
  },
  {
   "cell_type": "code",
   "id": "ea49e69b",
   "metadata": {
    "ExecuteTime": {
     "end_time": "2024-12-12T03:51:02.520165Z",
     "start_time": "2024-12-12T03:51:02.426732Z"
    }
   },
   "source": [
    "# some quality check such as .describe() and print head of key variables\n",
    "print(mrets_with_signals.describe())\n",
    "print(mrets_with_signals.isnull().sum())\n",
    "print(mrets_with_signals.head())"
   ],
   "outputs": [
    {
     "name": "stdout",
     "output_type": "stream",
     "text": [
      "                                DATE      PERMNO         PRC         RET  \\\n",
      "count                         527919 527919.0000 525406.0000 525388.0000   \n",
      "mean   2015-12-02 04:09:19.313076224  58495.6904     37.2192      0.0093   \n",
      "min              2008-01-31 00:00:00  10001.0000      0.0170     -0.9712   \n",
      "25%              2011-09-30 00:00:00  18838.0000      5.1548     -0.0727   \n",
      "50%              2015-10-30 00:00:00  76750.0000     17.0329      0.0020   \n",
      "75%              2020-01-31 00:00:00  87377.0000     41.3087      0.0745   \n",
      "max              2023-12-29 00:00:00  93436.0000   6993.4497     17.5870   \n",
      "std                              NaN  32011.1641    109.5020      0.1989   \n",
      "\n",
      "             SHROUT    revenues  price_to_sales  \n",
      "count   527919.0000 505997.0000     503601.0000  \n",
      "mean    133605.1067   4137.7446          1.8431  \n",
      "min          8.9910  -1964.9990       -165.2757  \n",
      "25%      19541.4390     91.0160          0.0108  \n",
      "50%      42061.8960    504.3860          0.0335  \n",
      "75%      94739.6655   2191.7000          0.1060  \n",
      "max   17085433.4600 569962.0000      34545.4200  \n",
      "std     465194.3605  18021.5979        150.3524  \n",
      "DATE                  0\n",
      "PERMNO                0\n",
      "PRC                2513\n",
      "RET                2531\n",
      "SHROUT                0\n",
      "revenues          21922\n",
      "price_to_sales    24318\n",
      "dtype: int64\n",
      "        DATE  PERMNO     PRC     RET    SHROUT  revenues  price_to_sales\n",
      "0 2008-01-31   10001 13.9860 -0.0061 2872.1250   84.2780          0.1660\n",
      "1 2008-02-29   10001  9.4904  0.0217 4340.6550   84.2780          0.1126\n",
      "2 2008-03-31   10001  8.9560 -0.0525 4342.6530   84.2780          0.1063\n",
      "3 2008-04-30   10001  8.5914 -0.0367 4342.6530   84.2780          0.1019\n",
      "4 2008-05-30   10001 10.8891  0.2714 4342.6530   84.2780          0.1292\n"
     ]
    }
   ],
   "execution_count": 590
  },
  {
   "cell_type": "markdown",
   "id": "3e1cff9f-3b83-41f6-8ce2-a57bfb29034e",
   "metadata": {},
   "source": [
    "#### ret_2to12m"
   ]
  },
  {
   "cell_type": "code",
   "id": "c9dbcbe2a4aa22eb",
   "metadata": {
    "ExecuteTime": {
     "end_time": "2024-12-12T03:51:02.556272Z",
     "start_time": "2024-12-12T03:51:02.551763Z"
    }
   },
   "source": [
    "# Each signal is only worth 3 points. Suppose you don’t know how to generate a specific signal, then you may use random values \n",
    "# (with somewhat reasonable range) to replace the signal. You will lose 3 points but will get most credit for subsequent questions.\n",
    "mrets_with_signals['ret_2to12m'] = (1 + mrets_with_signals['RET']).shift(2) * (1 + mrets_with_signals['RET']).shift(12) - 1"
   ],
   "outputs": [],
   "execution_count": 591
  },
  {
   "cell_type": "code",
   "id": "429640cf-2e85-4923-b5f2-7632ba70999c",
   "metadata": {
    "ExecuteTime": {
     "end_time": "2024-12-12T03:51:02.587328Z",
     "start_time": "2024-12-12T03:51:02.585962Z"
    }
   },
   "source": [
    "# some quality check such as .describe() and print head of key variables\n",
    "\n"
   ],
   "outputs": [],
   "execution_count": 592
  },
  {
   "cell_type": "markdown",
   "id": "960ce557-767f-40de-8f2a-4ed5220998b5",
   "metadata": {},
   "source": [
    "#### ret_2w"
   ]
  },
  {
   "cell_type": "code",
   "id": "b601b4d5-92f3-4e7c-897c-b09f3b555358",
   "metadata": {
    "ExecuteTime": {
     "end_time": "2024-12-12T03:51:03.044574Z",
     "start_time": "2024-12-12T03:51:02.617508Z"
    }
   },
   "source": [
    "# Each signal is only worth 3 points. Suppose you don’t know how to generate a specific signal, then you may use random values \n",
    "# (with somewhat reasonable range) to replace the signal. You will lose 3 points but will get most credit for subsequent questions.\n",
    "\n",
    "temp_weekly_rets = weekly_rets.copy(deep=True)\n",
    "# Ensure ret column exists in weekly_rets\n",
    "temp_weekly_rets['ret'] = temp_weekly_rets['ret'].fillna(0)  # Replace NaNs with 0 for safe return calculations\n",
    "\n",
    "# Calculate ret_2w for each PERMNO\n",
    "temp_weekly_rets['ret_2w'] = (1 + temp_weekly_rets['ret']).shift(1) * (1 + temp_weekly_rets['ret']).shift(2) - 1\n",
    "\n",
    "# Merge ret_2w into mrets_with_signals\n",
    "mrets_with_signals = mrets_with_signals.merge(\n",
    "    temp_weekly_rets[['PERMNO', 'DATE', 'ret_2w']],\n",
    "    on=['PERMNO', 'DATE'],\n",
    "    how='left'\n",
    ")\n",
    "\n",
    "print(mrets_with_signals.head())\n"
   ],
   "outputs": [
    {
     "name": "stdout",
     "output_type": "stream",
     "text": [
      "        DATE  PERMNO     PRC     RET    SHROUT  revenues  price_to_sales  \\\n",
      "0 2008-01-31   10001 13.9860 -0.0061 2872.1250   84.2780          0.1660   \n",
      "1 2008-02-29   10001  9.4904  0.0217 4340.6550   84.2780          0.1126   \n",
      "2 2008-03-31   10001  8.9560 -0.0525 4342.6530   84.2780          0.1063   \n",
      "3 2008-04-30   10001  8.5914 -0.0367 4342.6530   84.2780          0.1019   \n",
      "4 2008-05-30   10001 10.8891  0.2714 4342.6530   84.2780          0.1292   \n",
      "\n",
      "   ret_2to12m  ret_2w  \n",
      "0         NaN     NaN  \n",
      "1         NaN -0.0290  \n",
      "2         NaN     NaN  \n",
      "3         NaN     NaN  \n",
      "4         NaN  0.1708  \n"
     ]
    }
   ],
   "execution_count": 593
  },
  {
   "cell_type": "code",
   "id": "e11f143a-976b-4842-a179-b412590399f5",
   "metadata": {
    "ExecuteTime": {
     "end_time": "2024-12-12T03:51:03.118822Z",
     "start_time": "2024-12-12T03:51:03.102521Z"
    }
   },
   "source": [
    "# some quality check such as .describe() and print head of key variables\n",
    "print(mrets_with_signals.dropna().shape)\n",
    "print(mrets_with_signals.shape)\n"
   ],
   "outputs": [
    {
     "name": "stdout",
     "output_type": "stream",
     "text": [
      "(223675, 9)\n",
      "(527919, 9)\n"
     ]
    }
   ],
   "execution_count": 594
  },
  {
   "cell_type": "markdown",
   "id": "bba36a24-fa15-483a-b9c0-f8d4a76211e2",
   "metadata": {},
   "source": [
    "#### mcap_quarter"
   ]
  },
  {
   "cell_type": "code",
   "id": "c206b089-2fe2-4889-a8c5-5cbef24b9843",
   "metadata": {
    "ExecuteTime": {
     "end_time": "2024-12-12T03:51:03.133461Z",
     "start_time": "2024-12-12T03:51:03.130845Z"
    }
   },
   "source": [
    "# Each signal is only worth 3 points. Suppose you don’t know how to generate a specific signal, then you may use random values \n",
    "# (with somewhat reasonable range) to replace the signal. You will lose 3 points but will get most credit for subsequent questions.\n",
    "mrets_with_signals['mcap_quarter'] = mrets_with_signals['PRC'] * mrets_with_signals['SHROUT']"
   ],
   "outputs": [],
   "execution_count": 595
  },
  {
   "cell_type": "code",
   "id": "ef27961f-cc5a-471e-8c93-6fcc5477407b",
   "metadata": {
    "ExecuteTime": {
     "end_time": "2024-12-12T03:51:03.301503Z",
     "start_time": "2024-12-12T03:51:03.165643Z"
    }
   },
   "source": [
    "# some quality check such as .describe() and print head of key variables\n",
    "print(mrets_with_signals.describe())\n",
    "print(mrets_with_signals.isnull().sum())\n",
    "print(mrets_with_signals.head())"
   ],
   "outputs": [
    {
     "name": "stdout",
     "output_type": "stream",
     "text": [
      "                                DATE      PERMNO         PRC         RET  \\\n",
      "count                         527919 527919.0000 525406.0000 525388.0000   \n",
      "mean   2015-12-02 04:09:19.313076224  58495.6904     37.2192      0.0093   \n",
      "min              2008-01-31 00:00:00  10001.0000      0.0170     -0.9712   \n",
      "25%              2011-09-30 00:00:00  18838.0000      5.1548     -0.0727   \n",
      "50%              2015-10-30 00:00:00  76750.0000     17.0329      0.0020   \n",
      "75%              2020-01-31 00:00:00  87377.0000     41.3087      0.0745   \n",
      "max              2023-12-29 00:00:00  93436.0000   6993.4497     17.5870   \n",
      "std                              NaN  32011.1641    109.5020      0.1989   \n",
      "\n",
      "             SHROUT    revenues  price_to_sales  ret_2to12m      ret_2w  \\\n",
      "count   527919.0000 505997.0000     503601.0000 522860.0000 235726.0000   \n",
      "mean    133605.1067   4137.7446          1.8431      0.0191     -0.0001   \n",
      "min          8.9910  -1964.9990       -165.2757     -0.9729     -0.9545   \n",
      "25%      19541.4390     91.0160          0.0108     -0.1097     -0.0468   \n",
      "50%      42061.8960    504.3860          0.0335      0.0043      0.0003   \n",
      "75%      94739.6655   2191.7000          0.1060      0.1161      0.0437   \n",
      "max   17085433.4600 569962.0000      34545.4200     25.2589      7.5932   \n",
      "std     465194.3605  18021.5979        150.3524      0.2823      0.1284   \n",
      "\n",
      "         mcap_quarter  \n",
      "count     525406.0000  \n",
      "mean     7108534.0376  \n",
      "min           88.1584  \n",
      "25%       124655.7490  \n",
      "50%       630442.7357  \n",
      "75%      2908813.5024  \n",
      "max   3065205258.3846  \n",
      "std     44099771.7926  \n",
      "DATE                   0\n",
      "PERMNO                 0\n",
      "PRC                 2513\n",
      "RET                 2531\n",
      "SHROUT                 0\n",
      "revenues           21922\n",
      "price_to_sales     24318\n",
      "ret_2to12m          5059\n",
      "ret_2w            292193\n",
      "mcap_quarter        2513\n",
      "dtype: int64\n",
      "        DATE  PERMNO     PRC     RET    SHROUT  revenues  price_to_sales  \\\n",
      "0 2008-01-31   10001 13.9860 -0.0061 2872.1250   84.2780          0.1660   \n",
      "1 2008-02-29   10001  9.4904  0.0217 4340.6550   84.2780          0.1126   \n",
      "2 2008-03-31   10001  8.9560 -0.0525 4342.6530   84.2780          0.1063   \n",
      "3 2008-04-30   10001  8.5914 -0.0367 4342.6530   84.2780          0.1019   \n",
      "4 2008-05-30   10001 10.8891  0.2714 4342.6530   84.2780          0.1292   \n",
      "\n",
      "   ret_2to12m  ret_2w  mcap_quarter  \n",
      "0         NaN     NaN    40169.5403  \n",
      "1         NaN -0.0290    41194.5526  \n",
      "2         NaN     NaN    38892.9523  \n",
      "3         NaN     NaN    37309.4690  \n",
      "4         NaN  0.1708    47287.5828  \n"
     ]
    }
   ],
   "execution_count": 596
  },
  {
   "cell_type": "markdown",
   "id": "5baf15f1-b623-419c-b2be-25fa6d7cbc25",
   "metadata": {},
   "source": [
    "#### beta"
   ]
  },
  {
   "cell_type": "code",
   "id": "5f02c4b7",
   "metadata": {
    "ExecuteTime": {
     "end_time": "2024-12-12T03:51:06.721905Z",
     "start_time": "2024-12-12T03:51:03.332251Z"
    }
   },
   "source": [
    "temp_weekly_rets = weekly_rets.copy(deep=True)\n",
    "temp_weekly_rets['market_ret'] = temp_weekly_rets['ret']  # Replace this with actual market proxy\n",
    "\n",
    "# Calculate rolling beta for each PERMNO over a 52-week window\n",
    "def calculate_beta(group):\n",
    "    # Covariance and variance rolling calculations\n",
    "    rolling_cov = group['ret'].rolling(window=52, min_periods=24).cov(group['market_ret'])\n",
    "    rolling_var = group['market_ret'].rolling(window=52, min_periods=24).var()\n",
    "    return rolling_cov / rolling_var\n",
    "\n",
    "# Add beta to weekly_rets\n",
    "temp_weekly_rets['beta'] = temp_weekly_rets.groupby('PERMNO').apply(calculate_beta).reset_index(level=0, drop=True)\n",
    "\n",
    "# Merge beta into mrets_with_signals\n",
    "mrets_with_signals = mrets_with_signals.merge(\n",
    "    temp_weekly_rets[['PERMNO', 'DATE', 'beta']],\n",
    "    on=['PERMNO', 'DATE'],\n",
    "    how='left'\n",
    ")\n"
   ],
   "outputs": [],
   "execution_count": 597
  },
  {
   "cell_type": "code",
   "id": "51100750-9fd9-4081-968c-457db22b80b9",
   "metadata": {
    "ExecuteTime": {
     "end_time": "2024-12-12T03:51:06.757732Z",
     "start_time": "2024-12-12T03:51:06.752274Z"
    }
   },
   "source": [
    "# some quality check such as .describe() and print head of key variables\n",
    "\n",
    "mrets_with_signals[\"beta\"].value_counts()"
   ],
   "outputs": [
    {
     "data": {
      "text/plain": [
       "beta\n",
       "1.0000    19932\n",
       "1.0000    16985\n",
       "1.0000    12745\n",
       "1.0000    11432\n",
       "1.0000     9051\n",
       "          ...  \n",
       "1.0000        1\n",
       "1.0000        1\n",
       "1.0000        1\n",
       "1.0000        1\n",
       "1.0000        1\n",
       "Name: count, Length: 798, dtype: int64"
      ]
     },
     "execution_count": 598,
     "metadata": {},
     "output_type": "execute_result"
    }
   ],
   "execution_count": 598
  },
  {
   "cell_type": "code",
   "id": "8711c13d",
   "metadata": {
    "ExecuteTime": {
     "end_time": "2024-12-12T03:51:06.826982Z",
     "start_time": "2024-12-12T03:51:06.805103Z"
    }
   },
   "source": [
    "print(mrets_with_signals.dropna().shape)\n",
    "print(mrets_with_signals.shape)\n"
   ],
   "outputs": [
    {
     "name": "stdout",
     "output_type": "stream",
     "text": [
      "(219097, 11)\n",
      "(527919, 11)\n"
     ]
    }
   ],
   "execution_count": 599
  },
  {
   "cell_type": "code",
   "id": "38eb6342-9b21-41c0-ac52-ad3b709d8be3",
   "metadata": {
    "scrolled": true,
    "ExecuteTime": {
     "end_time": "2024-12-12T03:51:06.973280Z",
     "start_time": "2024-12-12T03:51:06.851892Z"
    }
   },
   "source": [
    "#############################################################################################################################\n",
    "# Evaluation cell (used for grading-I don't have a TA)\n",
    "#############################################################################################################################\n",
    "some_vars = ['PERMNO','RET']+['price_to_sales', 'ret_2to12m', 'ret_2w', 'mcap_quarter', 'beta']\n",
    "print(mrets_with_signals[some_vars].head())\n",
    "mrets_with_signals[some_vars].describe()"
   ],
   "outputs": [
    {
     "name": "stdout",
     "output_type": "stream",
     "text": [
      "   PERMNO     RET  price_to_sales  ret_2to12m  ret_2w  mcap_quarter  beta\n",
      "0   10001 -0.0061          0.1660         NaN     NaN    40169.5403   NaN\n",
      "1   10001  0.0217          0.1126         NaN -0.0290    41194.5526   NaN\n",
      "2   10001 -0.0525          0.1063         NaN     NaN    38892.9523   NaN\n",
      "3   10001 -0.0367          0.1019         NaN     NaN    37309.4690   NaN\n",
      "4   10001  0.2714          0.1292         NaN  0.1708    47287.5828   NaN\n"
     ]
    },
    {
     "data": {
      "text/plain": [
       "           PERMNO         RET  price_to_sales  ret_2to12m      ret_2w  \\\n",
       "count 527919.0000 525388.0000     503601.0000 522860.0000 235726.0000   \n",
       "mean   58495.6904      0.0093          1.8431      0.0191     -0.0001   \n",
       "std    32011.1641      0.1989        150.3524      0.2823      0.1284   \n",
       "min    10001.0000     -0.9712       -165.2757     -0.9729     -0.9545   \n",
       "25%    18838.0000     -0.0727          0.0108     -0.1097     -0.0468   \n",
       "50%    76750.0000      0.0020          0.0335      0.0043      0.0003   \n",
       "75%    87377.0000      0.0745          0.1060      0.1161      0.0437   \n",
       "max    93436.0000     17.5870      34545.4200     25.2589      7.5932   \n",
       "\n",
       "         mcap_quarter        beta  \n",
       "count     525406.0000 229562.0000  \n",
       "mean     7108534.0376      1.0000  \n",
       "std     44099771.7926      0.0000  \n",
       "min           88.1584      1.0000  \n",
       "25%       124655.7490      1.0000  \n",
       "50%       630442.7357      1.0000  \n",
       "75%      2908813.5024      1.0000  \n",
       "max   3065205258.3846      1.0000  "
      ],
      "text/html": [
       "<div>\n",
       "<style scoped>\n",
       "    .dataframe tbody tr th:only-of-type {\n",
       "        vertical-align: middle;\n",
       "    }\n",
       "\n",
       "    .dataframe tbody tr th {\n",
       "        vertical-align: top;\n",
       "    }\n",
       "\n",
       "    .dataframe thead th {\n",
       "        text-align: right;\n",
       "    }\n",
       "</style>\n",
       "<table border=\"1\" class=\"dataframe\">\n",
       "  <thead>\n",
       "    <tr style=\"text-align: right;\">\n",
       "      <th></th>\n",
       "      <th>PERMNO</th>\n",
       "      <th>RET</th>\n",
       "      <th>price_to_sales</th>\n",
       "      <th>ret_2to12m</th>\n",
       "      <th>ret_2w</th>\n",
       "      <th>mcap_quarter</th>\n",
       "      <th>beta</th>\n",
       "    </tr>\n",
       "  </thead>\n",
       "  <tbody>\n",
       "    <tr>\n",
       "      <th>count</th>\n",
       "      <td>527919.0000</td>\n",
       "      <td>525388.0000</td>\n",
       "      <td>503601.0000</td>\n",
       "      <td>522860.0000</td>\n",
       "      <td>235726.0000</td>\n",
       "      <td>525406.0000</td>\n",
       "      <td>229562.0000</td>\n",
       "    </tr>\n",
       "    <tr>\n",
       "      <th>mean</th>\n",
       "      <td>58495.6904</td>\n",
       "      <td>0.0093</td>\n",
       "      <td>1.8431</td>\n",
       "      <td>0.0191</td>\n",
       "      <td>-0.0001</td>\n",
       "      <td>7108534.0376</td>\n",
       "      <td>1.0000</td>\n",
       "    </tr>\n",
       "    <tr>\n",
       "      <th>std</th>\n",
       "      <td>32011.1641</td>\n",
       "      <td>0.1989</td>\n",
       "      <td>150.3524</td>\n",
       "      <td>0.2823</td>\n",
       "      <td>0.1284</td>\n",
       "      <td>44099771.7926</td>\n",
       "      <td>0.0000</td>\n",
       "    </tr>\n",
       "    <tr>\n",
       "      <th>min</th>\n",
       "      <td>10001.0000</td>\n",
       "      <td>-0.9712</td>\n",
       "      <td>-165.2757</td>\n",
       "      <td>-0.9729</td>\n",
       "      <td>-0.9545</td>\n",
       "      <td>88.1584</td>\n",
       "      <td>1.0000</td>\n",
       "    </tr>\n",
       "    <tr>\n",
       "      <th>25%</th>\n",
       "      <td>18838.0000</td>\n",
       "      <td>-0.0727</td>\n",
       "      <td>0.0108</td>\n",
       "      <td>-0.1097</td>\n",
       "      <td>-0.0468</td>\n",
       "      <td>124655.7490</td>\n",
       "      <td>1.0000</td>\n",
       "    </tr>\n",
       "    <tr>\n",
       "      <th>50%</th>\n",
       "      <td>76750.0000</td>\n",
       "      <td>0.0020</td>\n",
       "      <td>0.0335</td>\n",
       "      <td>0.0043</td>\n",
       "      <td>0.0003</td>\n",
       "      <td>630442.7357</td>\n",
       "      <td>1.0000</td>\n",
       "    </tr>\n",
       "    <tr>\n",
       "      <th>75%</th>\n",
       "      <td>87377.0000</td>\n",
       "      <td>0.0745</td>\n",
       "      <td>0.1060</td>\n",
       "      <td>0.1161</td>\n",
       "      <td>0.0437</td>\n",
       "      <td>2908813.5024</td>\n",
       "      <td>1.0000</td>\n",
       "    </tr>\n",
       "    <tr>\n",
       "      <th>max</th>\n",
       "      <td>93436.0000</td>\n",
       "      <td>17.5870</td>\n",
       "      <td>34545.4200</td>\n",
       "      <td>25.2589</td>\n",
       "      <td>7.5932</td>\n",
       "      <td>3065205258.3846</td>\n",
       "      <td>1.0000</td>\n",
       "    </tr>\n",
       "  </tbody>\n",
       "</table>\n",
       "</div>"
      ]
     },
     "execution_count": 600,
     "metadata": {},
     "output_type": "execute_result"
    }
   ],
   "execution_count": 600
  },
  {
   "cell_type": "code",
   "id": "f4b8de12-f276-4f99-b8f5-986f69ab56e5",
   "metadata": {
    "ExecuteTime": {
     "end_time": "2024-12-12T03:51:07.025683Z",
     "start_time": "2024-12-12T03:51:07.021433Z"
    }
   },
   "source": [
    "# Evaluation cell (used for grading-I don't have a TA)\n",
    "mrets_with_signals.head()"
   ],
   "outputs": [
    {
     "data": {
      "text/plain": [
       "        DATE  PERMNO     PRC     RET    SHROUT  revenues  price_to_sales  \\\n",
       "0 2008-01-31   10001 13.9860 -0.0061 2872.1250   84.2780          0.1660   \n",
       "1 2008-02-29   10001  9.4904  0.0217 4340.6550   84.2780          0.1126   \n",
       "2 2008-03-31   10001  8.9560 -0.0525 4342.6530   84.2780          0.1063   \n",
       "3 2008-04-30   10001  8.5914 -0.0367 4342.6530   84.2780          0.1019   \n",
       "4 2008-05-30   10001 10.8891  0.2714 4342.6530   84.2780          0.1292   \n",
       "\n",
       "   ret_2to12m  ret_2w  mcap_quarter  beta  \n",
       "0         NaN     NaN    40169.5403   NaN  \n",
       "1         NaN -0.0290    41194.5526   NaN  \n",
       "2         NaN     NaN    38892.9523   NaN  \n",
       "3         NaN     NaN    37309.4690   NaN  \n",
       "4         NaN  0.1708    47287.5828   NaN  "
      ],
      "text/html": [
       "<div>\n",
       "<style scoped>\n",
       "    .dataframe tbody tr th:only-of-type {\n",
       "        vertical-align: middle;\n",
       "    }\n",
       "\n",
       "    .dataframe tbody tr th {\n",
       "        vertical-align: top;\n",
       "    }\n",
       "\n",
       "    .dataframe thead th {\n",
       "        text-align: right;\n",
       "    }\n",
       "</style>\n",
       "<table border=\"1\" class=\"dataframe\">\n",
       "  <thead>\n",
       "    <tr style=\"text-align: right;\">\n",
       "      <th></th>\n",
       "      <th>DATE</th>\n",
       "      <th>PERMNO</th>\n",
       "      <th>PRC</th>\n",
       "      <th>RET</th>\n",
       "      <th>SHROUT</th>\n",
       "      <th>revenues</th>\n",
       "      <th>price_to_sales</th>\n",
       "      <th>ret_2to12m</th>\n",
       "      <th>ret_2w</th>\n",
       "      <th>mcap_quarter</th>\n",
       "      <th>beta</th>\n",
       "    </tr>\n",
       "  </thead>\n",
       "  <tbody>\n",
       "    <tr>\n",
       "      <th>0</th>\n",
       "      <td>2008-01-31</td>\n",
       "      <td>10001</td>\n",
       "      <td>13.9860</td>\n",
       "      <td>-0.0061</td>\n",
       "      <td>2872.1250</td>\n",
       "      <td>84.2780</td>\n",
       "      <td>0.1660</td>\n",
       "      <td>NaN</td>\n",
       "      <td>NaN</td>\n",
       "      <td>40169.5403</td>\n",
       "      <td>NaN</td>\n",
       "    </tr>\n",
       "    <tr>\n",
       "      <th>1</th>\n",
       "      <td>2008-02-29</td>\n",
       "      <td>10001</td>\n",
       "      <td>9.4904</td>\n",
       "      <td>0.0217</td>\n",
       "      <td>4340.6550</td>\n",
       "      <td>84.2780</td>\n",
       "      <td>0.1126</td>\n",
       "      <td>NaN</td>\n",
       "      <td>-0.0290</td>\n",
       "      <td>41194.5526</td>\n",
       "      <td>NaN</td>\n",
       "    </tr>\n",
       "    <tr>\n",
       "      <th>2</th>\n",
       "      <td>2008-03-31</td>\n",
       "      <td>10001</td>\n",
       "      <td>8.9560</td>\n",
       "      <td>-0.0525</td>\n",
       "      <td>4342.6530</td>\n",
       "      <td>84.2780</td>\n",
       "      <td>0.1063</td>\n",
       "      <td>NaN</td>\n",
       "      <td>NaN</td>\n",
       "      <td>38892.9523</td>\n",
       "      <td>NaN</td>\n",
       "    </tr>\n",
       "    <tr>\n",
       "      <th>3</th>\n",
       "      <td>2008-04-30</td>\n",
       "      <td>10001</td>\n",
       "      <td>8.5914</td>\n",
       "      <td>-0.0367</td>\n",
       "      <td>4342.6530</td>\n",
       "      <td>84.2780</td>\n",
       "      <td>0.1019</td>\n",
       "      <td>NaN</td>\n",
       "      <td>NaN</td>\n",
       "      <td>37309.4690</td>\n",
       "      <td>NaN</td>\n",
       "    </tr>\n",
       "    <tr>\n",
       "      <th>4</th>\n",
       "      <td>2008-05-30</td>\n",
       "      <td>10001</td>\n",
       "      <td>10.8891</td>\n",
       "      <td>0.2714</td>\n",
       "      <td>4342.6530</td>\n",
       "      <td>84.2780</td>\n",
       "      <td>0.1292</td>\n",
       "      <td>NaN</td>\n",
       "      <td>0.1708</td>\n",
       "      <td>47287.5828</td>\n",
       "      <td>NaN</td>\n",
       "    </tr>\n",
       "  </tbody>\n",
       "</table>\n",
       "</div>"
      ]
     },
     "execution_count": 601,
     "metadata": {},
     "output_type": "execute_result"
    }
   ],
   "execution_count": 601
  },
  {
   "cell_type": "markdown",
   "id": "d1b60194-eedc-4632-a7b4-c44d1ecec002",
   "metadata": {},
   "source": [
    "### Form time-series portfolios (8 points) "
   ]
  },
  {
   "cell_type": "code",
   "id": "e0a75b44-0a5a-4639-bb09-925b28ed95da",
   "metadata": {
    "ExecuteTime": {
     "end_time": "2024-12-12T03:51:07.085303Z",
     "start_time": "2024-12-12T03:51:07.082023Z"
    }
   },
   "source": [
    "def calculate_quintile_portfolios(data, signal_col):\n",
    "    \"\"\"\n",
    "    Calculate equal-weighted quintile portfolios and long-short factor.\n",
    "    Args:\n",
    "        data: DataFrame with `DATE`, `PERMNO`, `RET`, and signal_col.\n",
    "        signal_col: The column name for the signal to form quintiles.\n",
    "    Returns:\n",
    "        DataFrame with quintile portfolio returns and long-short factor.\n",
    "    \"\"\"\n",
    "    quintiles = []\n",
    "    for date, group in data.groupby('DATE'):\n",
    "        # Check if the group has enough unique values for quintiles\n",
    "        if group[signal_col].nunique() < 5:\n",
    "            print(f\"Skipping {date}: Not enough unique values for quintiles.\")\n",
    "            continue\n",
    "\n",
    "        try:\n",
    "            # Assign quintiles based on the signal, dropping duplicate edges\n",
    "            group['quintile'] = pd.qcut(group[signal_col], 5, labels=[1, 2, 3, 4, 5], duplicates='drop')\n",
    "        except ValueError as e:\n",
    "            print(f\"Error processing {date}: {e}\")\n",
    "            continue\n",
    "\n",
    "        # Calculate equal-weighted returns for each quintile\n",
    "        quintile_returns = group.groupby('quintile')['RET'].mean()\n",
    "        quintile_returns['long_short'] = quintile_returns[5] - quintile_returns[1]\n",
    "\n",
    "        # Store the result\n",
    "        quintiles.append(pd.Series(quintile_returns, name=date))\n",
    "\n",
    "    # Combine results into a single DataFrame\n",
    "    quintile_df = pd.DataFrame(quintiles).sort_index()\n",
    "    return quintile_df"
   ],
   "outputs": [],
   "execution_count": 602
  },
  {
   "cell_type": "code",
   "id": "1b5ae713",
   "metadata": {
    "ExecuteTime": {
     "end_time": "2024-12-12T03:51:08.079238Z",
     "start_time": "2024-12-12T03:51:07.126004Z"
    }
   },
   "source": [
    "# Signals to evaluate\n",
    "signals = {\n",
    "    'value': 'price_to_sales',\n",
    "    'momentum': 'ret_2to12m',\n",
    "    'reversal': 'ret_2w',\n",
    "    'size': 'mcap_quarter',\n",
    "    'beta': 'beta'\n",
    "}\n",
    "\n",
    "# Create DataFrames for each signal\n",
    "results = {}\n",
    "for signal_name, signal_col in signals.items():\n",
    "    print(f\"Processing signal: {signal_name}\")\n",
    "    results[f\"{signal_name}_df\"] = calculate_quintile_portfolios(mrets_with_signals, signal_col)\n"
   ],
   "outputs": [
    {
     "name": "stdout",
     "output_type": "stream",
     "text": [
      "Processing signal: value\n",
      "Processing signal: momentum\n",
      "Processing signal: reversal\n",
      "Skipping 2008-01-31 00:00:00: Not enough unique values for quintiles.\n",
      "Skipping 2008-03-31 00:00:00: Not enough unique values for quintiles.\n",
      "Skipping 2008-04-30 00:00:00: Not enough unique values for quintiles.\n",
      "Skipping 2008-06-30 00:00:00: Not enough unique values for quintiles.\n",
      "Skipping 2008-07-31 00:00:00: Not enough unique values for quintiles.\n",
      "Skipping 2008-09-30 00:00:00: Not enough unique values for quintiles.\n",
      "Skipping 2008-12-31 00:00:00: Not enough unique values for quintiles.\n",
      "Skipping 2009-03-31 00:00:00: Not enough unique values for quintiles.\n",
      "Skipping 2009-04-30 00:00:00: Not enough unique values for quintiles.\n",
      "Skipping 2009-06-30 00:00:00: Not enough unique values for quintiles.\n",
      "Skipping 2009-08-31 00:00:00: Not enough unique values for quintiles.\n",
      "Skipping 2009-09-30 00:00:00: Not enough unique values for quintiles.\n",
      "Skipping 2009-11-30 00:00:00: Not enough unique values for quintiles.\n",
      "Skipping 2010-03-31 00:00:00: Not enough unique values for quintiles.\n",
      "Skipping 2010-06-30 00:00:00: Not enough unique values for quintiles.\n",
      "Skipping 2010-08-31 00:00:00: Not enough unique values for quintiles.\n",
      "Skipping 2010-09-30 00:00:00: Not enough unique values for quintiles.\n",
      "Skipping 2010-11-30 00:00:00: Not enough unique values for quintiles.\n",
      "Skipping 2011-01-31 00:00:00: Not enough unique values for quintiles.\n",
      "Skipping 2011-02-28 00:00:00: Not enough unique values for quintiles.\n",
      "Skipping 2011-03-31 00:00:00: Not enough unique values for quintiles.\n",
      "Skipping 2011-05-31 00:00:00: Not enough unique values for quintiles.\n",
      "Skipping 2011-06-30 00:00:00: Not enough unique values for quintiles.\n",
      "Skipping 2011-08-31 00:00:00: Not enough unique values for quintiles.\n",
      "Skipping 2011-10-31 00:00:00: Not enough unique values for quintiles.\n",
      "Skipping 2011-11-30 00:00:00: Not enough unique values for quintiles.\n",
      "Skipping 2012-01-31 00:00:00: Not enough unique values for quintiles.\n",
      "Skipping 2012-02-29 00:00:00: Not enough unique values for quintiles.\n",
      "Skipping 2012-04-30 00:00:00: Not enough unique values for quintiles.\n",
      "Skipping 2012-05-31 00:00:00: Not enough unique values for quintiles.\n",
      "Skipping 2012-07-31 00:00:00: Not enough unique values for quintiles.\n",
      "Skipping 2012-10-31 00:00:00: Not enough unique values for quintiles.\n",
      "Skipping 2012-12-31 00:00:00: Not enough unique values for quintiles.\n",
      "Skipping 2013-01-31 00:00:00: Not enough unique values for quintiles.\n",
      "Skipping 2013-02-28 00:00:00: Not enough unique values for quintiles.\n",
      "Skipping 2013-04-30 00:00:00: Not enough unique values for quintiles.\n",
      "Skipping 2013-07-31 00:00:00: Not enough unique values for quintiles.\n",
      "Skipping 2013-09-30 00:00:00: Not enough unique values for quintiles.\n",
      "Skipping 2013-10-31 00:00:00: Not enough unique values for quintiles.\n",
      "Skipping 2013-12-31 00:00:00: Not enough unique values for quintiles.\n",
      "Skipping 2014-03-31 00:00:00: Not enough unique values for quintiles.\n",
      "Skipping 2014-04-30 00:00:00: Not enough unique values for quintiles.\n",
      "Skipping 2014-06-30 00:00:00: Not enough unique values for quintiles.\n",
      "Skipping 2014-07-31 00:00:00: Not enough unique values for quintiles.\n",
      "Skipping 2014-09-30 00:00:00: Not enough unique values for quintiles.\n",
      "Skipping 2014-12-31 00:00:00: Not enough unique values for quintiles.\n",
      "Skipping 2015-03-31 00:00:00: Not enough unique values for quintiles.\n",
      "Skipping 2015-04-30 00:00:00: Not enough unique values for quintiles.\n",
      "Skipping 2015-06-30 00:00:00: Not enough unique values for quintiles.\n",
      "Skipping 2015-08-31 00:00:00: Not enough unique values for quintiles.\n",
      "Skipping 2015-09-30 00:00:00: Not enough unique values for quintiles.\n",
      "Skipping 2015-11-30 00:00:00: Not enough unique values for quintiles.\n",
      "Skipping 2016-02-29 00:00:00: Not enough unique values for quintiles.\n",
      "Skipping 2016-03-31 00:00:00: Not enough unique values for quintiles.\n",
      "Skipping 2016-05-31 00:00:00: Not enough unique values for quintiles.\n",
      "Skipping 2016-08-31 00:00:00: Not enough unique values for quintiles.\n",
      "Skipping 2016-10-31 00:00:00: Not enough unique values for quintiles.\n",
      "Skipping 2016-11-30 00:00:00: Not enough unique values for quintiles.\n",
      "Skipping 2017-01-31 00:00:00: Not enough unique values for quintiles.\n",
      "Skipping 2017-02-28 00:00:00: Not enough unique values for quintiles.\n",
      "Skipping 2017-05-31 00:00:00: Not enough unique values for quintiles.\n",
      "Skipping 2017-07-31 00:00:00: Not enough unique values for quintiles.\n",
      "Skipping 2017-08-31 00:00:00: Not enough unique values for quintiles.\n",
      "Skipping 2017-10-31 00:00:00: Not enough unique values for quintiles.\n",
      "Skipping 2017-11-30 00:00:00: Not enough unique values for quintiles.\n",
      "Skipping 2018-01-31 00:00:00: Not enough unique values for quintiles.\n",
      "Skipping 2018-02-28 00:00:00: Not enough unique values for quintiles.\n",
      "Skipping 2018-04-30 00:00:00: Not enough unique values for quintiles.\n",
      "Skipping 2018-05-31 00:00:00: Not enough unique values for quintiles.\n",
      "Skipping 2018-07-31 00:00:00: Not enough unique values for quintiles.\n",
      "Skipping 2018-10-31 00:00:00: Not enough unique values for quintiles.\n",
      "Skipping 2018-12-31 00:00:00: Not enough unique values for quintiles.\n",
      "Skipping 2019-01-31 00:00:00: Not enough unique values for quintiles.\n",
      "Skipping 2019-02-28 00:00:00: Not enough unique values for quintiles.\n",
      "Skipping 2019-04-30 00:00:00: Not enough unique values for quintiles.\n",
      "Skipping 2019-07-31 00:00:00: Not enough unique values for quintiles.\n",
      "Skipping 2019-09-30 00:00:00: Not enough unique values for quintiles.\n",
      "Skipping 2019-10-31 00:00:00: Not enough unique values for quintiles.\n",
      "Skipping 2019-12-31 00:00:00: Not enough unique values for quintiles.\n",
      "Skipping 2020-03-31 00:00:00: Not enough unique values for quintiles.\n",
      "Skipping 2020-04-30 00:00:00: Not enough unique values for quintiles.\n",
      "Skipping 2020-06-30 00:00:00: Not enough unique values for quintiles.\n",
      "Skipping 2020-08-31 00:00:00: Not enough unique values for quintiles.\n",
      "Skipping 2020-09-30 00:00:00: Not enough unique values for quintiles.\n",
      "Skipping 2020-11-30 00:00:00: Not enough unique values for quintiles.\n",
      "Skipping 2021-03-31 00:00:00: Not enough unique values for quintiles.\n",
      "Skipping 2021-06-30 00:00:00: Not enough unique values for quintiles.\n",
      "Skipping 2021-08-31 00:00:00: Not enough unique values for quintiles.\n",
      "Skipping 2021-09-30 00:00:00: Not enough unique values for quintiles.\n",
      "Skipping 2021-11-30 00:00:00: Not enough unique values for quintiles.\n",
      "Skipping 2022-01-31 00:00:00: Not enough unique values for quintiles.\n",
      "Skipping 2022-02-28 00:00:00: Not enough unique values for quintiles.\n",
      "Skipping 2022-03-31 00:00:00: Not enough unique values for quintiles.\n",
      "Skipping 2022-05-31 00:00:00: Not enough unique values for quintiles.\n",
      "Skipping 2022-06-30 00:00:00: Not enough unique values for quintiles.\n",
      "Skipping 2022-08-31 00:00:00: Not enough unique values for quintiles.\n",
      "Skipping 2022-10-31 00:00:00: Not enough unique values for quintiles.\n",
      "Skipping 2022-11-30 00:00:00: Not enough unique values for quintiles.\n",
      "Skipping 2023-01-31 00:00:00: Not enough unique values for quintiles.\n",
      "Skipping 2023-02-28 00:00:00: Not enough unique values for quintiles.\n",
      "Skipping 2023-05-31 00:00:00: Not enough unique values for quintiles.\n",
      "Skipping 2023-07-31 00:00:00: Not enough unique values for quintiles.\n",
      "Skipping 2023-08-31 00:00:00: Not enough unique values for quintiles.\n",
      "Skipping 2023-10-31 00:00:00: Not enough unique values for quintiles.\n",
      "Skipping 2023-11-30 00:00:00: Not enough unique values for quintiles.\n",
      "Processing signal: size\n",
      "Processing signal: beta\n",
      "Skipping 2008-01-31 00:00:00: Not enough unique values for quintiles.\n",
      "Skipping 2008-02-29 00:00:00: Not enough unique values for quintiles.\n",
      "Skipping 2008-03-31 00:00:00: Not enough unique values for quintiles.\n",
      "Skipping 2008-04-30 00:00:00: Not enough unique values for quintiles.\n",
      "Skipping 2008-05-30 00:00:00: Not enough unique values for quintiles.\n",
      "Skipping 2008-06-30 00:00:00: Not enough unique values for quintiles.\n",
      "Skipping 2008-07-31 00:00:00: Not enough unique values for quintiles.\n",
      "Error processing 2008-08-29 00:00:00: Bin labels must be one fewer than the number of bin edges\n",
      "Skipping 2008-09-30 00:00:00: Not enough unique values for quintiles.\n",
      "Error processing 2008-10-31 00:00:00: Bin labels must be one fewer than the number of bin edges\n",
      "Error processing 2008-11-28 00:00:00: Bin labels must be one fewer than the number of bin edges\n",
      "Skipping 2008-12-31 00:00:00: Not enough unique values for quintiles.\n",
      "Skipping 2009-03-31 00:00:00: Not enough unique values for quintiles.\n",
      "Skipping 2009-04-30 00:00:00: Not enough unique values for quintiles.\n",
      "Skipping 2009-06-30 00:00:00: Not enough unique values for quintiles.\n",
      "Skipping 2009-08-31 00:00:00: Not enough unique values for quintiles.\n",
      "Skipping 2009-09-30 00:00:00: Not enough unique values for quintiles.\n",
      "Skipping 2009-11-30 00:00:00: Not enough unique values for quintiles.\n",
      "Skipping 2010-03-31 00:00:00: Not enough unique values for quintiles.\n",
      "Skipping 2010-06-30 00:00:00: Not enough unique values for quintiles.\n",
      "Skipping 2010-08-31 00:00:00: Not enough unique values for quintiles.\n",
      "Skipping 2010-09-30 00:00:00: Not enough unique values for quintiles.\n",
      "Skipping 2010-11-30 00:00:00: Not enough unique values for quintiles.\n",
      "Skipping 2011-01-31 00:00:00: Not enough unique values for quintiles.\n",
      "Skipping 2011-02-28 00:00:00: Not enough unique values for quintiles.\n",
      "Skipping 2011-03-31 00:00:00: Not enough unique values for quintiles.\n",
      "Skipping 2011-05-31 00:00:00: Not enough unique values for quintiles.\n",
      "Skipping 2011-06-30 00:00:00: Not enough unique values for quintiles.\n",
      "Skipping 2011-08-31 00:00:00: Not enough unique values for quintiles.\n",
      "Skipping 2011-10-31 00:00:00: Not enough unique values for quintiles.\n",
      "Skipping 2011-11-30 00:00:00: Not enough unique values for quintiles.\n",
      "Skipping 2012-01-31 00:00:00: Not enough unique values for quintiles.\n",
      "Skipping 2012-02-29 00:00:00: Not enough unique values for quintiles.\n",
      "Skipping 2012-04-30 00:00:00: Not enough unique values for quintiles.\n",
      "Skipping 2012-05-31 00:00:00: Not enough unique values for quintiles.\n",
      "Skipping 2012-07-31 00:00:00: Not enough unique values for quintiles.\n",
      "Skipping 2012-10-31 00:00:00: Not enough unique values for quintiles.\n",
      "Skipping 2012-12-31 00:00:00: Not enough unique values for quintiles.\n",
      "Skipping 2013-01-31 00:00:00: Not enough unique values for quintiles.\n",
      "Skipping 2013-02-28 00:00:00: Not enough unique values for quintiles.\n",
      "Skipping 2013-04-30 00:00:00: Not enough unique values for quintiles.\n",
      "Skipping 2013-07-31 00:00:00: Not enough unique values for quintiles.\n",
      "Skipping 2013-09-30 00:00:00: Not enough unique values for quintiles.\n",
      "Skipping 2013-10-31 00:00:00: Not enough unique values for quintiles.\n",
      "Skipping 2013-12-31 00:00:00: Not enough unique values for quintiles.\n",
      "Skipping 2014-03-31 00:00:00: Not enough unique values for quintiles.\n",
      "Skipping 2014-04-30 00:00:00: Not enough unique values for quintiles.\n",
      "Skipping 2014-06-30 00:00:00: Not enough unique values for quintiles.\n",
      "Skipping 2014-07-31 00:00:00: Not enough unique values for quintiles.\n",
      "Skipping 2014-09-30 00:00:00: Not enough unique values for quintiles.\n",
      "Skipping 2014-12-31 00:00:00: Not enough unique values for quintiles.\n",
      "Skipping 2015-03-31 00:00:00: Not enough unique values for quintiles.\n",
      "Skipping 2015-04-30 00:00:00: Not enough unique values for quintiles.\n",
      "Skipping 2015-06-30 00:00:00: Not enough unique values for quintiles.\n",
      "Skipping 2015-08-31 00:00:00: Not enough unique values for quintiles.\n",
      "Skipping 2015-09-30 00:00:00: Not enough unique values for quintiles.\n",
      "Skipping 2015-11-30 00:00:00: Not enough unique values for quintiles.\n",
      "Skipping 2016-02-29 00:00:00: Not enough unique values for quintiles.\n",
      "Skipping 2016-03-31 00:00:00: Not enough unique values for quintiles.\n",
      "Skipping 2016-05-31 00:00:00: Not enough unique values for quintiles.\n",
      "Skipping 2016-08-31 00:00:00: Not enough unique values for quintiles.\n",
      "Skipping 2016-10-31 00:00:00: Not enough unique values for quintiles.\n",
      "Skipping 2016-11-30 00:00:00: Not enough unique values for quintiles.\n",
      "Skipping 2017-01-31 00:00:00: Not enough unique values for quintiles.\n",
      "Skipping 2017-02-28 00:00:00: Not enough unique values for quintiles.\n",
      "Skipping 2017-05-31 00:00:00: Not enough unique values for quintiles.\n",
      "Skipping 2017-07-31 00:00:00: Not enough unique values for quintiles.\n",
      "Skipping 2017-08-31 00:00:00: Not enough unique values for quintiles.\n",
      "Skipping 2017-10-31 00:00:00: Not enough unique values for quintiles.\n",
      "Skipping 2017-11-30 00:00:00: Not enough unique values for quintiles.\n",
      "Skipping 2018-01-31 00:00:00: Not enough unique values for quintiles.\n",
      "Skipping 2018-02-28 00:00:00: Not enough unique values for quintiles.\n",
      "Skipping 2018-04-30 00:00:00: Not enough unique values for quintiles.\n",
      "Skipping 2018-05-31 00:00:00: Not enough unique values for quintiles.\n",
      "Skipping 2018-07-31 00:00:00: Not enough unique values for quintiles.\n",
      "Skipping 2018-10-31 00:00:00: Not enough unique values for quintiles.\n",
      "Skipping 2018-12-31 00:00:00: Not enough unique values for quintiles.\n",
      "Skipping 2019-01-31 00:00:00: Not enough unique values for quintiles.\n",
      "Skipping 2019-02-28 00:00:00: Not enough unique values for quintiles.\n",
      "Skipping 2019-04-30 00:00:00: Not enough unique values for quintiles.\n",
      "Skipping 2019-07-31 00:00:00: Not enough unique values for quintiles.\n",
      "Skipping 2019-09-30 00:00:00: Not enough unique values for quintiles.\n",
      "Skipping 2019-10-31 00:00:00: Not enough unique values for quintiles.\n",
      "Skipping 2019-12-31 00:00:00: Not enough unique values for quintiles.\n",
      "Skipping 2020-03-31 00:00:00: Not enough unique values for quintiles.\n",
      "Skipping 2020-04-30 00:00:00: Not enough unique values for quintiles.\n",
      "Skipping 2020-06-30 00:00:00: Not enough unique values for quintiles.\n",
      "Skipping 2020-08-31 00:00:00: Not enough unique values for quintiles.\n",
      "Skipping 2020-09-30 00:00:00: Not enough unique values for quintiles.\n",
      "Skipping 2020-11-30 00:00:00: Not enough unique values for quintiles.\n",
      "Skipping 2021-03-31 00:00:00: Not enough unique values for quintiles.\n",
      "Skipping 2021-06-30 00:00:00: Not enough unique values for quintiles.\n",
      "Skipping 2021-08-31 00:00:00: Not enough unique values for quintiles.\n",
      "Skipping 2021-09-30 00:00:00: Not enough unique values for quintiles.\n",
      "Skipping 2021-11-30 00:00:00: Not enough unique values for quintiles.\n",
      "Skipping 2022-01-31 00:00:00: Not enough unique values for quintiles.\n",
      "Skipping 2022-02-28 00:00:00: Not enough unique values for quintiles.\n",
      "Skipping 2022-03-31 00:00:00: Not enough unique values for quintiles.\n",
      "Skipping 2022-05-31 00:00:00: Not enough unique values for quintiles.\n",
      "Skipping 2022-06-30 00:00:00: Not enough unique values for quintiles.\n",
      "Skipping 2022-08-31 00:00:00: Not enough unique values for quintiles.\n",
      "Skipping 2022-10-31 00:00:00: Not enough unique values for quintiles.\n",
      "Skipping 2022-11-30 00:00:00: Not enough unique values for quintiles.\n",
      "Skipping 2023-01-31 00:00:00: Not enough unique values for quintiles.\n",
      "Skipping 2023-02-28 00:00:00: Not enough unique values for quintiles.\n",
      "Skipping 2023-05-31 00:00:00: Not enough unique values for quintiles.\n",
      "Skipping 2023-07-31 00:00:00: Not enough unique values for quintiles.\n",
      "Skipping 2023-08-31 00:00:00: Not enough unique values for quintiles.\n",
      "Skipping 2023-10-31 00:00:00: Not enough unique values for quintiles.\n",
      "Skipping 2023-11-30 00:00:00: Not enough unique values for quintiles.\n"
     ]
    }
   ],
   "execution_count": 603
  },
  {
   "cell_type": "code",
   "id": "0f828c5c",
   "metadata": {
    "ExecuteTime": {
     "end_time": "2024-12-12T03:51:08.088172Z",
     "start_time": "2024-12-12T03:51:08.085505Z"
    }
   },
   "source": [
    "# Extract individual DataFrames\n",
    "value_df = results['value_df']\n",
    "momentum_df = results['momentum_df']\n",
    "reversal_df = results['reversal_df']\n",
    "size_df = results['size_df']\n",
    "beta_df = results['beta_df']\n",
    "\n",
    "# Display an example\n",
    "print(\"Value Quintile Portfolio:\")\n",
    "print(value_df.head())"
   ],
   "outputs": [
    {
     "name": "stdout",
     "output_type": "stream",
     "text": [
      "Value Quintile Portfolio:\n",
      "quintile         1       2       3       4       5  long_short\n",
      "2008-01-31 -0.0496 -0.0657 -0.0731 -0.0626 -0.0695     -0.0200\n",
      "2008-02-29 -0.0495 -0.0160 -0.0148 -0.0187 -0.0015      0.0480\n",
      "2008-03-31 -0.0266 -0.0146 -0.0241 -0.0163 -0.0206      0.0061\n",
      "2008-04-30  0.0185  0.0346  0.0281  0.0367  0.0540      0.0355\n",
      "2008-05-30  0.0356  0.0408  0.0508  0.0543  0.0603      0.0248\n"
     ]
    }
   ],
   "execution_count": 604
  },
  {
   "cell_type": "code",
   "id": "aa9042c8-d000-4c16-adb5-0957e770e9bc",
   "metadata": {
    "ExecuteTime": {
     "end_time": "2024-12-12T03:51:08.126936Z",
     "start_time": "2024-12-12T03:51:08.119127Z"
    }
   },
   "source": [
    "# Evaluation cell (used for grading-I don't have a TA)\n",
    "print(value_df.head())\n",
    "value_df.describe()"
   ],
   "outputs": [
    {
     "name": "stdout",
     "output_type": "stream",
     "text": [
      "quintile         1       2       3       4       5  long_short\n",
      "2008-01-31 -0.0496 -0.0657 -0.0731 -0.0626 -0.0695     -0.0200\n",
      "2008-02-29 -0.0495 -0.0160 -0.0148 -0.0187 -0.0015      0.0480\n",
      "2008-03-31 -0.0266 -0.0146 -0.0241 -0.0163 -0.0206      0.0061\n",
      "2008-04-30  0.0185  0.0346  0.0281  0.0367  0.0540      0.0355\n",
      "2008-05-30  0.0356  0.0408  0.0508  0.0543  0.0603      0.0248\n"
     ]
    },
    {
     "data": {
      "text/plain": [
       "quintile        1        2        3        4        5  long_short\n",
       "count    192.0000 192.0000 192.0000 192.0000 192.0000    192.0000\n",
       "mean      -0.0010   0.0063   0.0092   0.0131   0.0224      0.0234\n",
       "std        0.0812   0.0696   0.0633   0.0600   0.0693      0.0464\n",
       "min       -0.3381  -0.2531  -0.2331  -0.1830  -0.1775     -0.1710\n",
       "25%       -0.0375  -0.0275  -0.0232  -0.0170  -0.0149      0.0026\n",
       "50%        0.0010   0.0101   0.0133   0.0136   0.0207      0.0212\n",
       "75%        0.0395   0.0427   0.0451   0.0509   0.0614      0.0462\n",
       "max        0.3467   0.2647   0.2190   0.1933   0.2626      0.1907"
      ],
      "text/html": [
       "<div>\n",
       "<style scoped>\n",
       "    .dataframe tbody tr th:only-of-type {\n",
       "        vertical-align: middle;\n",
       "    }\n",
       "\n",
       "    .dataframe tbody tr th {\n",
       "        vertical-align: top;\n",
       "    }\n",
       "\n",
       "    .dataframe thead th {\n",
       "        text-align: right;\n",
       "    }\n",
       "</style>\n",
       "<table border=\"1\" class=\"dataframe\">\n",
       "  <thead>\n",
       "    <tr style=\"text-align: right;\">\n",
       "      <th>quintile</th>\n",
       "      <th>1</th>\n",
       "      <th>2</th>\n",
       "      <th>3</th>\n",
       "      <th>4</th>\n",
       "      <th>5</th>\n",
       "      <th>long_short</th>\n",
       "    </tr>\n",
       "  </thead>\n",
       "  <tbody>\n",
       "    <tr>\n",
       "      <th>count</th>\n",
       "      <td>192.0000</td>\n",
       "      <td>192.0000</td>\n",
       "      <td>192.0000</td>\n",
       "      <td>192.0000</td>\n",
       "      <td>192.0000</td>\n",
       "      <td>192.0000</td>\n",
       "    </tr>\n",
       "    <tr>\n",
       "      <th>mean</th>\n",
       "      <td>-0.0010</td>\n",
       "      <td>0.0063</td>\n",
       "      <td>0.0092</td>\n",
       "      <td>0.0131</td>\n",
       "      <td>0.0224</td>\n",
       "      <td>0.0234</td>\n",
       "    </tr>\n",
       "    <tr>\n",
       "      <th>std</th>\n",
       "      <td>0.0812</td>\n",
       "      <td>0.0696</td>\n",
       "      <td>0.0633</td>\n",
       "      <td>0.0600</td>\n",
       "      <td>0.0693</td>\n",
       "      <td>0.0464</td>\n",
       "    </tr>\n",
       "    <tr>\n",
       "      <th>min</th>\n",
       "      <td>-0.3381</td>\n",
       "      <td>-0.2531</td>\n",
       "      <td>-0.2331</td>\n",
       "      <td>-0.1830</td>\n",
       "      <td>-0.1775</td>\n",
       "      <td>-0.1710</td>\n",
       "    </tr>\n",
       "    <tr>\n",
       "      <th>25%</th>\n",
       "      <td>-0.0375</td>\n",
       "      <td>-0.0275</td>\n",
       "      <td>-0.0232</td>\n",
       "      <td>-0.0170</td>\n",
       "      <td>-0.0149</td>\n",
       "      <td>0.0026</td>\n",
       "    </tr>\n",
       "    <tr>\n",
       "      <th>50%</th>\n",
       "      <td>0.0010</td>\n",
       "      <td>0.0101</td>\n",
       "      <td>0.0133</td>\n",
       "      <td>0.0136</td>\n",
       "      <td>0.0207</td>\n",
       "      <td>0.0212</td>\n",
       "    </tr>\n",
       "    <tr>\n",
       "      <th>75%</th>\n",
       "      <td>0.0395</td>\n",
       "      <td>0.0427</td>\n",
       "      <td>0.0451</td>\n",
       "      <td>0.0509</td>\n",
       "      <td>0.0614</td>\n",
       "      <td>0.0462</td>\n",
       "    </tr>\n",
       "    <tr>\n",
       "      <th>max</th>\n",
       "      <td>0.3467</td>\n",
       "      <td>0.2647</td>\n",
       "      <td>0.2190</td>\n",
       "      <td>0.1933</td>\n",
       "      <td>0.2626</td>\n",
       "      <td>0.1907</td>\n",
       "    </tr>\n",
       "  </tbody>\n",
       "</table>\n",
       "</div>"
      ]
     },
     "execution_count": 605,
     "metadata": {},
     "output_type": "execute_result"
    }
   ],
   "execution_count": 605
  },
  {
   "cell_type": "code",
   "id": "223b55ac-21b9-4b97-a5c4-a6ab9f20fdb6",
   "metadata": {
    "ExecuteTime": {
     "end_time": "2024-12-12T03:51:08.181186Z",
     "start_time": "2024-12-12T03:51:08.172937Z"
    }
   },
   "source": [
    "# Evaluation cell (do not change; used for grading)\n",
    "print(momentum_df.head())\n",
    "momentum_df.describe()"
   ],
   "outputs": [
    {
     "name": "stdout",
     "output_type": "stream",
     "text": [
      "quintile         1       2       3       4       5  long_short\n",
      "2008-01-31 -0.0592 -0.0650 -0.0664 -0.0602 -0.0704     -0.0112\n",
      "2008-02-29 -0.0164 -0.0114 -0.0308 -0.0216 -0.0166     -0.0003\n",
      "2008-03-31 -0.0228 -0.0231 -0.0201 -0.0107 -0.0304     -0.0076\n",
      "2008-04-30  0.0187  0.0304  0.0272  0.0442  0.0504      0.0318\n",
      "2008-05-30  0.0570  0.0458  0.0616  0.0366  0.0385     -0.0185\n"
     ]
    },
    {
     "data": {
      "text/plain": [
       "quintile        1        2        3        4        5  long_short\n",
       "count    192.0000 192.0000 192.0000 192.0000 192.0000    192.0000\n",
       "mean       0.0098   0.0104   0.0100   0.0097   0.0089     -0.0009\n",
       "std        0.0876   0.0672   0.0597   0.0585   0.0696      0.0341\n",
       "min       -0.2507  -0.2384  -0.2304  -0.2313  -0.2158     -0.1419\n",
       "25%       -0.0345  -0.0243  -0.0209  -0.0212  -0.0240     -0.0169\n",
       "50%        0.0111   0.0129   0.0150   0.0128   0.0100      0.0005\n",
       "75%        0.0552   0.0446   0.0418   0.0451   0.0492      0.0180\n",
       "max        0.3511   0.2443   0.1875   0.1825   0.2163      0.1015"
      ],
      "text/html": [
       "<div>\n",
       "<style scoped>\n",
       "    .dataframe tbody tr th:only-of-type {\n",
       "        vertical-align: middle;\n",
       "    }\n",
       "\n",
       "    .dataframe tbody tr th {\n",
       "        vertical-align: top;\n",
       "    }\n",
       "\n",
       "    .dataframe thead th {\n",
       "        text-align: right;\n",
       "    }\n",
       "</style>\n",
       "<table border=\"1\" class=\"dataframe\">\n",
       "  <thead>\n",
       "    <tr style=\"text-align: right;\">\n",
       "      <th>quintile</th>\n",
       "      <th>1</th>\n",
       "      <th>2</th>\n",
       "      <th>3</th>\n",
       "      <th>4</th>\n",
       "      <th>5</th>\n",
       "      <th>long_short</th>\n",
       "    </tr>\n",
       "  </thead>\n",
       "  <tbody>\n",
       "    <tr>\n",
       "      <th>count</th>\n",
       "      <td>192.0000</td>\n",
       "      <td>192.0000</td>\n",
       "      <td>192.0000</td>\n",
       "      <td>192.0000</td>\n",
       "      <td>192.0000</td>\n",
       "      <td>192.0000</td>\n",
       "    </tr>\n",
       "    <tr>\n",
       "      <th>mean</th>\n",
       "      <td>0.0098</td>\n",
       "      <td>0.0104</td>\n",
       "      <td>0.0100</td>\n",
       "      <td>0.0097</td>\n",
       "      <td>0.0089</td>\n",
       "      <td>-0.0009</td>\n",
       "    </tr>\n",
       "    <tr>\n",
       "      <th>std</th>\n",
       "      <td>0.0876</td>\n",
       "      <td>0.0672</td>\n",
       "      <td>0.0597</td>\n",
       "      <td>0.0585</td>\n",
       "      <td>0.0696</td>\n",
       "      <td>0.0341</td>\n",
       "    </tr>\n",
       "    <tr>\n",
       "      <th>min</th>\n",
       "      <td>-0.2507</td>\n",
       "      <td>-0.2384</td>\n",
       "      <td>-0.2304</td>\n",
       "      <td>-0.2313</td>\n",
       "      <td>-0.2158</td>\n",
       "      <td>-0.1419</td>\n",
       "    </tr>\n",
       "    <tr>\n",
       "      <th>25%</th>\n",
       "      <td>-0.0345</td>\n",
       "      <td>-0.0243</td>\n",
       "      <td>-0.0209</td>\n",
       "      <td>-0.0212</td>\n",
       "      <td>-0.0240</td>\n",
       "      <td>-0.0169</td>\n",
       "    </tr>\n",
       "    <tr>\n",
       "      <th>50%</th>\n",
       "      <td>0.0111</td>\n",
       "      <td>0.0129</td>\n",
       "      <td>0.0150</td>\n",
       "      <td>0.0128</td>\n",
       "      <td>0.0100</td>\n",
       "      <td>0.0005</td>\n",
       "    </tr>\n",
       "    <tr>\n",
       "      <th>75%</th>\n",
       "      <td>0.0552</td>\n",
       "      <td>0.0446</td>\n",
       "      <td>0.0418</td>\n",
       "      <td>0.0451</td>\n",
       "      <td>0.0492</td>\n",
       "      <td>0.0180</td>\n",
       "    </tr>\n",
       "    <tr>\n",
       "      <th>max</th>\n",
       "      <td>0.3511</td>\n",
       "      <td>0.2443</td>\n",
       "      <td>0.1875</td>\n",
       "      <td>0.1825</td>\n",
       "      <td>0.2163</td>\n",
       "      <td>0.1015</td>\n",
       "    </tr>\n",
       "  </tbody>\n",
       "</table>\n",
       "</div>"
      ]
     },
     "execution_count": 606,
     "metadata": {},
     "output_type": "execute_result"
    }
   ],
   "execution_count": 606
  },
  {
   "cell_type": "code",
   "id": "b3c1a748-1045-4274-94f8-725018915e94",
   "metadata": {
    "ExecuteTime": {
     "end_time": "2024-12-12T03:51:08.250133Z",
     "start_time": "2024-12-12T03:51:08.242250Z"
    }
   },
   "source": [
    "# Evaluation cell (used for grading-I don't have a TA)\n",
    "print(reversal_df.head())\n",
    "reversal_df.describe()"
   ],
   "outputs": [
    {
     "name": "stdout",
     "output_type": "stream",
     "text": [
      "quintile         1       2       3       4       5  long_short\n",
      "2008-02-29 -0.1561 -0.0562 -0.0218  0.0102  0.1227      0.2788\n",
      "2008-05-30 -0.0849  0.0107  0.0360  0.0798  0.1976      0.2825\n",
      "2008-08-29 -0.0990  0.0008  0.0309  0.0547  0.1370      0.2360\n",
      "2008-10-31 -0.3983 -0.2701 -0.2088 -0.1681 -0.0980      0.3003\n",
      "2008-11-28 -0.3616 -0.2053 -0.1319 -0.0663  0.0421      0.4036\n"
     ]
    },
    {
     "data": {
      "text/plain": [
       "quintile       1       2       3       4       5  long_short\n",
       "count    87.0000 87.0000 87.0000 87.0000 87.0000     87.0000\n",
       "mean     -0.1079 -0.0294  0.0034  0.0341  0.1354      0.2433\n",
       "std       0.0797  0.0610  0.0545  0.0539  0.0861      0.0659\n",
       "min      -0.3983 -0.2701 -0.2088 -0.1681 -0.0980     -0.0068\n",
       "25%      -0.1397 -0.0566 -0.0248  0.0031  0.0853      0.2065\n",
       "50%      -0.0899 -0.0132  0.0116  0.0352  0.1276      0.2279\n",
       "75%      -0.0541  0.0130  0.0372  0.0686  0.1725      0.2789\n",
       "max       0.0132  0.0530  0.0935  0.1483  0.4667      0.4939"
      ],
      "text/html": [
       "<div>\n",
       "<style scoped>\n",
       "    .dataframe tbody tr th:only-of-type {\n",
       "        vertical-align: middle;\n",
       "    }\n",
       "\n",
       "    .dataframe tbody tr th {\n",
       "        vertical-align: top;\n",
       "    }\n",
       "\n",
       "    .dataframe thead th {\n",
       "        text-align: right;\n",
       "    }\n",
       "</style>\n",
       "<table border=\"1\" class=\"dataframe\">\n",
       "  <thead>\n",
       "    <tr style=\"text-align: right;\">\n",
       "      <th>quintile</th>\n",
       "      <th>1</th>\n",
       "      <th>2</th>\n",
       "      <th>3</th>\n",
       "      <th>4</th>\n",
       "      <th>5</th>\n",
       "      <th>long_short</th>\n",
       "    </tr>\n",
       "  </thead>\n",
       "  <tbody>\n",
       "    <tr>\n",
       "      <th>count</th>\n",
       "      <td>87.0000</td>\n",
       "      <td>87.0000</td>\n",
       "      <td>87.0000</td>\n",
       "      <td>87.0000</td>\n",
       "      <td>87.0000</td>\n",
       "      <td>87.0000</td>\n",
       "    </tr>\n",
       "    <tr>\n",
       "      <th>mean</th>\n",
       "      <td>-0.1079</td>\n",
       "      <td>-0.0294</td>\n",
       "      <td>0.0034</td>\n",
       "      <td>0.0341</td>\n",
       "      <td>0.1354</td>\n",
       "      <td>0.2433</td>\n",
       "    </tr>\n",
       "    <tr>\n",
       "      <th>std</th>\n",
       "      <td>0.0797</td>\n",
       "      <td>0.0610</td>\n",
       "      <td>0.0545</td>\n",
       "      <td>0.0539</td>\n",
       "      <td>0.0861</td>\n",
       "      <td>0.0659</td>\n",
       "    </tr>\n",
       "    <tr>\n",
       "      <th>min</th>\n",
       "      <td>-0.3983</td>\n",
       "      <td>-0.2701</td>\n",
       "      <td>-0.2088</td>\n",
       "      <td>-0.1681</td>\n",
       "      <td>-0.0980</td>\n",
       "      <td>-0.0068</td>\n",
       "    </tr>\n",
       "    <tr>\n",
       "      <th>25%</th>\n",
       "      <td>-0.1397</td>\n",
       "      <td>-0.0566</td>\n",
       "      <td>-0.0248</td>\n",
       "      <td>0.0031</td>\n",
       "      <td>0.0853</td>\n",
       "      <td>0.2065</td>\n",
       "    </tr>\n",
       "    <tr>\n",
       "      <th>50%</th>\n",
       "      <td>-0.0899</td>\n",
       "      <td>-0.0132</td>\n",
       "      <td>0.0116</td>\n",
       "      <td>0.0352</td>\n",
       "      <td>0.1276</td>\n",
       "      <td>0.2279</td>\n",
       "    </tr>\n",
       "    <tr>\n",
       "      <th>75%</th>\n",
       "      <td>-0.0541</td>\n",
       "      <td>0.0130</td>\n",
       "      <td>0.0372</td>\n",
       "      <td>0.0686</td>\n",
       "      <td>0.1725</td>\n",
       "      <td>0.2789</td>\n",
       "    </tr>\n",
       "    <tr>\n",
       "      <th>max</th>\n",
       "      <td>0.0132</td>\n",
       "      <td>0.0530</td>\n",
       "      <td>0.0935</td>\n",
       "      <td>0.1483</td>\n",
       "      <td>0.4667</td>\n",
       "      <td>0.4939</td>\n",
       "    </tr>\n",
       "  </tbody>\n",
       "</table>\n",
       "</div>"
      ]
     },
     "execution_count": 607,
     "metadata": {},
     "output_type": "execute_result"
    }
   ],
   "execution_count": 607
  },
  {
   "cell_type": "code",
   "id": "87f1e193-5cb7-48e3-89c1-5d816dc1cc52",
   "metadata": {
    "ExecuteTime": {
     "end_time": "2024-12-12T03:51:08.325882Z",
     "start_time": "2024-12-12T03:51:08.317430Z"
    }
   },
   "source": [
    "# Evaluation cell (used for grading-I don't have a TA)\n",
    "print(size_df.head())\n",
    "size_df.describe()"
   ],
   "outputs": [
    {
     "name": "stdout",
     "output_type": "stream",
     "text": [
      "quintile         1       2       3       4       5  long_short\n",
      "2008-01-31 -0.0489 -0.0722 -0.0805 -0.0629 -0.0573     -0.0085\n",
      "2008-02-29 -0.0176 -0.0363 -0.0287 -0.0169 -0.0017      0.0159\n",
      "2008-03-31 -0.0827 -0.0346  0.0138 -0.0009 -0.0025      0.0801\n",
      "2008-04-30 -0.0114  0.0225  0.0307  0.0543  0.0733      0.0847\n",
      "2008-05-30  0.0211  0.0437  0.0550  0.0680  0.0514      0.0304\n"
     ]
    },
    {
     "data": {
      "text/plain": [
       "quintile        1        2        3        4        5  long_short\n",
       "count    192.0000 192.0000 192.0000 192.0000 192.0000    192.0000\n",
       "mean      -0.0140   0.0121   0.0171   0.0176   0.0158      0.0298\n",
       "std        0.0817   0.0784   0.0753   0.0643   0.0522      0.0536\n",
       "min       -0.2755  -0.2563  -0.2384  -0.2080  -0.1801     -0.1931\n",
       "25%       -0.0549  -0.0298  -0.0295  -0.0160  -0.0101      0.0041\n",
       "50%       -0.0158   0.0110   0.0210   0.0224   0.0190      0.0332\n",
       "75%        0.0275   0.0573   0.0607   0.0555   0.0468      0.0583\n",
       "max        0.2686   0.2935   0.2876   0.2496   0.1686      0.1663"
      ],
      "text/html": [
       "<div>\n",
       "<style scoped>\n",
       "    .dataframe tbody tr th:only-of-type {\n",
       "        vertical-align: middle;\n",
       "    }\n",
       "\n",
       "    .dataframe tbody tr th {\n",
       "        vertical-align: top;\n",
       "    }\n",
       "\n",
       "    .dataframe thead th {\n",
       "        text-align: right;\n",
       "    }\n",
       "</style>\n",
       "<table border=\"1\" class=\"dataframe\">\n",
       "  <thead>\n",
       "    <tr style=\"text-align: right;\">\n",
       "      <th>quintile</th>\n",
       "      <th>1</th>\n",
       "      <th>2</th>\n",
       "      <th>3</th>\n",
       "      <th>4</th>\n",
       "      <th>5</th>\n",
       "      <th>long_short</th>\n",
       "    </tr>\n",
       "  </thead>\n",
       "  <tbody>\n",
       "    <tr>\n",
       "      <th>count</th>\n",
       "      <td>192.0000</td>\n",
       "      <td>192.0000</td>\n",
       "      <td>192.0000</td>\n",
       "      <td>192.0000</td>\n",
       "      <td>192.0000</td>\n",
       "      <td>192.0000</td>\n",
       "    </tr>\n",
       "    <tr>\n",
       "      <th>mean</th>\n",
       "      <td>-0.0140</td>\n",
       "      <td>0.0121</td>\n",
       "      <td>0.0171</td>\n",
       "      <td>0.0176</td>\n",
       "      <td>0.0158</td>\n",
       "      <td>0.0298</td>\n",
       "    </tr>\n",
       "    <tr>\n",
       "      <th>std</th>\n",
       "      <td>0.0817</td>\n",
       "      <td>0.0784</td>\n",
       "      <td>0.0753</td>\n",
       "      <td>0.0643</td>\n",
       "      <td>0.0522</td>\n",
       "      <td>0.0536</td>\n",
       "    </tr>\n",
       "    <tr>\n",
       "      <th>min</th>\n",
       "      <td>-0.2755</td>\n",
       "      <td>-0.2563</td>\n",
       "      <td>-0.2384</td>\n",
       "      <td>-0.2080</td>\n",
       "      <td>-0.1801</td>\n",
       "      <td>-0.1931</td>\n",
       "    </tr>\n",
       "    <tr>\n",
       "      <th>25%</th>\n",
       "      <td>-0.0549</td>\n",
       "      <td>-0.0298</td>\n",
       "      <td>-0.0295</td>\n",
       "      <td>-0.0160</td>\n",
       "      <td>-0.0101</td>\n",
       "      <td>0.0041</td>\n",
       "    </tr>\n",
       "    <tr>\n",
       "      <th>50%</th>\n",
       "      <td>-0.0158</td>\n",
       "      <td>0.0110</td>\n",
       "      <td>0.0210</td>\n",
       "      <td>0.0224</td>\n",
       "      <td>0.0190</td>\n",
       "      <td>0.0332</td>\n",
       "    </tr>\n",
       "    <tr>\n",
       "      <th>75%</th>\n",
       "      <td>0.0275</td>\n",
       "      <td>0.0573</td>\n",
       "      <td>0.0607</td>\n",
       "      <td>0.0555</td>\n",
       "      <td>0.0468</td>\n",
       "      <td>0.0583</td>\n",
       "    </tr>\n",
       "    <tr>\n",
       "      <th>max</th>\n",
       "      <td>0.2686</td>\n",
       "      <td>0.2935</td>\n",
       "      <td>0.2876</td>\n",
       "      <td>0.2496</td>\n",
       "      <td>0.1686</td>\n",
       "      <td>0.1663</td>\n",
       "    </tr>\n",
       "  </tbody>\n",
       "</table>\n",
       "</div>"
      ]
     },
     "execution_count": 608,
     "metadata": {},
     "output_type": "execute_result"
    }
   ],
   "execution_count": 608
  },
  {
   "cell_type": "code",
   "id": "fec5d82b-643d-42bc-ba05-7ad425f93749",
   "metadata": {
    "ExecuteTime": {
     "end_time": "2024-12-12T03:51:08.442070Z",
     "start_time": "2024-12-12T03:51:08.434500Z"
    }
   },
   "source": [
    "# Evaluation cell (used for grading-I don't have a TA)\n",
    "print(beta_df.head())\n",
    "beta_df.describe()"
   ],
   "outputs": [
    {
     "name": "stdout",
     "output_type": "stream",
     "text": [
      "quintile         1       2       3       4       5  long_short\n",
      "2009-01-30 -0.0239 -0.0230 -0.0308 -0.0087 -0.0328     -0.0090\n",
      "2009-02-27 -0.1249 -0.1018 -0.1098 -0.1161 -0.1208      0.0040\n",
      "2009-05-29  0.1039  0.0932  0.1323  0.0937  0.0779     -0.0260\n",
      "2009-07-31  0.0919  0.1132  0.1099  0.0908  0.1001      0.0082\n",
      "2009-10-30 -0.0566 -0.0629 -0.0601 -0.0631 -0.0465      0.0102\n"
     ]
    },
    {
     "data": {
      "text/plain": [
       "quintile       1       2       3       4       5  long_short\n",
       "count    82.0000 82.0000 82.0000 82.0000 82.0000     82.0000\n",
       "mean      0.0088  0.0117  0.0176  0.0104  0.0080     -0.0008\n",
       "std       0.0532  0.0597  0.0640  0.0567  0.0509      0.0073\n",
       "min      -0.1249 -0.1303 -0.1251 -0.1161 -0.1208     -0.0260\n",
       "25%      -0.0238 -0.0212 -0.0165 -0.0195 -0.0205     -0.0055\n",
       "50%       0.0103  0.0097  0.0210  0.0119  0.0123      0.0004\n",
       "75%       0.0469  0.0492  0.0584  0.0508  0.0422      0.0038\n",
       "max       0.1039  0.1465  0.1840  0.1227  0.1001      0.0148"
      ],
      "text/html": [
       "<div>\n",
       "<style scoped>\n",
       "    .dataframe tbody tr th:only-of-type {\n",
       "        vertical-align: middle;\n",
       "    }\n",
       "\n",
       "    .dataframe tbody tr th {\n",
       "        vertical-align: top;\n",
       "    }\n",
       "\n",
       "    .dataframe thead th {\n",
       "        text-align: right;\n",
       "    }\n",
       "</style>\n",
       "<table border=\"1\" class=\"dataframe\">\n",
       "  <thead>\n",
       "    <tr style=\"text-align: right;\">\n",
       "      <th>quintile</th>\n",
       "      <th>1</th>\n",
       "      <th>2</th>\n",
       "      <th>3</th>\n",
       "      <th>4</th>\n",
       "      <th>5</th>\n",
       "      <th>long_short</th>\n",
       "    </tr>\n",
       "  </thead>\n",
       "  <tbody>\n",
       "    <tr>\n",
       "      <th>count</th>\n",
       "      <td>82.0000</td>\n",
       "      <td>82.0000</td>\n",
       "      <td>82.0000</td>\n",
       "      <td>82.0000</td>\n",
       "      <td>82.0000</td>\n",
       "      <td>82.0000</td>\n",
       "    </tr>\n",
       "    <tr>\n",
       "      <th>mean</th>\n",
       "      <td>0.0088</td>\n",
       "      <td>0.0117</td>\n",
       "      <td>0.0176</td>\n",
       "      <td>0.0104</td>\n",
       "      <td>0.0080</td>\n",
       "      <td>-0.0008</td>\n",
       "    </tr>\n",
       "    <tr>\n",
       "      <th>std</th>\n",
       "      <td>0.0532</td>\n",
       "      <td>0.0597</td>\n",
       "      <td>0.0640</td>\n",
       "      <td>0.0567</td>\n",
       "      <td>0.0509</td>\n",
       "      <td>0.0073</td>\n",
       "    </tr>\n",
       "    <tr>\n",
       "      <th>min</th>\n",
       "      <td>-0.1249</td>\n",
       "      <td>-0.1303</td>\n",
       "      <td>-0.1251</td>\n",
       "      <td>-0.1161</td>\n",
       "      <td>-0.1208</td>\n",
       "      <td>-0.0260</td>\n",
       "    </tr>\n",
       "    <tr>\n",
       "      <th>25%</th>\n",
       "      <td>-0.0238</td>\n",
       "      <td>-0.0212</td>\n",
       "      <td>-0.0165</td>\n",
       "      <td>-0.0195</td>\n",
       "      <td>-0.0205</td>\n",
       "      <td>-0.0055</td>\n",
       "    </tr>\n",
       "    <tr>\n",
       "      <th>50%</th>\n",
       "      <td>0.0103</td>\n",
       "      <td>0.0097</td>\n",
       "      <td>0.0210</td>\n",
       "      <td>0.0119</td>\n",
       "      <td>0.0123</td>\n",
       "      <td>0.0004</td>\n",
       "    </tr>\n",
       "    <tr>\n",
       "      <th>75%</th>\n",
       "      <td>0.0469</td>\n",
       "      <td>0.0492</td>\n",
       "      <td>0.0584</td>\n",
       "      <td>0.0508</td>\n",
       "      <td>0.0422</td>\n",
       "      <td>0.0038</td>\n",
       "    </tr>\n",
       "    <tr>\n",
       "      <th>max</th>\n",
       "      <td>0.1039</td>\n",
       "      <td>0.1465</td>\n",
       "      <td>0.1840</td>\n",
       "      <td>0.1227</td>\n",
       "      <td>0.1001</td>\n",
       "      <td>0.0148</td>\n",
       "    </tr>\n",
       "  </tbody>\n",
       "</table>\n",
       "</div>"
      ]
     },
     "execution_count": 609,
     "metadata": {},
     "output_type": "execute_result"
    }
   ],
   "execution_count": 609
  },
  {
   "cell_type": "markdown",
   "id": "3bc29106-55f7-49e1-8cc5-f0684b1830e1",
   "metadata": {},
   "source": [
    "### plot (5 points)"
   ]
  },
  {
   "cell_type": "code",
   "id": "fc9378e8-c668-45ca-ad12-fc0c72287484",
   "metadata": {
    "ExecuteTime": {
     "end_time": "2024-12-12T03:51:10.099358Z",
     "start_time": "2024-12-12T03:51:08.558182Z"
    }
   },
   "source": [
    "#Set up the plot style\n",
    "plt.style.use('seaborn')\n",
    "sns.set_palette(\"husl\")\n",
    "\n",
    "# Create 2 rows of plots\n",
    "fig, axes = plt.subplots(2, 3, figsize=(20, 12))\n",
    "fig.suptitle('Average Long Only Returns by Quintile per Factor', fontsize=16)\n",
    "axes_flat = axes.flatten()\n",
    "\n",
    "# List of dfs\n",
    "dfs = [\n",
    "    (value_df, 'Value'),\n",
    "    (momentum_df, 'Momentum'), \n",
    "    (reversal_df, 'Reversal'), \n",
    "    (size_df, 'Size'), \n",
    "    (beta_df, 'Beta')\n",
    "]\n",
    "\n",
    "#plot each df\n",
    "for i, (df, factor_name) in enumerate(dfs):\n",
    "    # Select only long only\n",
    "    quintile_cols = [1, 2, 3, 4, 5]\n",
    "    \n",
    "    # Get average returns\n",
    "    avg_returns = df[quintile_cols].mean()\n",
    "    axes_flat[i].bar(range(1, 6), avg_returns)\n",
    "    \n",
    "    #Labels\n",
    "    axes_flat[i].set_title(f'{factor_name} Factor')\n",
    "    axes_flat[i].set_xlabel('Quintile')\n",
    "    axes_flat[i].set_ylabel('Average Return')\n",
    "    axes_flat[i].set_xticks(range(1, 6))\n",
    "    axes_flat[i].set_xticklabels([f'Q{j}' for j in range(1, 6)])\n",
    "\n",
    "#remove the unused subplot in the second row, adjust layout\n",
    "fig.delaxes(axes[1, 2])\n",
    "plt.tight_layout()\n",
    "plt.savefig('factor_quintile_average_returns.png', dpi=300, bbox_inches='tight')\n",
    "\n",
    "#plot\n",
    "plt.show()"
   ],
   "outputs": [
    {
     "name": "stderr",
     "output_type": "stream",
     "text": [
      "/var/folders/1b/vm9vwcxd62s4cvv71njdc7140000gv/T/ipykernel_85279/1771660044.py:2: MatplotlibDeprecationWarning: The seaborn styles shipped by Matplotlib are deprecated since 3.6, as they no longer correspond to the styles shipped by seaborn. However, they will remain available as 'seaborn-v0_8-<style>'. Alternatively, directly use the seaborn API instead.\n",
      "  plt.style.use('seaborn')\n"
     ]
    },
    {
     "data": {
      "text/plain": [
       "<Figure size 2000x1200 with 5 Axes>"
      ],
      "image/png": "[encoded data removed]"
     },
     "metadata": {
      "image/png": {
       "width": 1989,
       "height": 1181
      }
     },
     "output_type": "display_data"
    }
   ],
   "execution_count": 610
  },
  {
   "cell_type": "markdown",
   "id": "3a45d7a1-bd8f-47ea-bd7c-76ce036fcc4e",
   "metadata": {},
   "source": [
    "### Save the 5 long-short factor returns in a DataFrame called `factors_df`. (Do not drop any missing values). (5 points)"
   ]
  },
  {
   "cell_type": "code",
   "id": "609e2295-d47c-4654-8bf7-a72b19f24a9a",
   "metadata": {
    "ExecuteTime": {
     "end_time": "2024-12-12T03:51:10.122681Z",
     "start_time": "2024-12-12T03:51:10.117477Z"
    }
   },
   "source": [
    "#Compile L/S data\n",
    "long_short_data = {\n",
    "    'value': value_df['long_short'],\n",
    "    'momentum': momentum_df['long_short'],\n",
    "    'reversal': reversal_df['long_short'],\n",
    "    'size': size_df['long_short'],\n",
    "    'beta': beta_df['long_short']\n",
    "}\n",
    "\n",
    "# Create a new DataFrame with LS data\n",
    "factors_df = pd.DataFrame(long_short_data)\n",
    "print(factors_df.head())"
   ],
   "outputs": [
    {
     "name": "stdout",
     "output_type": "stream",
     "text": [
      "             value  momentum  reversal    size  beta\n",
      "2008-01-31 -0.0200   -0.0112       NaN -0.0085   NaN\n",
      "2008-02-29  0.0480   -0.0003    0.2788  0.0159   NaN\n",
      "2008-03-31  0.0061   -0.0076       NaN  0.0801   NaN\n",
      "2008-04-30  0.0355    0.0318       NaN  0.0847   NaN\n",
      "2008-05-30  0.0248   -0.0185    0.2825  0.0304   NaN\n"
     ]
    }
   ],
   "execution_count": 611
  },
  {
   "cell_type": "code",
   "id": "dfdfcaa3-b0ee-48a1-b7b1-7fd3e996e32c",
   "metadata": {
    "ExecuteTime": {
     "end_time": "2024-12-12T03:51:10.190889Z",
     "start_time": "2024-12-12T03:51:10.183884Z"
    }
   },
   "source": [
    "# Evaluation cell (used for grading-I don't have a TA)\n",
    "print(factors_df.head())\n",
    "factors_df.describe()"
   ],
   "outputs": [
    {
     "name": "stdout",
     "output_type": "stream",
     "text": [
      "             value  momentum  reversal    size  beta\n",
      "2008-01-31 -0.0200   -0.0112       NaN -0.0085   NaN\n",
      "2008-02-29  0.0480   -0.0003    0.2788  0.0159   NaN\n",
      "2008-03-31  0.0061   -0.0076       NaN  0.0801   NaN\n",
      "2008-04-30  0.0355    0.0318       NaN  0.0847   NaN\n",
      "2008-05-30  0.0248   -0.0185    0.2825  0.0304   NaN\n"
     ]
    },
    {
     "data": {
      "text/plain": [
       "         value  momentum  reversal     size    beta\n",
       "count 192.0000  192.0000   87.0000 192.0000 82.0000\n",
       "mean    0.0234   -0.0009    0.2433   0.0298 -0.0008\n",
       "std     0.0464    0.0341    0.0659   0.0536  0.0073\n",
       "min    -0.1710   -0.1419   -0.0068  -0.1931 -0.0260\n",
       "25%     0.0026   -0.0169    0.2065   0.0041 -0.0055\n",
       "50%     0.0212    0.0005    0.2279   0.0332  0.0004\n",
       "75%     0.0462    0.0180    0.2789   0.0583  0.0038\n",
       "max     0.1907    0.1015    0.4939   0.1663  0.0148"
      ],
      "text/html": [
       "<div>\n",
       "<style scoped>\n",
       "    .dataframe tbody tr th:only-of-type {\n",
       "        vertical-align: middle;\n",
       "    }\n",
       "\n",
       "    .dataframe tbody tr th {\n",
       "        vertical-align: top;\n",
       "    }\n",
       "\n",
       "    .dataframe thead th {\n",
       "        text-align: right;\n",
       "    }\n",
       "</style>\n",
       "<table border=\"1\" class=\"dataframe\">\n",
       "  <thead>\n",
       "    <tr style=\"text-align: right;\">\n",
       "      <th></th>\n",
       "      <th>value</th>\n",
       "      <th>momentum</th>\n",
       "      <th>reversal</th>\n",
       "      <th>size</th>\n",
       "      <th>beta</th>\n",
       "    </tr>\n",
       "  </thead>\n",
       "  <tbody>\n",
       "    <tr>\n",
       "      <th>count</th>\n",
       "      <td>192.0000</td>\n",
       "      <td>192.0000</td>\n",
       "      <td>87.0000</td>\n",
       "      <td>192.0000</td>\n",
       "      <td>82.0000</td>\n",
       "    </tr>\n",
       "    <tr>\n",
       "      <th>mean</th>\n",
       "      <td>0.0234</td>\n",
       "      <td>-0.0009</td>\n",
       "      <td>0.2433</td>\n",
       "      <td>0.0298</td>\n",
       "      <td>-0.0008</td>\n",
       "    </tr>\n",
       "    <tr>\n",
       "      <th>std</th>\n",
       "      <td>0.0464</td>\n",
       "      <td>0.0341</td>\n",
       "      <td>0.0659</td>\n",
       "      <td>0.0536</td>\n",
       "      <td>0.0073</td>\n",
       "    </tr>\n",
       "    <tr>\n",
       "      <th>min</th>\n",
       "      <td>-0.1710</td>\n",
       "      <td>-0.1419</td>\n",
       "      <td>-0.0068</td>\n",
       "      <td>-0.1931</td>\n",
       "      <td>-0.0260</td>\n",
       "    </tr>\n",
       "    <tr>\n",
       "      <th>25%</th>\n",
       "      <td>0.0026</td>\n",
       "      <td>-0.0169</td>\n",
       "      <td>0.2065</td>\n",
       "      <td>0.0041</td>\n",
       "      <td>-0.0055</td>\n",
       "    </tr>\n",
       "    <tr>\n",
       "      <th>50%</th>\n",
       "      <td>0.0212</td>\n",
       "      <td>0.0005</td>\n",
       "      <td>0.2279</td>\n",
       "      <td>0.0332</td>\n",
       "      <td>0.0004</td>\n",
       "    </tr>\n",
       "    <tr>\n",
       "      <th>75%</th>\n",
       "      <td>0.0462</td>\n",
       "      <td>0.0180</td>\n",
       "      <td>0.2789</td>\n",
       "      <td>0.0583</td>\n",
       "      <td>0.0038</td>\n",
       "    </tr>\n",
       "    <tr>\n",
       "      <th>max</th>\n",
       "      <td>0.1907</td>\n",
       "      <td>0.1015</td>\n",
       "      <td>0.4939</td>\n",
       "      <td>0.1663</td>\n",
       "      <td>0.0148</td>\n",
       "    </tr>\n",
       "  </tbody>\n",
       "</table>\n",
       "</div>"
      ]
     },
     "execution_count": 612,
     "metadata": {},
     "output_type": "execute_result"
    }
   ],
   "execution_count": 612
  },
  {
   "cell_type": "markdown",
   "id": "c869692d-eac9-468a-bcfe-9d97d44e4740",
   "metadata": {},
   "source": [
    "## Evaluate the factors you created (14 points; 4+4+6)"
   ]
  },
  {
   "cell_type": "markdown",
   "id": "f483e9bd-e62e-403d-83cd-a083bf1f0dc0",
   "metadata": {},
   "source": "### Estimate Fama-French 5-factor model for the 5 factor portfolios (in `factors_df`). Report the R squares, regression coefficients, and their p values in a single DataFrame called `ff5_factors_reg`. "
  },
  {
   "cell_type": "code",
   "id": "ea22f315-4068-4409-9991-d91cba7bf769",
   "metadata": {
    "ExecuteTime": {
     "end_time": "2024-12-12T03:51:10.350392Z",
     "start_time": "2024-12-12T03:51:10.217355Z"
    }
   },
   "source": [
    "# Prepare the data\n",
    "ff5_factors = web.DataReader('F-F_Research_Data_5_Factors_2x3', 'famafrench', \n",
    "                            start=mrets_with_signals['DATE'].min(), \n",
    "                            end=mrets_with_signals['DATE'].max())[0].div(100)\n",
    "ff_monthly = (1 + ff5_factors).resample('M').prod() - 1\n",
    "ff_monthly.index = ff_monthly.index.to_timestamp() + pd.offsets.MonthEnd(0)\n",
    "\n",
    "# Get monthly factors\n",
    "common_index = factors_df.index.intersection(ff_monthly.index)\n",
    "\n",
    "# Prepare the predictors (all 5 Fama-French factors)\n",
    "X = ff_monthly.loc[common_index, ['Mkt-RF', 'SMB', 'HML', 'RMW', 'CMA']]\n",
    "\n",
    "# Initialize results storage with correct columns\n",
    "ff5_factors_reg = pd.DataFrame(columns=['Const_Coef', 'Const_Pval',\n",
    "                                      'MktRF_Coef', 'MktRF_Pval',\n",
    "                                      'SMB_Coef', 'SMB_Pval',\n",
    "                                      'HML_Coef', 'HML_Pval',\n",
    "                                      'RMW_Coef', 'RMW_Pval',\n",
    "                                      'CMA_Coef', 'CMA_Pval',\n",
    "                                      'R_squared'])\n",
    "\n",
    "# Perform regression for each factor\n",
    "for factor_name in factors_df.columns:\n",
    "    # Get the dependent variable, aligning with common index\n",
    "    y = factors_df.loc[common_index, factor_name]\n",
    "    \n",
    "    # Add constant term to the predictors\n",
    "    X_with_const = sm.add_constant(X)\n",
    "    \n",
    "    # Fit the model\n",
    "    model = sm.OLS(y, X_with_const).fit()\n",
    "    \n",
    "    # Store results\n",
    "    ff5_factors_reg.loc[factor_name] = [\n",
    "        model.params[0], model.pvalues[0],  # Const\n",
    "        model.params[1], model.pvalues[1],  # Mkt-RF\n",
    "        model.params[2], model.pvalues[2],  # SMB\n",
    "        model.params[3], model.pvalues[3],  # HML\n",
    "        model.params[4], model.pvalues[4],  # RMW\n",
    "        model.params[5], model.pvalues[5],  # CMA\n",
    "        model.rsquared\n",
    "    ]\n",
    "\n",
    "# Print results with better formatting\n",
    "pd.set_option('display.float_format', lambda x: '%.4f' % x)\n",
    "print(\"\\nFama-French 5-Factor Regression Results:\")\n",
    "print(ff5_factors_reg)"
   ],
   "outputs": [
    {
     "name": "stdout",
     "output_type": "stream",
     "text": [
      "\n",
      "Fama-French 5-Factor Regression Results:\n",
      "          Const_Coef  Const_Pval  MktRF_Coef  MktRF_Pval  SMB_Coef  SMB_Pval  \\\n",
      "value         0.0282      0.0000     -0.4258      0.0000    0.2269    0.0224   \n",
      "momentum     -0.0018      0.5336     -0.1998      0.0017   -0.2991    0.0122   \n",
      "reversal         NaN         NaN         NaN         NaN       NaN       NaN   \n",
      "size          0.0288      0.0000     -0.0609      0.4922   -0.5085    0.0028   \n",
      "beta             NaN         NaN         NaN         NaN       NaN       NaN   \n",
      "\n",
      "          HML_Coef  HML_Pval  RMW_Coef  RMW_Pval  CMA_Coef  CMA_Pval  \\\n",
      "value      -0.8044    0.0000   -0.6510    0.0000   -0.1532    0.3211   \n",
      "momentum   -0.1105    0.3251    0.1717    0.2248    0.3176    0.0872   \n",
      "reversal       NaN       NaN       NaN       NaN       NaN       NaN   \n",
      "size       -0.0117    0.9414    0.9177    0.0000    0.2000    0.4448   \n",
      "beta           NaN       NaN       NaN       NaN       NaN       NaN   \n",
      "\n",
      "          R_squared  \n",
      "value        0.7023  \n",
      "momentum     0.2645  \n",
      "reversal        NaN  \n",
      "size         0.3031  \n",
      "beta            NaN  \n"
     ]
    },
    {
     "name": "stderr",
     "output_type": "stream",
     "text": [
      "/var/folders/1b/vm9vwcxd62s4cvv71njdc7140000gv/T/ipykernel_85279/3698081786.py:2: FutureWarning: The argument 'date_parser' is deprecated and will be removed in a future version. Please use 'date_format' instead, or read your data in as 'object' dtype and then call 'to_datetime'.\n",
      "  ff5_factors = web.DataReader('F-F_Research_Data_5_Factors_2x3', 'famafrench',\n",
      "/var/folders/1b/vm9vwcxd62s4cvv71njdc7140000gv/T/ipykernel_85279/3698081786.py:2: FutureWarning: The argument 'date_parser' is deprecated and will be removed in a future version. Please use 'date_format' instead, or read your data in as 'object' dtype and then call 'to_datetime'.\n",
      "  ff5_factors = web.DataReader('F-F_Research_Data_5_Factors_2x3', 'famafrench',\n"
     ]
    }
   ],
   "execution_count": 613
  },
  {
   "cell_type": "markdown",
   "id": "c19a8215-8c98-4a3f-aba3-53dad2626412",
   "metadata": {},
   "source": [
    "### Create `factors_sumstat`. "
   ]
  },
  {
   "cell_type": "code",
   "id": "7fc313a0-53cf-4f4a-9d57-4431cf204dd5",
   "metadata": {
    "ExecuteTime": {
     "end_time": "2024-12-12T03:51:10.376054Z",
     "start_time": "2024-12-12T03:51:10.370203Z"
    }
   },
   "source": [
    "annual_returns = factors_df.add(1).resample('Y').prod().sub(1)\n",
    "annual_returns.index = annual_returns.index.year\n",
    "\n",
    "# Create summary statistics DataFrame\n",
    "factors_sumstat = pd.DataFrame({\n",
    "    'Ann_Mean': annual_returns.mean(),\n",
    "    'Ann_Median': annual_returns.median(),\n",
    "    'Ann_Std': annual_returns.std()\n",
    "})"
   ],
   "outputs": [],
   "execution_count": 614
  },
  {
   "cell_type": "code",
   "id": "f900e7fc-e6d3-4a29-b401-34fbf072060a",
   "metadata": {
    "ExecuteTime": {
     "end_time": "2024-12-12T03:51:10.421429Z",
     "start_time": "2024-12-12T03:51:10.416100Z"
    }
   },
   "source": [
    "# Evaluation cell (used for grading-I don't have a TA)\n",
    "print(ff5_factors_reg)\n",
    "print(factors_sumstat)"
   ],
   "outputs": [
    {
     "name": "stdout",
     "output_type": "stream",
     "text": [
      "          Const_Coef  Const_Pval  MktRF_Coef  MktRF_Pval  SMB_Coef  SMB_Pval  \\\n",
      "value         0.0282      0.0000     -0.4258      0.0000    0.2269    0.0224   \n",
      "momentum     -0.0018      0.5336     -0.1998      0.0017   -0.2991    0.0122   \n",
      "reversal         NaN         NaN         NaN         NaN       NaN       NaN   \n",
      "size          0.0288      0.0000     -0.0609      0.4922   -0.5085    0.0028   \n",
      "beta             NaN         NaN         NaN         NaN       NaN       NaN   \n",
      "\n",
      "          HML_Coef  HML_Pval  RMW_Coef  RMW_Pval  CMA_Coef  CMA_Pval  \\\n",
      "value      -0.8044    0.0000   -0.6510    0.0000   -0.1532    0.3211   \n",
      "momentum   -0.1105    0.3251    0.1717    0.2248    0.3176    0.0872   \n",
      "reversal       NaN       NaN       NaN       NaN       NaN       NaN   \n",
      "size       -0.0117    0.9414    0.9177    0.0000    0.2000    0.4448   \n",
      "beta           NaN       NaN       NaN       NaN       NaN       NaN   \n",
      "\n",
      "          R_squared  \n",
      "value        0.7023  \n",
      "momentum     0.2645  \n",
      "reversal        NaN  \n",
      "size         0.3031  \n",
      "beta            NaN  \n",
      "          Ann_Mean  Ann_Median  Ann_Std\n",
      "value       0.3196      0.2859   0.2160\n",
      "momentum   -0.0063      0.0202   0.1501\n",
      "reversal    2.3604      2.0985   0.9716\n",
      "size        0.4449      0.3944   0.3814\n",
      "beta       -0.0043     -0.0049   0.0121\n"
     ]
    }
   ],
   "execution_count": 615
  },
  {
   "cell_type": "markdown",
   "id": "207ccbcc-0cf6-4743-ab43-d867968aee5e",
   "metadata": {},
   "source": [
    "### Summarize at least three takeaways related to investments based on your results in Part II so far. Cite credible sources that help explain and support your findings. (6 points)"
   ]
  },
  {
   "cell_type": "markdown",
   "id": "ecf79a77-a416-49f9-916f-f208554cca47",
   "metadata": {},
   "source": []
  },
  {
   "cell_type": "markdown",
   "id": "918c4320-8d7f-4bdd-b159-15d81cdb4a7c",
   "metadata": {},
   "source": [
    "## Factor combination strategy (‘Mission Impossible’) (8 points)\n",
    "-  You can get partial credit if you have reasonable code."
   ]
  },
  {
   "cell_type": "code",
   "id": "e4f7237e-2fa8-4eca-ba83-f99b7bbef3e8",
   "metadata": {
    "ExecuteTime": {
     "end_time": "2024-12-12T03:53:25.133869Z",
     "start_time": "2024-12-12T03:53:24.203952Z"
    }
   },
   "source": [
    "# List of signals to calculate percentile ranks for\n",
    "signals = ['price_to_sales', 'ret_2to12m', 'ret_2w', 'mcap_quarter', 'beta']\n",
    "\n",
    "# Calculate percentile ranks for each signal (1 is worst, 100 is best)\n",
    "for signal in signals:\n",
    "    # Calculate percentile rank by date, multiplying by 100 to get 1-100 scale\n",
    "    mrets_with_signals[f'{signal}_rank'] = mrets_with_signals.groupby('DATE')[signal].rank(pct=True) * 100\n",
    "    # Invert ranks for signals where lower values are better (like price_to_sales)\n",
    "    if signal in ['price_to_sales', 'beta']:\n",
    "        mrets_with_signals[f'{signal}_rank'] = 101 - mrets_with_signals[f'{signal}_rank']\n",
    "\n",
    "# Calculate the average percentile rank across all signals\n",
    "rank_columns = [f'{signal}_rank' for signal in signals]\n",
    "mrets_with_signals['index'] = mrets_with_signals[rank_columns].mean(axis=1)\n",
    "\n",
    "# Clean up by dropping the intermediate ranking columns\n",
    "mrets_with_signals.drop(columns=rank_columns, inplace=True)\n",
    "\n",
    "# Quality checks\n",
    "print(\"\\nFirst few rows of the new index:\")\n",
    "print(mrets_with_signals[['DATE', 'PERMNO', 'index']].head())\n",
    "\n",
    "print(\"\\nSummary statistics of the index:\")\n",
    "print(mrets_with_signals['index'].describe())\n",
    "\n",
    "print(\"\\nCheck for any NaN values in index:\")\n",
    "print(mrets_with_signals['index'].isnull().sum())"
   ],
   "outputs": [
    {
     "name": "stdout",
     "output_type": "stream",
     "text": [
      "\n",
      "First few rows of the new index:\n",
      "        DATE  PERMNO   index\n",
      "0 2008-01-31   10001 16.1012\n",
      "1 2008-02-29   10001 23.9482\n",
      "2 2008-03-31   10001 19.7681\n",
      "3 2008-04-30   10001 20.0145\n",
      "4 2008-05-30   10001 44.3980\n",
      "\n",
      "Summary statistics of the index:\n",
      "count   527889.0000\n",
      "mean        50.2043\n",
      "std         17.5625\n",
      "min          0.0364\n",
      "25%         38.1964\n",
      "50%         50.6452\n",
      "75%         62.6749\n",
      "max        100.2566\n",
      "Name: index, dtype: float64\n",
      "\n",
      "Check for any NaN values in index:\n",
      "30\n"
     ]
    }
   ],
   "execution_count": 617
  },
  {
   "cell_type": "code",
   "id": "b89a587b-6347-416c-a032-da0e758636de",
   "metadata": {
    "ExecuteTime": {
     "end_time": "2024-12-12T03:51:11.457899Z",
     "start_time": "2024-12-12T03:03:28.880996Z"
    }
   },
   "source": [
    "# Evaluation cell (used for grading-I don't have a TA)\n",
    "impossible_df"
   ],
   "outputs": [
    {
     "data": {
      "text/plain": [
       "        price_to_sales_rank  ret_2to12m_rank  ret_2w_rank  mcap_quarter_rank  \\\n",
       "0                    0.1784              NaN          NaN             0.8799   \n",
       "1                    0.2388              NaN       0.3258             0.8775   \n",
       "2                    0.2496              NaN          NaN             0.8831   \n",
       "3                    0.2574              NaN          NaN             0.8872   \n",
       "4                    0.2151              NaN       0.9564             0.8635   \n",
       "...                     ...              ...          ...                ...   \n",
       "527914               0.9140           0.1546          NaN             0.0004   \n",
       "527915               0.9164           0.5530       0.4168             0.0005   \n",
       "527916               0.9333           0.8364          NaN             0.0006   \n",
       "527917               0.9197           0.8344          NaN             0.0005   \n",
       "527918               0.9170           0.9848       0.7047             0.0005   \n",
       "\n",
       "        beta_rank  index  \n",
       "0             NaN    NaN  \n",
       "1             NaN    NaN  \n",
       "2             NaN    NaN  \n",
       "3             NaN    NaN  \n",
       "4             NaN    NaN  \n",
       "...           ...    ...  \n",
       "527914        NaN    NaN  \n",
       "527915     0.6495 0.5072  \n",
       "527916        NaN    NaN  \n",
       "527917        NaN    NaN  \n",
       "527918     0.7756 0.6765  \n",
       "\n",
       "[527919 rows x 6 columns]"
      ],
      "text/html": [
       "<div>\n",
       "<style scoped>\n",
       "    .dataframe tbody tr th:only-of-type {\n",
       "        vertical-align: middle;\n",
       "    }\n",
       "\n",
       "    .dataframe tbody tr th {\n",
       "        vertical-align: top;\n",
       "    }\n",
       "\n",
       "    .dataframe thead th {\n",
       "        text-align: right;\n",
       "    }\n",
       "</style>\n",
       "<table border=\"1\" class=\"dataframe\">\n",
       "  <thead>\n",
       "    <tr style=\"text-align: right;\">\n",
       "      <th></th>\n",
       "      <th>price_to_sales_rank</th>\n",
       "      <th>ret_2to12m_rank</th>\n",
       "      <th>ret_2w_rank</th>\n",
       "      <th>mcap_quarter_rank</th>\n",
       "      <th>beta_rank</th>\n",
       "      <th>index</th>\n",
       "    </tr>\n",
       "  </thead>\n",
       "  <tbody>\n",
       "    <tr>\n",
       "      <th>0</th>\n",
       "      <td>0.1784</td>\n",
       "      <td>NaN</td>\n",
       "      <td>NaN</td>\n",
       "      <td>0.8799</td>\n",
       "      <td>NaN</td>\n",
       "      <td>NaN</td>\n",
       "    </tr>\n",
       "    <tr>\n",
       "      <th>1</th>\n",
       "      <td>0.2388</td>\n",
       "      <td>NaN</td>\n",
       "      <td>0.3258</td>\n",
       "      <td>0.8775</td>\n",
       "      <td>NaN</td>\n",
       "      <td>NaN</td>\n",
       "    </tr>\n",
       "    <tr>\n",
       "      <th>2</th>\n",
       "      <td>0.2496</td>\n",
       "      <td>NaN</td>\n",
       "      <td>NaN</td>\n",
       "      <td>0.8831</td>\n",
       "      <td>NaN</td>\n",
       "      <td>NaN</td>\n",
       "    </tr>\n",
       "    <tr>\n",
       "      <th>3</th>\n",
       "      <td>0.2574</td>\n",
       "      <td>NaN</td>\n",
       "      <td>NaN</td>\n",
       "      <td>0.8872</td>\n",
       "      <td>NaN</td>\n",
       "      <td>NaN</td>\n",
       "    </tr>\n",
       "    <tr>\n",
       "      <th>4</th>\n",
       "      <td>0.2151</td>\n",
       "      <td>NaN</td>\n",
       "      <td>0.9564</td>\n",
       "      <td>0.8635</td>\n",
       "      <td>NaN</td>\n",
       "      <td>NaN</td>\n",
       "    </tr>\n",
       "    <tr>\n",
       "      <th>...</th>\n",
       "      <td>...</td>\n",
       "      <td>...</td>\n",
       "      <td>...</td>\n",
       "      <td>...</td>\n",
       "      <td>...</td>\n",
       "      <td>...</td>\n",
       "    </tr>\n",
       "    <tr>\n",
       "      <th>527914</th>\n",
       "      <td>0.9140</td>\n",
       "      <td>0.1546</td>\n",
       "      <td>NaN</td>\n",
       "      <td>0.0004</td>\n",
       "      <td>NaN</td>\n",
       "      <td>NaN</td>\n",
       "    </tr>\n",
       "    <tr>\n",
       "      <th>527915</th>\n",
       "      <td>0.9164</td>\n",
       "      <td>0.5530</td>\n",
       "      <td>0.4168</td>\n",
       "      <td>0.0005</td>\n",
       "      <td>0.6495</td>\n",
       "      <td>0.5072</td>\n",
       "    </tr>\n",
       "    <tr>\n",
       "      <th>527916</th>\n",
       "      <td>0.9333</td>\n",
       "      <td>0.8364</td>\n",
       "      <td>NaN</td>\n",
       "      <td>0.0006</td>\n",
       "      <td>NaN</td>\n",
       "      <td>NaN</td>\n",
       "    </tr>\n",
       "    <tr>\n",
       "      <th>527917</th>\n",
       "      <td>0.9197</td>\n",
       "      <td>0.8344</td>\n",
       "      <td>NaN</td>\n",
       "      <td>0.0005</td>\n",
       "      <td>NaN</td>\n",
       "      <td>NaN</td>\n",
       "    </tr>\n",
       "    <tr>\n",
       "      <th>527918</th>\n",
       "      <td>0.9170</td>\n",
       "      <td>0.9848</td>\n",
       "      <td>0.7047</td>\n",
       "      <td>0.0005</td>\n",
       "      <td>0.7756</td>\n",
       "      <td>0.6765</td>\n",
       "    </tr>\n",
       "  </tbody>\n",
       "</table>\n",
       "<p>527919 rows × 6 columns</p>\n",
       "</div>"
      ]
     },
     "execution_count": 536,
     "metadata": {},
     "output_type": "execute_result"
    }
   ],
   "execution_count": 536
  },
  {
   "cell_type": "code",
   "id": "3ec4beec-5e86-42fb-bc54-d1cb49994375",
   "metadata": {
    "ExecuteTime": {
     "end_time": "2024-12-12T03:51:11.458295Z",
     "start_time": "2024-12-12T03:03:28.929820Z"
    }
   },
   "source": [
    "end_time_part2 = time.time()  # End time\n",
    "execution_time_part2 = end_time_part2 - start_time_part2\n",
    "# Calculate the number of full minutes\n",
    "minutes = int(execution_time_part2 // 60)\n",
    "# Calculate the remaining seconds\n",
    "seconds = int(execution_time_part2 % 60)  \n",
    "print(f\"Execution time for Part II of the project:{minutes} minutes and {seconds} seconds\")"
   ],
   "outputs": [
    {
     "name": "stdout",
     "output_type": "stream",
     "text": [
      "Execution time for Part II of the project:0 minutes and 10 seconds\n"
     ]
    }
   ],
   "execution_count": 537
  }
 ],
 "metadata": {
  "kernelspec": {
   "display_name": "Python 3 (ipykernel)",
   "language": "python",
   "name": "python3"
  },
  "language_info": {
   "codemirror_mode": {
    "name": "ipython",
    "version": 3
   },
   "file_extension": ".py",
   "mimetype": "text/x-python",
   "name": "python",
   "nbconvert_exporter": "python",
   "pygments_lexer": "ipython3",
   "version": "3.12.7"
  }
 },
 "nbformat": 4,
 "nbformat_minor": 5
}
