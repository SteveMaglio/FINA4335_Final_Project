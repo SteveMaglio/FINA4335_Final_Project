{
 "cells": [
  {
   "cell_type": "markdown",
   "id": "fae072b5-c9af-43cb-9619-b4baab613f53",
   "metadata": {},
   "source": [
    "<center><b>  <span style=\"font-size:24px;\">FINA 4335 -Final Project-<span style=\"color:red;\">Part II <span></span></b>\n",
    "<center><span style=\"font-size:22px;\"><b>Due date: 12/11/2024 11:59 PM ET</b></span></center>\n",
    "            \n",
    "##### First name and Last name (team member 1): Stephen Magliocchino\n",
    "##### First name and Last name (team member 2): Benjamin Damon\n",
    "##### First name and Last name (team member 3): Benjamin Inglesby"
   ]
  },
  {
   "cell_type": "markdown",
   "id": "771ab249-0766-49f6-8a5e-03855cbb6664",
   "metadata": {
    "jp-MarkdownHeadingCollapsed": true
   },
   "source": [
    "## Instructions\n",
    "1. Please rename the notebook. It should have the following format: **Final Project_Part II_Lastname1_Lastname2** if there are 2 members in the team.\n",
    "1. Use this **template** and you are free to add more code/markdown cells. Change the markdown cells if necessary. Well format this notebook file.\n",
    "1. After you answer all questions:\n",
    "    1. Restart your kernel and run all cells\n",
    "    1. Save your notebook and export your notebook as HTML\n",
    "    1. Submit the **notebook** and **HTML** to Canvas, under Final Group Project."
   ]
  },
  {
   "cell_type": "markdown",
   "id": "66523d20-73d8-4fb2-8b3f-8d594b8afba6",
   "metadata": {},
   "source": [
    "## Some Grading Guidelines\n",
    "1. All code cells (excluding evaluation cells) should be **executable**. \n",
    "    - Non-executable code cells will receive up to **50%** of grade deduction. To receive more partial credit for a non-executable code cell, ensure it includes sufficient comments.\n",
    "1.  <span style=\"color: blue;\">I grade on both **correctness** and **effort**</span>\n",
    "    - **Suppose you don’t know how to generate a specific variable, then you <span style=\"color: red;\">may use random values (with somewhat reasonable range) to replace the variable</span>. You will lose point for that variable but will get most credit for subsequent questions.**\n",
    "1. Write efficient and clean code\n",
    "    -  No repetitive code (An example of repetitive code: import the same csv file twice).\n",
    "    - Informative variable names (if not specified in the project description).\n",
    "    - Less than 2 uncommented `print`, `.describe()`, or similar quality check in every code cell or every 5 lines of code.\n",
    "    - Every 2 occurrence of inefficient or inclean code will receive **1 point deduction**\n",
    "1. Preserve as many observations as possible\n",
    "    - Losing observations is considered partially incorrect code\n",
    "    - Do not fill NAs\n",
    "1. Include sufficient comments (at least 1 comment every 3 lines of code)\n",
    "      - Failure to include sufficient comments will result in a **5 points** grade deduction\n",
    "1. Format the markdown file such as including headings and brief question description\n",
    "1. Use the methods and formulas **covered in the lecture notebooks**. Using formulas inconsistent to the lecture notebooks receives 20% of grade penalty\n",
    "1. Reasonable code execution time\n",
    "   - The code execution time for this Part should be less than 20 minutes, otherwise **deduct 1 point for every 5 minutes more code execuation time**\n",
    "1. **10% of grade penalty per day late, receive 0% if the project is submitted after Dec 13 11:59 PM ET.**"
   ]
  },
  {
   "cell_type": "code",
   "id": "59e5f521-bfbf-4286-aa82-9beed1cc9c3c",
   "metadata": {
    "ExecuteTime": {
     "end_time": "2024-12-12T01:05:09.437644Z",
     "start_time": "2024-12-12T01:05:09.424757Z"
    }
   },
   "source": [
    "import numpy as np\n",
    "import pandas as pd\n",
    "import datetime as dt\n",
    "import yfinance as yf\n",
    "import scipy.stats as stats \n",
    "import statsmodels.api as sm\n",
    "import pandas_datareader.data as web\n",
    "import seaborn as sns\n",
    "import matplotlib.pyplot as plt\n",
    "%matplotlib inline\n",
    "import time\n",
    "%config InlineBackend.figure_format = 'retina'\n",
    "# Measure execution time\n",
    "start_time_part2 = time.time()  # Start time"
   ],
   "outputs": [],
   "execution_count": 319
  },
  {
   "cell_type": "markdown",
   "id": "041ca27e-cd32-4422-a528-90c3c82f6dc3",
   "metadata": {},
   "source": [
    "## Data preparation (5 points)\n",
    "**Explanation of variables in 'weekly_rets.csv'**\n",
    "\n",
    "- **DATE**: This variable represents the last trading day of each week.\n",
    "- **PERMNO**: This is a unique identifier assigned to each security.\n",
    "- **ret**: the stock's weekly return, expressed as a decimal.\n",
    "  \n",
    "**Explanation of variables in 'monthly_rets_funda.csv'**\n",
    "\n",
    "- **DATE**: This variable represents the last trading day of each month.\n",
    "- **PERMNO**: This is a unique identifier assigned to each security.\n",
    "- **PRC**: reflects the **unadjusted** close price of a stock on the last trading day of the month. This value is the raw closing price without adjustments for corporate actions such as stock splits, dividends, or other modifications.\n",
    "- **RET**: the stock's monthly return, expressed as a decimal. \n",
    "- **SHROUT**: The **shares outstanding** (SHROUT) variable represents the number of shares (in thousands) of a company’s stock that are currently held by all shareholders.\n",
    "- **revenues**:  This variable represents the total revenues for a specific fiscal year. The variable is already 'lagged'."
   ]
  },
  {
   "cell_type": "code",
   "id": "9b467d4a-08dd-47e9-90d4-e4fdc0d2135c",
   "metadata": {
    "ExecuteTime": {
     "end_time": "2024-12-12T01:05:10.930829Z",
     "start_time": "2024-12-12T01:05:09.460575Z"
    }
   },
   "source": [
    "# Write your code in the provided code cell; you can add more cells (same applies below, no further repetition).\n",
    "weekly_rets = pd.read_csv('weekly_rets.csv', parse_dates=['DATE'])\n",
    "monthly_rets = pd.read_csv('monthly_rets_funda.csv', parse_dates=['DATE'])\n",
    "weekly_rets.sort_values(by=['PERMNO', 'DATE'], inplace=True)\n",
    "monthly_rets.sort_values(by=['PERMNO', 'DATE'], inplace=True)\n",
    "mrets_with_signals = monthly_rets.copy()"
   ],
   "outputs": [],
   "execution_count": 320
  },
  {
   "cell_type": "code",
   "id": "c780995f-8387-4f4d-966b-8e65d34e7859",
   "metadata": {
    "ExecuteTime": {
     "end_time": "2024-12-12T01:05:10.966829Z",
     "start_time": "2024-12-12T01:05:10.963515Z"
    }
   },
   "source": [
    "# Evaluation cell (used for grading-I don't have a TA)\n",
    "# you don't need to worry at all if you think certain valuation cell is wrong (same applies below, no further repetition)\n",
    "print(weekly_rets.head())\n",
    "print(monthly_rets.head())"
   ],
   "outputs": [
    {
     "name": "stdout",
     "output_type": "stream",
     "text": [
      "        DATE  PERMNO       ret\n",
      "0 2008-01-04   10001 -0.028264\n",
      "1 2008-01-11   10001 -0.013150\n",
      "2 2008-01-18   10001 -0.004682\n",
      "3 2008-01-25   10001  0.002904\n",
      "4 2008-02-01   10001  0.026923\n",
      "        DATE  PERMNO        PRC       RET    SHROUT  revenues\n",
      "0 2008-01-31   10001  13.986000 -0.006076  2872.125    84.278\n",
      "1 2008-02-29   10001   9.490400  0.021682  4340.655    84.278\n",
      "2 2008-03-31   10001   8.956035 -0.052463  4342.653    84.278\n",
      "3 2008-04-30   10001   8.591400 -0.036661  4342.653    84.278\n",
      "4 2008-05-30   10001  10.889100  0.271356  4342.653    84.278\n"
     ]
    }
   ],
   "execution_count": 321
  },
  {
   "cell_type": "markdown",
   "id": "d3c10bf2-4271-4529-a87a-c498f7c6906d",
   "metadata": {},
   "source": [
    "## Constructing factors (33 points; 15+8+5+5)"
   ]
  },
  {
   "cell_type": "markdown",
   "id": "ed995e29-4e2d-460f-a18b-5dd8d7a20301",
   "metadata": {},
   "source": [
    "### Create signals  (3*5=15 points)"
   ]
  },
  {
   "cell_type": "markdown",
   "id": "ea3d1af4-f18f-4a88-a28a-6a4365683d45",
   "metadata": {},
   "source": [
    "#### price_to_sales"
   ]
  },
  {
   "cell_type": "code",
   "id": "6a9f60e550d8d948",
   "metadata": {
    "ExecuteTime": {
     "end_time": "2024-12-12T01:05:11.000671Z",
     "start_time": "2024-12-12T01:05:10.996398Z"
    }
   },
   "source": [
    "# revenue is already 'lagged'\n",
    "mrets_with_signals['price_to_sales'] = mrets_with_signals['PRC'] / mrets_with_signals['revenues']"
   ],
   "outputs": [],
   "execution_count": 322
  },
  {
   "cell_type": "code",
   "id": "ea49e69b",
   "metadata": {
    "ExecuteTime": {
     "end_time": "2024-12-12T01:05:11.126755Z",
     "start_time": "2024-12-12T01:05:11.030304Z"
    }
   },
   "source": [
    "# some quality check such as .describe() and print head of key variables\n",
    "print(mrets_with_signals.describe())\n",
    "print(mrets_with_signals.isnull().sum())\n",
    "print(mrets_with_signals.head())"
   ],
   "outputs": [
    {
     "name": "stdout",
     "output_type": "stream",
     "text": [
      "                                DATE         PERMNO            PRC  \\\n",
      "count                         527919  527919.000000  525406.000000   \n",
      "mean   2015-12-02 04:09:19.313076224   58495.690371      37.219174   \n",
      "min              2008-01-31 00:00:00   10001.000000       0.016983   \n",
      "25%              2011-09-30 00:00:00   18838.000000       5.154840   \n",
      "50%              2015-10-30 00:00:00   76750.000000      17.032950   \n",
      "75%              2020-01-31 00:00:00   87377.000000      41.308650   \n",
      "max              2023-12-29 00:00:00   93436.000000    6993.449750   \n",
      "std                              NaN   32011.164148     109.502017   \n",
      "\n",
      "                 RET        SHROUT       revenues  price_to_sales  \n",
      "count  525388.000000  5.279190e+05  505997.000000   503601.000000  \n",
      "mean        0.009336  1.336051e+05    4137.744604        1.843115  \n",
      "min        -0.971201  8.991000e+00   -1964.999000     -165.275735  \n",
      "25%        -0.072681  1.954144e+04      91.016000        0.010764  \n",
      "50%         0.002023  4.206190e+04     504.386000        0.033545  \n",
      "75%         0.074546  9.473967e+04    2191.700000        0.106009  \n",
      "max        17.587045  1.708543e+07  569962.000000    34545.420000  \n",
      "std         0.198896  4.651944e+05   18021.597889      150.352424  \n",
      "DATE                  0\n",
      "PERMNO                0\n",
      "PRC                2513\n",
      "RET                2531\n",
      "SHROUT                0\n",
      "revenues          21922\n",
      "price_to_sales    24318\n",
      "dtype: int64\n",
      "        DATE  PERMNO        PRC       RET    SHROUT  revenues  price_to_sales\n",
      "0 2008-01-31   10001  13.986000 -0.006076  2872.125    84.278        0.165951\n",
      "1 2008-02-29   10001   9.490400  0.021682  4340.655    84.278        0.112608\n",
      "2 2008-03-31   10001   8.956035 -0.052463  4342.653    84.278        0.106268\n",
      "3 2008-04-30   10001   8.591400 -0.036661  4342.653    84.278        0.101941\n",
      "4 2008-05-30   10001  10.889100  0.271356  4342.653    84.278        0.129205\n"
     ]
    }
   ],
   "execution_count": 323
  },
  {
   "cell_type": "markdown",
   "id": "3e1cff9f-3b83-41f6-8ce2-a57bfb29034e",
   "metadata": {},
   "source": [
    "#### ret_2to12m"
   ]
  },
  {
   "cell_type": "code",
   "id": "c9dbcbe2a4aa22eb",
   "metadata": {
    "ExecuteTime": {
     "end_time": "2024-12-12T01:05:11.161283Z",
     "start_time": "2024-12-12T01:05:11.156029Z"
    }
   },
   "source": [
    "# Each signal is only worth 3 points. Suppose you don’t know how to generate a specific signal, then you may use random values \n",
    "# (with somewhat reasonable range) to replace the signal. You will lose 3 points but will get most credit for subsequent questions.\n",
    "mrets_with_signals['ret_2to12m'] = (1 + mrets_with_signals['RET']).shift(2) * (1 + mrets_with_signals['RET']).shift(12) - 1"
   ],
   "outputs": [],
   "execution_count": 324
  },
  {
   "cell_type": "code",
   "id": "429640cf-2e85-4923-b5f2-7632ba70999c",
   "metadata": {
    "ExecuteTime": {
     "end_time": "2024-12-12T01:05:11.193040Z",
     "start_time": "2024-12-12T01:05:11.191423Z"
    }
   },
   "source": [
    "# some quality check such as .describe() and print head of key variables\n",
    "\n"
   ],
   "outputs": [],
   "execution_count": 325
  },
  {
   "cell_type": "markdown",
   "id": "960ce557-767f-40de-8f2a-4ed5220998b5",
   "metadata": {},
   "source": [
    "#### ret_2w"
   ]
  },
  {
   "cell_type": "code",
   "id": "b601b4d5-92f3-4e7c-897c-b09f3b555358",
   "metadata": {
    "ExecuteTime": {
     "end_time": "2024-12-12T01:05:11.649973Z",
     "start_time": "2024-12-12T01:05:11.223065Z"
    }
   },
   "source": [
    "# Each signal is only worth 3 points. Suppose you don’t know how to generate a specific signal, then you may use random values \n",
    "# (with somewhat reasonable range) to replace the signal. You will lose 3 points but will get most credit for subsequent questions.\n",
    "\n",
    "temp_weekly_rets = weekly_rets.copy(deep=True)\n",
    "# Ensure ret column exists in weekly_rets\n",
    "temp_weekly_rets['ret'] = temp_weekly_rets['ret'].fillna(0)  # Replace NaNs with 0 for safe return calculations\n",
    "\n",
    "# Calculate ret_2w for each PERMNO\n",
    "temp_weekly_rets['ret_2w'] = (1 + temp_weekly_rets['ret']).shift(1) * (1 + temp_weekly_rets['ret']).shift(2) - 1\n",
    "\n",
    "# Merge ret_2w into mrets_with_signals\n",
    "mrets_with_signals = mrets_with_signals.merge(\n",
    "    temp_weekly_rets[['PERMNO', 'DATE', 'ret_2w']],\n",
    "    on=['PERMNO', 'DATE'],\n",
    "    how='left'\n",
    ")\n",
    "\n",
    "print(mrets_with_signals.head())\n"
   ],
   "outputs": [
    {
     "name": "stdout",
     "output_type": "stream",
     "text": [
      "        DATE  PERMNO        PRC       RET    SHROUT  revenues  price_to_sales  \\\n",
      "0 2008-01-31   10001  13.986000 -0.006076  2872.125    84.278        0.165951   \n",
      "1 2008-02-29   10001   9.490400  0.021682  4340.655    84.278        0.112608   \n",
      "2 2008-03-31   10001   8.956035 -0.052463  4342.653    84.278        0.106268   \n",
      "3 2008-04-30   10001   8.591400 -0.036661  4342.653    84.278        0.101941   \n",
      "4 2008-05-30   10001  10.889100  0.271356  4342.653    84.278        0.129205   \n",
      "\n",
      "   ret_2to12m    ret_2w  \n",
      "0         NaN       NaN  \n",
      "1         NaN -0.029025  \n",
      "2         NaN       NaN  \n",
      "3         NaN       NaN  \n",
      "4         NaN  0.170767  \n"
     ]
    }
   ],
   "execution_count": 326
  },
  {
   "cell_type": "code",
   "id": "e11f143a-976b-4842-a179-b412590399f5",
   "metadata": {
    "ExecuteTime": {
     "end_time": "2024-12-12T01:05:11.697367Z",
     "start_time": "2024-12-12T01:05:11.678731Z"
    }
   },
   "source": [
    "# some quality check such as .describe() and print head of key variables\n",
    "print(mrets_with_signals.dropna().shape)\n",
    "print(mrets_with_signals.shape)\n"
   ],
   "outputs": [
    {
     "name": "stdout",
     "output_type": "stream",
     "text": [
      "(223675, 9)\n",
      "(527919, 9)\n"
     ]
    }
   ],
   "execution_count": 327
  },
  {
   "cell_type": "markdown",
   "id": "bba36a24-fa15-483a-b9c0-f8d4a76211e2",
   "metadata": {},
   "source": [
    "#### mcap_quarter"
   ]
  },
  {
   "cell_type": "code",
   "id": "c206b089-2fe2-4889-a8c5-5cbef24b9843",
   "metadata": {
    "ExecuteTime": {
     "end_time": "2024-12-12T01:05:11.730212Z",
     "start_time": "2024-12-12T01:05:11.727198Z"
    }
   },
   "source": [
    "# Each signal is only worth 3 points. Suppose you don’t know how to generate a specific signal, then you may use random values \n",
    "# (with somewhat reasonable range) to replace the signal. You will lose 3 points but will get most credit for subsequent questions.\n",
    "mrets_with_signals['mcap_quarter'] = mrets_with_signals['PRC'] * mrets_with_signals['SHROUT']"
   ],
   "outputs": [],
   "execution_count": 328
  },
  {
   "cell_type": "code",
   "id": "ef27961f-cc5a-471e-8c93-6fcc5477407b",
   "metadata": {
    "ExecuteTime": {
     "end_time": "2024-12-12T01:05:11.913091Z",
     "start_time": "2024-12-12T01:05:11.759519Z"
    }
   },
   "source": [
    "# some quality check such as .describe() and print head of key variables\n",
    "print(mrets_with_signals.describe())\n",
    "print(mrets_with_signals.isnull().sum())\n",
    "print(mrets_with_signals.head())"
   ],
   "outputs": [
    {
     "name": "stdout",
     "output_type": "stream",
     "text": [
      "                                DATE         PERMNO            PRC  \\\n",
      "count                         527919  527919.000000  525406.000000   \n",
      "mean   2015-12-02 04:09:19.313076224   58495.690371      37.219174   \n",
      "min              2008-01-31 00:00:00   10001.000000       0.016983   \n",
      "25%              2011-09-30 00:00:00   18838.000000       5.154840   \n",
      "50%              2015-10-30 00:00:00   76750.000000      17.032950   \n",
      "75%              2020-01-31 00:00:00   87377.000000      41.308650   \n",
      "max              2023-12-29 00:00:00   93436.000000    6993.449750   \n",
      "std                              NaN   32011.164148     109.502017   \n",
      "\n",
      "                 RET        SHROUT       revenues  price_to_sales  \\\n",
      "count  525388.000000  5.279190e+05  505997.000000   503601.000000   \n",
      "mean        0.009336  1.336051e+05    4137.744604        1.843115   \n",
      "min        -0.971201  8.991000e+00   -1964.999000     -165.275735   \n",
      "25%        -0.072681  1.954144e+04      91.016000        0.010764   \n",
      "50%         0.002023  4.206190e+04     504.386000        0.033545   \n",
      "75%         0.074546  9.473967e+04    2191.700000        0.106009   \n",
      "max        17.587045  1.708543e+07  569962.000000    34545.420000   \n",
      "std         0.198896  4.651944e+05   18021.597889      150.352424   \n",
      "\n",
      "          ret_2to12m         ret_2w  mcap_quarter  \n",
      "count  522860.000000  235726.000000  5.254060e+05  \n",
      "mean        0.019139      -0.000126  7.108534e+06  \n",
      "min        -0.972863      -0.954480  8.815842e+01  \n",
      "25%        -0.109700      -0.046809  1.246557e+05  \n",
      "50%         0.004346       0.000328  6.304427e+05  \n",
      "75%         0.116126       0.043689  2.908814e+06  \n",
      "max        25.258856       7.593169  3.065205e+09  \n",
      "std         0.282257       0.128383  4.409977e+07  \n",
      "DATE                   0\n",
      "PERMNO                 0\n",
      "PRC                 2513\n",
      "RET                 2531\n",
      "SHROUT                 0\n",
      "revenues           21922\n",
      "price_to_sales     24318\n",
      "ret_2to12m          5059\n",
      "ret_2w            292193\n",
      "mcap_quarter        2513\n",
      "dtype: int64\n",
      "        DATE  PERMNO        PRC       RET    SHROUT  revenues  price_to_sales  \\\n",
      "0 2008-01-31   10001  13.986000 -0.006076  2872.125    84.278        0.165951   \n",
      "1 2008-02-29   10001   9.490400  0.021682  4340.655    84.278        0.112608   \n",
      "2 2008-03-31   10001   8.956035 -0.052463  4342.653    84.278        0.106268   \n",
      "3 2008-04-30   10001   8.591400 -0.036661  4342.653    84.278        0.101941   \n",
      "4 2008-05-30   10001  10.889100  0.271356  4342.653    84.278        0.129205   \n",
      "\n",
      "   ret_2to12m    ret_2w  mcap_quarter  \n",
      "0         NaN       NaN  40169.540250  \n",
      "1         NaN -0.029025  41194.552646  \n",
      "2         NaN       NaN  38892.952261  \n",
      "3         NaN       NaN  37309.468984  \n",
      "4         NaN  0.170767  47287.582782  \n"
     ]
    }
   ],
   "execution_count": 329
  },
  {
   "cell_type": "markdown",
   "id": "5baf15f1-b623-419c-b2be-25fa6d7cbc25",
   "metadata": {},
   "source": [
    "#### beta"
   ]
  },
  {
   "cell_type": "code",
   "id": "5f02c4b7",
   "metadata": {
    "ExecuteTime": {
     "end_time": "2024-12-12T01:05:15.196426Z",
     "start_time": "2024-12-12T01:05:11.941603Z"
    }
   },
   "source": [
    "temp_weekly_rets = weekly_rets.copy(deep=True)\n",
    "temp_weekly_rets['market_ret'] = temp_weekly_rets['ret']  # Replace this with actual market proxy\n",
    "\n",
    "# Calculate rolling beta for each PERMNO over a 52-week window\n",
    "def calculate_beta(group):\n",
    "    # Covariance and variance rolling calculations\n",
    "    rolling_cov = group['ret'].rolling(window=52, min_periods=24).cov(group['market_ret'])\n",
    "    rolling_var = group['market_ret'].rolling(window=52, min_periods=24).var()\n",
    "    return rolling_cov / rolling_var\n",
    "\n",
    "# Add beta to weekly_rets\n",
    "temp_weekly_rets['beta'] = temp_weekly_rets.groupby('PERMNO').apply(calculate_beta).reset_index(level=0, drop=True)\n",
    "\n",
    "# Merge beta into mrets_with_signals\n",
    "mrets_with_signals = mrets_with_signals.merge(\n",
    "    temp_weekly_rets[['PERMNO', 'DATE', 'beta']],\n",
    "    on=['PERMNO', 'DATE'],\n",
    "    how='left'\n",
    ")\n"
   ],
   "outputs": [],
   "execution_count": 330
  },
  {
   "cell_type": "code",
   "id": "51100750-9fd9-4081-968c-457db22b80b9",
   "metadata": {
    "ExecuteTime": {
     "end_time": "2024-12-12T01:05:15.230887Z",
     "start_time": "2024-12-12T01:05:15.225079Z"
    }
   },
   "source": [
    "# some quality check such as .describe() and print head of key variables\n",
    "\n",
    "mrets_with_signals[\"beta\"].value_counts()"
   ],
   "outputs": [
    {
     "data": {
      "text/plain": [
       "beta\n",
       "1.0    19932\n",
       "1.0    16985\n",
       "1.0    12745\n",
       "1.0    11432\n",
       "1.0     9051\n",
       "       ...  \n",
       "1.0        1\n",
       "1.0        1\n",
       "1.0        1\n",
       "1.0        1\n",
       "1.0        1\n",
       "Name: count, Length: 798, dtype: int64"
      ]
     },
     "execution_count": 331,
     "metadata": {},
     "output_type": "execute_result"
    }
   ],
   "execution_count": 331
  },
  {
   "cell_type": "code",
   "id": "8711c13d",
   "metadata": {
    "ExecuteTime": {
     "end_time": "2024-12-12T01:05:15.299371Z",
     "start_time": "2024-12-12T01:05:15.275418Z"
    }
   },
   "source": [
    "print(mrets_with_signals.dropna().shape)\n",
    "print(mrets_with_signals.shape)\n"
   ],
   "outputs": [
    {
     "name": "stdout",
     "output_type": "stream",
     "text": [
      "(219097, 11)\n",
      "(527919, 11)\n"
     ]
    }
   ],
   "execution_count": 332
  },
  {
   "cell_type": "code",
   "id": "38eb6342-9b21-41c0-ac52-ad3b709d8be3",
   "metadata": {
    "scrolled": true,
    "ExecuteTime": {
     "end_time": "2024-12-12T01:05:15.454921Z",
     "start_time": "2024-12-12T01:05:15.333528Z"
    }
   },
   "source": [
    "#############################################################################################################################\n",
    "# Evaluation cell (used for grading-I don't have a TA)\n",
    "#############################################################################################################################\n",
    "some_vars = ['PERMNO','RET']+['price_to_sales', 'ret_2to12m', 'ret_2w', 'mcap_quarter', 'beta']\n",
    "print(mrets_with_signals[some_vars].head())\n",
    "mrets_with_signals[some_vars].describe()"
   ],
   "outputs": [
    {
     "name": "stdout",
     "output_type": "stream",
     "text": [
      "   PERMNO       RET  price_to_sales  ret_2to12m    ret_2w  mcap_quarter  beta\n",
      "0   10001 -0.006076        0.165951         NaN       NaN  40169.540250   NaN\n",
      "1   10001  0.021682        0.112608         NaN -0.029025  41194.552646   NaN\n",
      "2   10001 -0.052463        0.106268         NaN       NaN  38892.952261   NaN\n",
      "3   10001 -0.036661        0.101941         NaN       NaN  37309.468984   NaN\n",
      "4   10001  0.271356        0.129205         NaN  0.170767  47287.582782   NaN\n"
     ]
    },
    {
     "data": {
      "text/plain": [
       "              PERMNO            RET  price_to_sales     ret_2to12m  \\\n",
       "count  527919.000000  525388.000000   503601.000000  522860.000000   \n",
       "mean    58495.690371       0.009336        1.843115       0.019139   \n",
       "std     32011.164148       0.198896      150.352424       0.282257   \n",
       "min     10001.000000      -0.971201     -165.275735      -0.972863   \n",
       "25%     18838.000000      -0.072681        0.010764      -0.109700   \n",
       "50%     76750.000000       0.002023        0.033545       0.004346   \n",
       "75%     87377.000000       0.074546        0.106009       0.116126   \n",
       "max     93436.000000      17.587045    34545.420000      25.258856   \n",
       "\n",
       "              ret_2w  mcap_quarter          beta  \n",
       "count  235726.000000  5.254060e+05  2.295620e+05  \n",
       "mean       -0.000126  7.108534e+06  1.000000e+00  \n",
       "std         0.128383  4.409977e+07  4.796130e-15  \n",
       "min        -0.954480  8.815842e+01  1.000000e+00  \n",
       "25%        -0.046809  1.246557e+05  1.000000e+00  \n",
       "50%         0.000328  6.304427e+05  1.000000e+00  \n",
       "75%         0.043689  2.908814e+06  1.000000e+00  \n",
       "max         7.593169  3.065205e+09  1.000000e+00  "
      ],
      "text/html": [
       "<div>\n",
       "<style scoped>\n",
       "    .dataframe tbody tr th:only-of-type {\n",
       "        vertical-align: middle;\n",
       "    }\n",
       "\n",
       "    .dataframe tbody tr th {\n",
       "        vertical-align: top;\n",
       "    }\n",
       "\n",
       "    .dataframe thead th {\n",
       "        text-align: right;\n",
       "    }\n",
       "</style>\n",
       "<table border=\"1\" class=\"dataframe\">\n",
       "  <thead>\n",
       "    <tr style=\"text-align: right;\">\n",
       "      <th></th>\n",
       "      <th>PERMNO</th>\n",
       "      <th>RET</th>\n",
       "      <th>price_to_sales</th>\n",
       "      <th>ret_2to12m</th>\n",
       "      <th>ret_2w</th>\n",
       "      <th>mcap_quarter</th>\n",
       "      <th>beta</th>\n",
       "    </tr>\n",
       "  </thead>\n",
       "  <tbody>\n",
       "    <tr>\n",
       "      <th>count</th>\n",
       "      <td>527919.000000</td>\n",
       "      <td>525388.000000</td>\n",
       "      <td>503601.000000</td>\n",
       "      <td>522860.000000</td>\n",
       "      <td>235726.000000</td>\n",
       "      <td>5.254060e+05</td>\n",
       "      <td>2.295620e+05</td>\n",
       "    </tr>\n",
       "    <tr>\n",
       "      <th>mean</th>\n",
       "      <td>58495.690371</td>\n",
       "      <td>0.009336</td>\n",
       "      <td>1.843115</td>\n",
       "      <td>0.019139</td>\n",
       "      <td>-0.000126</td>\n",
       "      <td>7.108534e+06</td>\n",
       "      <td>1.000000e+00</td>\n",
       "    </tr>\n",
       "    <tr>\n",
       "      <th>std</th>\n",
       "      <td>32011.164148</td>\n",
       "      <td>0.198896</td>\n",
       "      <td>150.352424</td>\n",
       "      <td>0.282257</td>\n",
       "      <td>0.128383</td>\n",
       "      <td>4.409977e+07</td>\n",
       "      <td>4.796130e-15</td>\n",
       "    </tr>\n",
       "    <tr>\n",
       "      <th>min</th>\n",
       "      <td>10001.000000</td>\n",
       "      <td>-0.971201</td>\n",
       "      <td>-165.275735</td>\n",
       "      <td>-0.972863</td>\n",
       "      <td>-0.954480</td>\n",
       "      <td>8.815842e+01</td>\n",
       "      <td>1.000000e+00</td>\n",
       "    </tr>\n",
       "    <tr>\n",
       "      <th>25%</th>\n",
       "      <td>18838.000000</td>\n",
       "      <td>-0.072681</td>\n",
       "      <td>0.010764</td>\n",
       "      <td>-0.109700</td>\n",
       "      <td>-0.046809</td>\n",
       "      <td>1.246557e+05</td>\n",
       "      <td>1.000000e+00</td>\n",
       "    </tr>\n",
       "    <tr>\n",
       "      <th>50%</th>\n",
       "      <td>76750.000000</td>\n",
       "      <td>0.002023</td>\n",
       "      <td>0.033545</td>\n",
       "      <td>0.004346</td>\n",
       "      <td>0.000328</td>\n",
       "      <td>6.304427e+05</td>\n",
       "      <td>1.000000e+00</td>\n",
       "    </tr>\n",
       "    <tr>\n",
       "      <th>75%</th>\n",
       "      <td>87377.000000</td>\n",
       "      <td>0.074546</td>\n",
       "      <td>0.106009</td>\n",
       "      <td>0.116126</td>\n",
       "      <td>0.043689</td>\n",
       "      <td>2.908814e+06</td>\n",
       "      <td>1.000000e+00</td>\n",
       "    </tr>\n",
       "    <tr>\n",
       "      <th>max</th>\n",
       "      <td>93436.000000</td>\n",
       "      <td>17.587045</td>\n",
       "      <td>34545.420000</td>\n",
       "      <td>25.258856</td>\n",
       "      <td>7.593169</td>\n",
       "      <td>3.065205e+09</td>\n",
       "      <td>1.000000e+00</td>\n",
       "    </tr>\n",
       "  </tbody>\n",
       "</table>\n",
       "</div>"
      ]
     },
     "execution_count": 333,
     "metadata": {},
     "output_type": "execute_result"
    }
   ],
   "execution_count": 333
  },
  {
   "cell_type": "code",
   "id": "f4b8de12-f276-4f99-b8f5-986f69ab56e5",
   "metadata": {
    "ExecuteTime": {
     "end_time": "2024-12-12T01:05:15.482649Z",
     "start_time": "2024-12-12T01:05:15.477864Z"
    }
   },
   "source": [
    "# Evaluation cell (used for grading-I don't have a TA)\n",
    "mrets_with_signals.head()"
   ],
   "outputs": [
    {
     "data": {
      "text/plain": [
       "        DATE  PERMNO        PRC       RET    SHROUT  revenues  price_to_sales  \\\n",
       "0 2008-01-31   10001  13.986000 -0.006076  2872.125    84.278        0.165951   \n",
       "1 2008-02-29   10001   9.490400  0.021682  4340.655    84.278        0.112608   \n",
       "2 2008-03-31   10001   8.956035 -0.052463  4342.653    84.278        0.106268   \n",
       "3 2008-04-30   10001   8.591400 -0.036661  4342.653    84.278        0.101941   \n",
       "4 2008-05-30   10001  10.889100  0.271356  4342.653    84.278        0.129205   \n",
       "\n",
       "   ret_2to12m    ret_2w  mcap_quarter  beta  \n",
       "0         NaN       NaN  40169.540250   NaN  \n",
       "1         NaN -0.029025  41194.552646   NaN  \n",
       "2         NaN       NaN  38892.952261   NaN  \n",
       "3         NaN       NaN  37309.468984   NaN  \n",
       "4         NaN  0.170767  47287.582782   NaN  "
      ],
      "text/html": [
       "<div>\n",
       "<style scoped>\n",
       "    .dataframe tbody tr th:only-of-type {\n",
       "        vertical-align: middle;\n",
       "    }\n",
       "\n",
       "    .dataframe tbody tr th {\n",
       "        vertical-align: top;\n",
       "    }\n",
       "\n",
       "    .dataframe thead th {\n",
       "        text-align: right;\n",
       "    }\n",
       "</style>\n",
       "<table border=\"1\" class=\"dataframe\">\n",
       "  <thead>\n",
       "    <tr style=\"text-align: right;\">\n",
       "      <th></th>\n",
       "      <th>DATE</th>\n",
       "      <th>PERMNO</th>\n",
       "      <th>PRC</th>\n",
       "      <th>RET</th>\n",
       "      <th>SHROUT</th>\n",
       "      <th>revenues</th>\n",
       "      <th>price_to_sales</th>\n",
       "      <th>ret_2to12m</th>\n",
       "      <th>ret_2w</th>\n",
       "      <th>mcap_quarter</th>\n",
       "      <th>beta</th>\n",
       "    </tr>\n",
       "  </thead>\n",
       "  <tbody>\n",
       "    <tr>\n",
       "      <th>0</th>\n",
       "      <td>2008-01-31</td>\n",
       "      <td>10001</td>\n",
       "      <td>13.986000</td>\n",
       "      <td>-0.006076</td>\n",
       "      <td>2872.125</td>\n",
       "      <td>84.278</td>\n",
       "      <td>0.165951</td>\n",
       "      <td>NaN</td>\n",
       "      <td>NaN</td>\n",
       "      <td>40169.540250</td>\n",
       "      <td>NaN</td>\n",
       "    </tr>\n",
       "    <tr>\n",
       "      <th>1</th>\n",
       "      <td>2008-02-29</td>\n",
       "      <td>10001</td>\n",
       "      <td>9.490400</td>\n",
       "      <td>0.021682</td>\n",
       "      <td>4340.655</td>\n",
       "      <td>84.278</td>\n",
       "      <td>0.112608</td>\n",
       "      <td>NaN</td>\n",
       "      <td>-0.029025</td>\n",
       "      <td>41194.552646</td>\n",
       "      <td>NaN</td>\n",
       "    </tr>\n",
       "    <tr>\n",
       "      <th>2</th>\n",
       "      <td>2008-03-31</td>\n",
       "      <td>10001</td>\n",
       "      <td>8.956035</td>\n",
       "      <td>-0.052463</td>\n",
       "      <td>4342.653</td>\n",
       "      <td>84.278</td>\n",
       "      <td>0.106268</td>\n",
       "      <td>NaN</td>\n",
       "      <td>NaN</td>\n",
       "      <td>38892.952261</td>\n",
       "      <td>NaN</td>\n",
       "    </tr>\n",
       "    <tr>\n",
       "      <th>3</th>\n",
       "      <td>2008-04-30</td>\n",
       "      <td>10001</td>\n",
       "      <td>8.591400</td>\n",
       "      <td>-0.036661</td>\n",
       "      <td>4342.653</td>\n",
       "      <td>84.278</td>\n",
       "      <td>0.101941</td>\n",
       "      <td>NaN</td>\n",
       "      <td>NaN</td>\n",
       "      <td>37309.468984</td>\n",
       "      <td>NaN</td>\n",
       "    </tr>\n",
       "    <tr>\n",
       "      <th>4</th>\n",
       "      <td>2008-05-30</td>\n",
       "      <td>10001</td>\n",
       "      <td>10.889100</td>\n",
       "      <td>0.271356</td>\n",
       "      <td>4342.653</td>\n",
       "      <td>84.278</td>\n",
       "      <td>0.129205</td>\n",
       "      <td>NaN</td>\n",
       "      <td>0.170767</td>\n",
       "      <td>47287.582782</td>\n",
       "      <td>NaN</td>\n",
       "    </tr>\n",
       "  </tbody>\n",
       "</table>\n",
       "</div>"
      ]
     },
     "execution_count": 334,
     "metadata": {},
     "output_type": "execute_result"
    }
   ],
   "execution_count": 334
  },
  {
   "cell_type": "markdown",
   "id": "d1b60194-eedc-4632-a7b4-c44d1ecec002",
   "metadata": {},
   "source": [
    "### Form time-series portfolios (8 points) "
   ]
  },
  {
   "cell_type": "code",
   "id": "e0a75b44-0a5a-4639-bb09-925b28ed95da",
   "metadata": {
    "ExecuteTime": {
     "end_time": "2024-12-12T01:05:15.518437Z",
     "start_time": "2024-12-12T01:05:15.515649Z"
    }
   },
   "source": [
    "def calculate_quintile_portfolios(data, signal_col):\n",
    "    \"\"\"\n",
    "    Calculate equal-weighted quintile portfolios and long-short factor.\n",
    "    Args:\n",
    "        data: DataFrame with `DATE`, `PERMNO`, `RET`, and signal_col.\n",
    "        signal_col: The column name for the signal to form quintiles.\n",
    "    Returns:\n",
    "        DataFrame with quintile portfolio returns and long-short factor.\n",
    "    \"\"\"\n",
    "    quintiles = []\n",
    "    for date, group in data.groupby('DATE'):\n",
    "        # Check if the group has enough unique values for quintiles\n",
    "        if group[signal_col].nunique() < 5:\n",
    "            print(f\"Skipping {date}: Not enough unique values for quintiles.\")\n",
    "            continue\n",
    "\n",
    "        try:\n",
    "            # Assign quintiles based on the signal, dropping duplicate edges\n",
    "            group['quintile'] = pd.qcut(group[signal_col], 5, labels=[1, 2, 3, 4, 5], duplicates='drop')\n",
    "        except ValueError as e:\n",
    "            print(f\"Error processing {date}: {e}\")\n",
    "            continue\n",
    "\n",
    "        # Calculate equal-weighted returns for each quintile\n",
    "        quintile_returns = group.groupby('quintile')['RET'].mean()\n",
    "        quintile_returns['long_short'] = quintile_returns[5] - quintile_returns[1]\n",
    "\n",
    "        # Store the result\n",
    "        quintiles.append(pd.Series(quintile_returns, name=date))\n",
    "\n",
    "    # Combine results into a single DataFrame\n",
    "    quintile_df = pd.DataFrame(quintiles).sort_index()\n",
    "    return quintile_df"
   ],
   "outputs": [],
   "execution_count": 335
  },
  {
   "cell_type": "code",
   "id": "1b5ae713",
   "metadata": {
    "ExecuteTime": {
     "end_time": "2024-12-12T01:05:16.525124Z",
     "start_time": "2024-12-12T01:05:15.562095Z"
    }
   },
   "source": [
    "# Signals to evaluate\n",
    "signals = {\n",
    "    'value': 'price_to_sales',\n",
    "    'momentum': 'ret_2to12m',\n",
    "    'reversal': 'ret_2w',\n",
    "    'size': 'mcap_quarter',\n",
    "    'beta': 'beta'\n",
    "}\n",
    "\n",
    "# Create DataFrames for each signal\n",
    "results = {}\n",
    "for signal_name, signal_col in signals.items():\n",
    "    print(f\"Processing signal: {signal_name}\")\n",
    "    results[f\"{signal_name}_df\"] = calculate_quintile_portfolios(mrets_with_signals, signal_col)\n"
   ],
   "outputs": [
    {
     "name": "stdout",
     "output_type": "stream",
     "text": [
      "Processing signal: value\n",
      "Processing signal: momentum\n",
      "Processing signal: reversal\n",
      "Skipping 2008-01-31 00:00:00: Not enough unique values for quintiles.\n",
      "Skipping 2008-03-31 00:00:00: Not enough unique values for quintiles.\n",
      "Skipping 2008-04-30 00:00:00: Not enough unique values for quintiles.\n",
      "Skipping 2008-06-30 00:00:00: Not enough unique values for quintiles.\n",
      "Skipping 2008-07-31 00:00:00: Not enough unique values for quintiles.\n",
      "Skipping 2008-09-30 00:00:00: Not enough unique values for quintiles.\n",
      "Skipping 2008-12-31 00:00:00: Not enough unique values for quintiles.\n",
      "Skipping 2009-03-31 00:00:00: Not enough unique values for quintiles.\n",
      "Skipping 2009-04-30 00:00:00: Not enough unique values for quintiles.\n",
      "Skipping 2009-06-30 00:00:00: Not enough unique values for quintiles.\n",
      "Skipping 2009-08-31 00:00:00: Not enough unique values for quintiles.\n",
      "Skipping 2009-09-30 00:00:00: Not enough unique values for quintiles.\n",
      "Skipping 2009-11-30 00:00:00: Not enough unique values for quintiles.\n",
      "Skipping 2010-03-31 00:00:00: Not enough unique values for quintiles.\n",
      "Skipping 2010-06-30 00:00:00: Not enough unique values for quintiles.\n",
      "Skipping 2010-08-31 00:00:00: Not enough unique values for quintiles.\n",
      "Skipping 2010-09-30 00:00:00: Not enough unique values for quintiles.\n",
      "Skipping 2010-11-30 00:00:00: Not enough unique values for quintiles.\n",
      "Skipping 2011-01-31 00:00:00: Not enough unique values for quintiles.\n",
      "Skipping 2011-02-28 00:00:00: Not enough unique values for quintiles.\n",
      "Skipping 2011-03-31 00:00:00: Not enough unique values for quintiles.\n",
      "Skipping 2011-05-31 00:00:00: Not enough unique values for quintiles.\n",
      "Skipping 2011-06-30 00:00:00: Not enough unique values for quintiles.\n",
      "Skipping 2011-08-31 00:00:00: Not enough unique values for quintiles.\n",
      "Skipping 2011-10-31 00:00:00: Not enough unique values for quintiles.\n",
      "Skipping 2011-11-30 00:00:00: Not enough unique values for quintiles.\n",
      "Skipping 2012-01-31 00:00:00: Not enough unique values for quintiles.\n",
      "Skipping 2012-02-29 00:00:00: Not enough unique values for quintiles.\n",
      "Skipping 2012-04-30 00:00:00: Not enough unique values for quintiles.\n",
      "Skipping 2012-05-31 00:00:00: Not enough unique values for quintiles.\n",
      "Skipping 2012-07-31 00:00:00: Not enough unique values for quintiles.\n",
      "Skipping 2012-10-31 00:00:00: Not enough unique values for quintiles.\n",
      "Skipping 2012-12-31 00:00:00: Not enough unique values for quintiles.\n",
      "Skipping 2013-01-31 00:00:00: Not enough unique values for quintiles.\n",
      "Skipping 2013-02-28 00:00:00: Not enough unique values for quintiles.\n",
      "Skipping 2013-04-30 00:00:00: Not enough unique values for quintiles.\n",
      "Skipping 2013-07-31 00:00:00: Not enough unique values for quintiles.\n",
      "Skipping 2013-09-30 00:00:00: Not enough unique values for quintiles.\n",
      "Skipping 2013-10-31 00:00:00: Not enough unique values for quintiles.\n",
      "Skipping 2013-12-31 00:00:00: Not enough unique values for quintiles.\n",
      "Skipping 2014-03-31 00:00:00: Not enough unique values for quintiles.\n",
      "Skipping 2014-04-30 00:00:00: Not enough unique values for quintiles.\n",
      "Skipping 2014-06-30 00:00:00: Not enough unique values for quintiles.\n",
      "Skipping 2014-07-31 00:00:00: Not enough unique values for quintiles.\n",
      "Skipping 2014-09-30 00:00:00: Not enough unique values for quintiles.\n",
      "Skipping 2014-12-31 00:00:00: Not enough unique values for quintiles.\n",
      "Skipping 2015-03-31 00:00:00: Not enough unique values for quintiles.\n",
      "Skipping 2015-04-30 00:00:00: Not enough unique values for quintiles.\n",
      "Skipping 2015-06-30 00:00:00: Not enough unique values for quintiles.\n",
      "Skipping 2015-08-31 00:00:00: Not enough unique values for quintiles.\n",
      "Skipping 2015-09-30 00:00:00: Not enough unique values for quintiles.\n",
      "Skipping 2015-11-30 00:00:00: Not enough unique values for quintiles.\n",
      "Skipping 2016-02-29 00:00:00: Not enough unique values for quintiles.\n",
      "Skipping 2016-03-31 00:00:00: Not enough unique values for quintiles.\n",
      "Skipping 2016-05-31 00:00:00: Not enough unique values for quintiles.\n",
      "Skipping 2016-08-31 00:00:00: Not enough unique values for quintiles.\n",
      "Skipping 2016-10-31 00:00:00: Not enough unique values for quintiles.\n",
      "Skipping 2016-11-30 00:00:00: Not enough unique values for quintiles.\n",
      "Skipping 2017-01-31 00:00:00: Not enough unique values for quintiles.\n",
      "Skipping 2017-02-28 00:00:00: Not enough unique values for quintiles.\n",
      "Skipping 2017-05-31 00:00:00: Not enough unique values for quintiles.\n",
      "Skipping 2017-07-31 00:00:00: Not enough unique values for quintiles.\n",
      "Skipping 2017-08-31 00:00:00: Not enough unique values for quintiles.\n",
      "Skipping 2017-10-31 00:00:00: Not enough unique values for quintiles.\n",
      "Skipping 2017-11-30 00:00:00: Not enough unique values for quintiles.\n",
      "Skipping 2018-01-31 00:00:00: Not enough unique values for quintiles.\n",
      "Skipping 2018-02-28 00:00:00: Not enough unique values for quintiles.\n",
      "Skipping 2018-04-30 00:00:00: Not enough unique values for quintiles.\n",
      "Skipping 2018-05-31 00:00:00: Not enough unique values for quintiles.\n",
      "Skipping 2018-07-31 00:00:00: Not enough unique values for quintiles.\n",
      "Skipping 2018-10-31 00:00:00: Not enough unique values for quintiles.\n",
      "Skipping 2018-12-31 00:00:00: Not enough unique values for quintiles.\n",
      "Skipping 2019-01-31 00:00:00: Not enough unique values for quintiles.\n",
      "Skipping 2019-02-28 00:00:00: Not enough unique values for quintiles.\n",
      "Skipping 2019-04-30 00:00:00: Not enough unique values for quintiles.\n",
      "Skipping 2019-07-31 00:00:00: Not enough unique values for quintiles.\n",
      "Skipping 2019-09-30 00:00:00: Not enough unique values for quintiles.\n",
      "Skipping 2019-10-31 00:00:00: Not enough unique values for quintiles.\n",
      "Skipping 2019-12-31 00:00:00: Not enough unique values for quintiles.\n",
      "Skipping 2020-03-31 00:00:00: Not enough unique values for quintiles.\n",
      "Skipping 2020-04-30 00:00:00: Not enough unique values for quintiles.\n",
      "Skipping 2020-06-30 00:00:00: Not enough unique values for quintiles.\n",
      "Skipping 2020-08-31 00:00:00: Not enough unique values for quintiles.\n",
      "Skipping 2020-09-30 00:00:00: Not enough unique values for quintiles.\n",
      "Skipping 2020-11-30 00:00:00: Not enough unique values for quintiles.\n",
      "Skipping 2021-03-31 00:00:00: Not enough unique values for quintiles.\n",
      "Skipping 2021-06-30 00:00:00: Not enough unique values for quintiles.\n",
      "Skipping 2021-08-31 00:00:00: Not enough unique values for quintiles.\n",
      "Skipping 2021-09-30 00:00:00: Not enough unique values for quintiles.\n",
      "Skipping 2021-11-30 00:00:00: Not enough unique values for quintiles.\n",
      "Skipping 2022-01-31 00:00:00: Not enough unique values for quintiles.\n",
      "Skipping 2022-02-28 00:00:00: Not enough unique values for quintiles.\n",
      "Skipping 2022-03-31 00:00:00: Not enough unique values for quintiles.\n",
      "Skipping 2022-05-31 00:00:00: Not enough unique values for quintiles.\n",
      "Skipping 2022-06-30 00:00:00: Not enough unique values for quintiles.\n",
      "Skipping 2022-08-31 00:00:00: Not enough unique values for quintiles.\n",
      "Skipping 2022-10-31 00:00:00: Not enough unique values for quintiles.\n",
      "Skipping 2022-11-30 00:00:00: Not enough unique values for quintiles.\n",
      "Skipping 2023-01-31 00:00:00: Not enough unique values for quintiles.\n",
      "Skipping 2023-02-28 00:00:00: Not enough unique values for quintiles.\n",
      "Skipping 2023-05-31 00:00:00: Not enough unique values for quintiles.\n",
      "Skipping 2023-07-31 00:00:00: Not enough unique values for quintiles.\n",
      "Skipping 2023-08-31 00:00:00: Not enough unique values for quintiles.\n",
      "Skipping 2023-10-31 00:00:00: Not enough unique values for quintiles.\n",
      "Skipping 2023-11-30 00:00:00: Not enough unique values for quintiles.\n",
      "Processing signal: size\n",
      "Processing signal: beta\n",
      "Skipping 2008-01-31 00:00:00: Not enough unique values for quintiles.\n",
      "Skipping 2008-02-29 00:00:00: Not enough unique values for quintiles.\n",
      "Skipping 2008-03-31 00:00:00: Not enough unique values for quintiles.\n",
      "Skipping 2008-04-30 00:00:00: Not enough unique values for quintiles.\n",
      "Skipping 2008-05-30 00:00:00: Not enough unique values for quintiles.\n",
      "Skipping 2008-06-30 00:00:00: Not enough unique values for quintiles.\n",
      "Skipping 2008-07-31 00:00:00: Not enough unique values for quintiles.\n",
      "Error processing 2008-08-29 00:00:00: Bin labels must be one fewer than the number of bin edges\n",
      "Skipping 2008-09-30 00:00:00: Not enough unique values for quintiles.\n",
      "Error processing 2008-10-31 00:00:00: Bin labels must be one fewer than the number of bin edges\n",
      "Error processing 2008-11-28 00:00:00: Bin labels must be one fewer than the number of bin edges\n",
      "Skipping 2008-12-31 00:00:00: Not enough unique values for quintiles.\n",
      "Skipping 2009-03-31 00:00:00: Not enough unique values for quintiles.\n",
      "Skipping 2009-04-30 00:00:00: Not enough unique values for quintiles.\n",
      "Skipping 2009-06-30 00:00:00: Not enough unique values for quintiles.\n",
      "Skipping 2009-08-31 00:00:00: Not enough unique values for quintiles.\n",
      "Skipping 2009-09-30 00:00:00: Not enough unique values for quintiles.\n",
      "Skipping 2009-11-30 00:00:00: Not enough unique values for quintiles.\n",
      "Skipping 2010-03-31 00:00:00: Not enough unique values for quintiles.\n",
      "Skipping 2010-06-30 00:00:00: Not enough unique values for quintiles.\n",
      "Skipping 2010-08-31 00:00:00: Not enough unique values for quintiles.\n",
      "Skipping 2010-09-30 00:00:00: Not enough unique values for quintiles.\n",
      "Skipping 2010-11-30 00:00:00: Not enough unique values for quintiles.\n",
      "Skipping 2011-01-31 00:00:00: Not enough unique values for quintiles.\n",
      "Skipping 2011-02-28 00:00:00: Not enough unique values for quintiles.\n",
      "Skipping 2011-03-31 00:00:00: Not enough unique values for quintiles.\n",
      "Skipping 2011-05-31 00:00:00: Not enough unique values for quintiles.\n",
      "Skipping 2011-06-30 00:00:00: Not enough unique values for quintiles.\n",
      "Skipping 2011-08-31 00:00:00: Not enough unique values for quintiles.\n",
      "Skipping 2011-10-31 00:00:00: Not enough unique values for quintiles.\n",
      "Skipping 2011-11-30 00:00:00: Not enough unique values for quintiles.\n",
      "Skipping 2012-01-31 00:00:00: Not enough unique values for quintiles.\n",
      "Skipping 2012-02-29 00:00:00: Not enough unique values for quintiles.\n",
      "Skipping 2012-04-30 00:00:00: Not enough unique values for quintiles.\n",
      "Skipping 2012-05-31 00:00:00: Not enough unique values for quintiles.\n",
      "Skipping 2012-07-31 00:00:00: Not enough unique values for quintiles.\n",
      "Skipping 2012-10-31 00:00:00: Not enough unique values for quintiles.\n",
      "Skipping 2012-12-31 00:00:00: Not enough unique values for quintiles.\n",
      "Skipping 2013-01-31 00:00:00: Not enough unique values for quintiles.\n",
      "Skipping 2013-02-28 00:00:00: Not enough unique values for quintiles.\n",
      "Skipping 2013-04-30 00:00:00: Not enough unique values for quintiles.\n",
      "Skipping 2013-07-31 00:00:00: Not enough unique values for quintiles.\n",
      "Skipping 2013-09-30 00:00:00: Not enough unique values for quintiles.\n",
      "Skipping 2013-10-31 00:00:00: Not enough unique values for quintiles.\n",
      "Skipping 2013-12-31 00:00:00: Not enough unique values for quintiles.\n",
      "Skipping 2014-03-31 00:00:00: Not enough unique values for quintiles.\n",
      "Skipping 2014-04-30 00:00:00: Not enough unique values for quintiles.\n",
      "Skipping 2014-06-30 00:00:00: Not enough unique values for quintiles.\n",
      "Skipping 2014-07-31 00:00:00: Not enough unique values for quintiles.\n",
      "Skipping 2014-09-30 00:00:00: Not enough unique values for quintiles.\n",
      "Skipping 2014-12-31 00:00:00: Not enough unique values for quintiles.\n",
      "Skipping 2015-03-31 00:00:00: Not enough unique values for quintiles.\n",
      "Skipping 2015-04-30 00:00:00: Not enough unique values for quintiles.\n",
      "Skipping 2015-06-30 00:00:00: Not enough unique values for quintiles.\n",
      "Skipping 2015-08-31 00:00:00: Not enough unique values for quintiles.\n",
      "Skipping 2015-09-30 00:00:00: Not enough unique values for quintiles.\n",
      "Skipping 2015-11-30 00:00:00: Not enough unique values for quintiles.\n",
      "Skipping 2016-02-29 00:00:00: Not enough unique values for quintiles.\n",
      "Skipping 2016-03-31 00:00:00: Not enough unique values for quintiles.\n",
      "Skipping 2016-05-31 00:00:00: Not enough unique values for quintiles.\n",
      "Skipping 2016-08-31 00:00:00: Not enough unique values for quintiles.\n",
      "Skipping 2016-10-31 00:00:00: Not enough unique values for quintiles.\n",
      "Skipping 2016-11-30 00:00:00: Not enough unique values for quintiles.\n",
      "Skipping 2017-01-31 00:00:00: Not enough unique values for quintiles.\n",
      "Skipping 2017-02-28 00:00:00: Not enough unique values for quintiles.\n",
      "Skipping 2017-05-31 00:00:00: Not enough unique values for quintiles.\n",
      "Skipping 2017-07-31 00:00:00: Not enough unique values for quintiles.\n",
      "Skipping 2017-08-31 00:00:00: Not enough unique values for quintiles.\n",
      "Skipping 2017-10-31 00:00:00: Not enough unique values for quintiles.\n",
      "Skipping 2017-11-30 00:00:00: Not enough unique values for quintiles.\n",
      "Skipping 2018-01-31 00:00:00: Not enough unique values for quintiles.\n",
      "Skipping 2018-02-28 00:00:00: Not enough unique values for quintiles.\n",
      "Skipping 2018-04-30 00:00:00: Not enough unique values for quintiles.\n",
      "Skipping 2018-05-31 00:00:00: Not enough unique values for quintiles.\n",
      "Skipping 2018-07-31 00:00:00: Not enough unique values for quintiles.\n",
      "Skipping 2018-10-31 00:00:00: Not enough unique values for quintiles.\n",
      "Skipping 2018-12-31 00:00:00: Not enough unique values for quintiles.\n",
      "Skipping 2019-01-31 00:00:00: Not enough unique values for quintiles.\n",
      "Skipping 2019-02-28 00:00:00: Not enough unique values for quintiles.\n",
      "Skipping 2019-04-30 00:00:00: Not enough unique values for quintiles.\n",
      "Skipping 2019-07-31 00:00:00: Not enough unique values for quintiles.\n",
      "Skipping 2019-09-30 00:00:00: Not enough unique values for quintiles.\n",
      "Skipping 2019-10-31 00:00:00: Not enough unique values for quintiles.\n",
      "Skipping 2019-12-31 00:00:00: Not enough unique values for quintiles.\n",
      "Skipping 2020-03-31 00:00:00: Not enough unique values for quintiles.\n",
      "Skipping 2020-04-30 00:00:00: Not enough unique values for quintiles.\n",
      "Skipping 2020-06-30 00:00:00: Not enough unique values for quintiles.\n",
      "Skipping 2020-08-31 00:00:00: Not enough unique values for quintiles.\n",
      "Skipping 2020-09-30 00:00:00: Not enough unique values for quintiles.\n",
      "Skipping 2020-11-30 00:00:00: Not enough unique values for quintiles.\n",
      "Skipping 2021-03-31 00:00:00: Not enough unique values for quintiles.\n",
      "Skipping 2021-06-30 00:00:00: Not enough unique values for quintiles.\n",
      "Skipping 2021-08-31 00:00:00: Not enough unique values for quintiles.\n",
      "Skipping 2021-09-30 00:00:00: Not enough unique values for quintiles.\n",
      "Skipping 2021-11-30 00:00:00: Not enough unique values for quintiles.\n",
      "Skipping 2022-01-31 00:00:00: Not enough unique values for quintiles.\n",
      "Skipping 2022-02-28 00:00:00: Not enough unique values for quintiles.\n",
      "Skipping 2022-03-31 00:00:00: Not enough unique values for quintiles.\n",
      "Skipping 2022-05-31 00:00:00: Not enough unique values for quintiles.\n",
      "Skipping 2022-06-30 00:00:00: Not enough unique values for quintiles.\n",
      "Skipping 2022-08-31 00:00:00: Not enough unique values for quintiles.\n",
      "Skipping 2022-10-31 00:00:00: Not enough unique values for quintiles.\n",
      "Skipping 2022-11-30 00:00:00: Not enough unique values for quintiles.\n",
      "Skipping 2023-01-31 00:00:00: Not enough unique values for quintiles.\n",
      "Skipping 2023-02-28 00:00:00: Not enough unique values for quintiles.\n",
      "Skipping 2023-05-31 00:00:00: Not enough unique values for quintiles.\n",
      "Skipping 2023-07-31 00:00:00: Not enough unique values for quintiles.\n",
      "Skipping 2023-08-31 00:00:00: Not enough unique values for quintiles.\n",
      "Skipping 2023-10-31 00:00:00: Not enough unique values for quintiles.\n",
      "Skipping 2023-11-30 00:00:00: Not enough unique values for quintiles.\n"
     ]
    }
   ],
   "execution_count": 336
  },
  {
   "cell_type": "code",
   "id": "0f828c5c",
   "metadata": {
    "ExecuteTime": {
     "end_time": "2024-12-12T01:05:16.546697Z",
     "start_time": "2024-12-12T01:05:16.543732Z"
    }
   },
   "source": [
    "# Extract individual DataFrames\n",
    "value_df = results['value_df']\n",
    "momentum_df = results['momentum_df']\n",
    "reversal_df = results['reversal_df']\n",
    "size_df = results['size_df']\n",
    "beta_df = results['beta_df']\n",
    "\n",
    "# Display an example\n",
    "print(\"Value Quintile Portfolio:\")\n",
    "print(value_df.head())"
   ],
   "outputs": [
    {
     "name": "stdout",
     "output_type": "stream",
     "text": [
      "Value Quintile Portfolio:\n",
      "quintile           1         2         3         4         5  long_short\n",
      "2008-01-31 -0.049561 -0.065743 -0.073096 -0.062639 -0.069545   -0.019984\n",
      "2008-02-29 -0.049509 -0.016020 -0.014834 -0.018725 -0.001499    0.048010\n",
      "2008-03-31 -0.026643 -0.014588 -0.024092 -0.016265 -0.020581    0.006062\n",
      "2008-04-30  0.018505  0.034605  0.028132  0.036749  0.053984    0.035478\n",
      "2008-05-30  0.035554  0.040793  0.050799  0.054277  0.060336    0.024782\n"
     ]
    }
   ],
   "execution_count": 337
  },
  {
   "cell_type": "code",
   "id": "aa9042c8-d000-4c16-adb5-0957e770e9bc",
   "metadata": {
    "ExecuteTime": {
     "end_time": "2024-12-12T01:05:16.582906Z",
     "start_time": "2024-12-12T01:05:16.574067Z"
    }
   },
   "source": [
    "# Evaluation cell (used for grading-I don't have a TA)\n",
    "print(value_df.head())\n",
    "value_df.describe()"
   ],
   "outputs": [
    {
     "name": "stdout",
     "output_type": "stream",
     "text": [
      "quintile           1         2         3         4         5  long_short\n",
      "2008-01-31 -0.049561 -0.065743 -0.073096 -0.062639 -0.069545   -0.019984\n",
      "2008-02-29 -0.049509 -0.016020 -0.014834 -0.018725 -0.001499    0.048010\n",
      "2008-03-31 -0.026643 -0.014588 -0.024092 -0.016265 -0.020581    0.006062\n",
      "2008-04-30  0.018505  0.034605  0.028132  0.036749  0.053984    0.035478\n",
      "2008-05-30  0.035554  0.040793  0.050799  0.054277  0.060336    0.024782\n"
     ]
    },
    {
     "data": {
      "text/plain": [
       "quintile           1           2           3           4           5  \\\n",
       "count     192.000000  192.000000  192.000000  192.000000  192.000000   \n",
       "mean       -0.000985    0.006258    0.009194    0.013118    0.022433   \n",
       "std         0.081211    0.069621    0.063282    0.059980    0.069310   \n",
       "min        -0.338132   -0.253114   -0.233096   -0.183040   -0.177467   \n",
       "25%        -0.037451   -0.027466   -0.023212   -0.016997   -0.014859   \n",
       "50%         0.001003    0.010098    0.013301    0.013583    0.020715   \n",
       "75%         0.039544    0.042721    0.045138    0.050938    0.061435   \n",
       "max         0.346708    0.264718    0.219045    0.193320    0.262614   \n",
       "\n",
       "quintile  long_short  \n",
       "count     192.000000  \n",
       "mean        0.023419  \n",
       "std         0.046410  \n",
       "min        -0.170952  \n",
       "25%         0.002609  \n",
       "50%         0.021186  \n",
       "75%         0.046231  \n",
       "max         0.190675  "
      ],
      "text/html": [
       "<div>\n",
       "<style scoped>\n",
       "    .dataframe tbody tr th:only-of-type {\n",
       "        vertical-align: middle;\n",
       "    }\n",
       "\n",
       "    .dataframe tbody tr th {\n",
       "        vertical-align: top;\n",
       "    }\n",
       "\n",
       "    .dataframe thead th {\n",
       "        text-align: right;\n",
       "    }\n",
       "</style>\n",
       "<table border=\"1\" class=\"dataframe\">\n",
       "  <thead>\n",
       "    <tr style=\"text-align: right;\">\n",
       "      <th>quintile</th>\n",
       "      <th>1</th>\n",
       "      <th>2</th>\n",
       "      <th>3</th>\n",
       "      <th>4</th>\n",
       "      <th>5</th>\n",
       "      <th>long_short</th>\n",
       "    </tr>\n",
       "  </thead>\n",
       "  <tbody>\n",
       "    <tr>\n",
       "      <th>count</th>\n",
       "      <td>192.000000</td>\n",
       "      <td>192.000000</td>\n",
       "      <td>192.000000</td>\n",
       "      <td>192.000000</td>\n",
       "      <td>192.000000</td>\n",
       "      <td>192.000000</td>\n",
       "    </tr>\n",
       "    <tr>\n",
       "      <th>mean</th>\n",
       "      <td>-0.000985</td>\n",
       "      <td>0.006258</td>\n",
       "      <td>0.009194</td>\n",
       "      <td>0.013118</td>\n",
       "      <td>0.022433</td>\n",
       "      <td>0.023419</td>\n",
       "    </tr>\n",
       "    <tr>\n",
       "      <th>std</th>\n",
       "      <td>0.081211</td>\n",
       "      <td>0.069621</td>\n",
       "      <td>0.063282</td>\n",
       "      <td>0.059980</td>\n",
       "      <td>0.069310</td>\n",
       "      <td>0.046410</td>\n",
       "    </tr>\n",
       "    <tr>\n",
       "      <th>min</th>\n",
       "      <td>-0.338132</td>\n",
       "      <td>-0.253114</td>\n",
       "      <td>-0.233096</td>\n",
       "      <td>-0.183040</td>\n",
       "      <td>-0.177467</td>\n",
       "      <td>-0.170952</td>\n",
       "    </tr>\n",
       "    <tr>\n",
       "      <th>25%</th>\n",
       "      <td>-0.037451</td>\n",
       "      <td>-0.027466</td>\n",
       "      <td>-0.023212</td>\n",
       "      <td>-0.016997</td>\n",
       "      <td>-0.014859</td>\n",
       "      <td>0.002609</td>\n",
       "    </tr>\n",
       "    <tr>\n",
       "      <th>50%</th>\n",
       "      <td>0.001003</td>\n",
       "      <td>0.010098</td>\n",
       "      <td>0.013301</td>\n",
       "      <td>0.013583</td>\n",
       "      <td>0.020715</td>\n",
       "      <td>0.021186</td>\n",
       "    </tr>\n",
       "    <tr>\n",
       "      <th>75%</th>\n",
       "      <td>0.039544</td>\n",
       "      <td>0.042721</td>\n",
       "      <td>0.045138</td>\n",
       "      <td>0.050938</td>\n",
       "      <td>0.061435</td>\n",
       "      <td>0.046231</td>\n",
       "    </tr>\n",
       "    <tr>\n",
       "      <th>max</th>\n",
       "      <td>0.346708</td>\n",
       "      <td>0.264718</td>\n",
       "      <td>0.219045</td>\n",
       "      <td>0.193320</td>\n",
       "      <td>0.262614</td>\n",
       "      <td>0.190675</td>\n",
       "    </tr>\n",
       "  </tbody>\n",
       "</table>\n",
       "</div>"
      ]
     },
     "execution_count": 338,
     "metadata": {},
     "output_type": "execute_result"
    }
   ],
   "execution_count": 338
  },
  {
   "cell_type": "code",
   "id": "223b55ac-21b9-4b97-a5c4-a6ab9f20fdb6",
   "metadata": {
    "ExecuteTime": {
     "end_time": "2024-12-12T01:05:16.645740Z",
     "start_time": "2024-12-12T01:05:16.636874Z"
    }
   },
   "source": [
    "# Evaluation cell (do not change; used for grading)\n",
    "print(momentum_df.head())\n",
    "momentum_df.describe()"
   ],
   "outputs": [
    {
     "name": "stdout",
     "output_type": "stream",
     "text": [
      "quintile           1         2         3         4         5  long_short\n",
      "2008-01-31 -0.059215 -0.064957 -0.066439 -0.060199 -0.070431   -0.011216\n",
      "2008-02-29 -0.016358 -0.011363 -0.030827 -0.021627 -0.016649   -0.000290\n",
      "2008-03-31 -0.022779 -0.023053 -0.020062 -0.010672 -0.030363   -0.007583\n",
      "2008-04-30  0.018690  0.030390  0.027208  0.044198  0.050444    0.031754\n",
      "2008-05-30  0.056986  0.045831  0.061613  0.036648  0.038494   -0.018492\n"
     ]
    },
    {
     "data": {
      "text/plain": [
       "quintile           1           2           3           4           5  \\\n",
       "count     192.000000  192.000000  192.000000  192.000000  192.000000   \n",
       "mean        0.009814    0.010384    0.009983    0.009657    0.008920   \n",
       "std         0.087634    0.067174    0.059748    0.058486    0.069593   \n",
       "min        -0.250730   -0.238441   -0.230443   -0.231296   -0.215790   \n",
       "25%        -0.034521   -0.024338   -0.020920   -0.021174   -0.024040   \n",
       "50%         0.011141    0.012918    0.014965    0.012833    0.010028   \n",
       "75%         0.055250    0.044575    0.041766    0.045107    0.049203   \n",
       "max         0.351078    0.244346    0.187476    0.182513    0.216267   \n",
       "\n",
       "quintile  long_short  \n",
       "count     192.000000  \n",
       "mean       -0.000894  \n",
       "std         0.034107  \n",
       "min        -0.141938  \n",
       "25%        -0.016927  \n",
       "50%         0.000550  \n",
       "75%         0.018011  \n",
       "max         0.101503  "
      ],
      "text/html": [
       "<div>\n",
       "<style scoped>\n",
       "    .dataframe tbody tr th:only-of-type {\n",
       "        vertical-align: middle;\n",
       "    }\n",
       "\n",
       "    .dataframe tbody tr th {\n",
       "        vertical-align: top;\n",
       "    }\n",
       "\n",
       "    .dataframe thead th {\n",
       "        text-align: right;\n",
       "    }\n",
       "</style>\n",
       "<table border=\"1\" class=\"dataframe\">\n",
       "  <thead>\n",
       "    <tr style=\"text-align: right;\">\n",
       "      <th>quintile</th>\n",
       "      <th>1</th>\n",
       "      <th>2</th>\n",
       "      <th>3</th>\n",
       "      <th>4</th>\n",
       "      <th>5</th>\n",
       "      <th>long_short</th>\n",
       "    </tr>\n",
       "  </thead>\n",
       "  <tbody>\n",
       "    <tr>\n",
       "      <th>count</th>\n",
       "      <td>192.000000</td>\n",
       "      <td>192.000000</td>\n",
       "      <td>192.000000</td>\n",
       "      <td>192.000000</td>\n",
       "      <td>192.000000</td>\n",
       "      <td>192.000000</td>\n",
       "    </tr>\n",
       "    <tr>\n",
       "      <th>mean</th>\n",
       "      <td>0.009814</td>\n",
       "      <td>0.010384</td>\n",
       "      <td>0.009983</td>\n",
       "      <td>0.009657</td>\n",
       "      <td>0.008920</td>\n",
       "      <td>-0.000894</td>\n",
       "    </tr>\n",
       "    <tr>\n",
       "      <th>std</th>\n",
       "      <td>0.087634</td>\n",
       "      <td>0.067174</td>\n",
       "      <td>0.059748</td>\n",
       "      <td>0.058486</td>\n",
       "      <td>0.069593</td>\n",
       "      <td>0.034107</td>\n",
       "    </tr>\n",
       "    <tr>\n",
       "      <th>min</th>\n",
       "      <td>-0.250730</td>\n",
       "      <td>-0.238441</td>\n",
       "      <td>-0.230443</td>\n",
       "      <td>-0.231296</td>\n",
       "      <td>-0.215790</td>\n",
       "      <td>-0.141938</td>\n",
       "    </tr>\n",
       "    <tr>\n",
       "      <th>25%</th>\n",
       "      <td>-0.034521</td>\n",
       "      <td>-0.024338</td>\n",
       "      <td>-0.020920</td>\n",
       "      <td>-0.021174</td>\n",
       "      <td>-0.024040</td>\n",
       "      <td>-0.016927</td>\n",
       "    </tr>\n",
       "    <tr>\n",
       "      <th>50%</th>\n",
       "      <td>0.011141</td>\n",
       "      <td>0.012918</td>\n",
       "      <td>0.014965</td>\n",
       "      <td>0.012833</td>\n",
       "      <td>0.010028</td>\n",
       "      <td>0.000550</td>\n",
       "    </tr>\n",
       "    <tr>\n",
       "      <th>75%</th>\n",
       "      <td>0.055250</td>\n",
       "      <td>0.044575</td>\n",
       "      <td>0.041766</td>\n",
       "      <td>0.045107</td>\n",
       "      <td>0.049203</td>\n",
       "      <td>0.018011</td>\n",
       "    </tr>\n",
       "    <tr>\n",
       "      <th>max</th>\n",
       "      <td>0.351078</td>\n",
       "      <td>0.244346</td>\n",
       "      <td>0.187476</td>\n",
       "      <td>0.182513</td>\n",
       "      <td>0.216267</td>\n",
       "      <td>0.101503</td>\n",
       "    </tr>\n",
       "  </tbody>\n",
       "</table>\n",
       "</div>"
      ]
     },
     "execution_count": 339,
     "metadata": {},
     "output_type": "execute_result"
    }
   ],
   "execution_count": 339
  },
  {
   "cell_type": "code",
   "id": "b3c1a748-1045-4274-94f8-725018915e94",
   "metadata": {
    "ExecuteTime": {
     "end_time": "2024-12-12T01:05:16.701856Z",
     "start_time": "2024-12-12T01:05:16.693728Z"
    }
   },
   "source": [
    "# Evaluation cell (used for grading-I don't have a TA)\n",
    "print(reversal_df.head())\n",
    "reversal_df.describe()"
   ],
   "outputs": [
    {
     "name": "stdout",
     "output_type": "stream",
     "text": [
      "quintile           1         2         3         4         5  long_short\n",
      "2008-02-29 -0.156090 -0.056181 -0.021829  0.010206  0.122714    0.278804\n",
      "2008-05-30 -0.084904  0.010715  0.035984  0.079784  0.197571    0.282475\n",
      "2008-08-29 -0.098958  0.000816  0.030897  0.054692  0.137004    0.235962\n",
      "2008-10-31 -0.398328 -0.270059 -0.208815 -0.168071 -0.097994    0.300334\n",
      "2008-11-28 -0.361555 -0.205324 -0.131903 -0.066269  0.042061    0.403616\n"
     ]
    },
    {
     "data": {
      "text/plain": [
       "quintile          1          2          3          4          5  long_short\n",
       "count     87.000000  87.000000  87.000000  87.000000  87.000000   87.000000\n",
       "mean      -0.107855  -0.029438   0.003403   0.034088   0.135408    0.243263\n",
       "std        0.079667   0.060994   0.054547   0.053887   0.086082    0.065918\n",
       "min       -0.398328  -0.270059  -0.208815  -0.168071  -0.097994   -0.006824\n",
       "25%       -0.139731  -0.056603  -0.024825   0.003078   0.085342    0.206498\n",
       "50%       -0.089916  -0.013212   0.011570   0.035194   0.127646    0.227912\n",
       "75%       -0.054056   0.013017   0.037224   0.068635   0.172451    0.278929\n",
       "max        0.013222   0.053024   0.093469   0.148306   0.466733    0.493931"
      ],
      "text/html": [
       "<div>\n",
       "<style scoped>\n",
       "    .dataframe tbody tr th:only-of-type {\n",
       "        vertical-align: middle;\n",
       "    }\n",
       "\n",
       "    .dataframe tbody tr th {\n",
       "        vertical-align: top;\n",
       "    }\n",
       "\n",
       "    .dataframe thead th {\n",
       "        text-align: right;\n",
       "    }\n",
       "</style>\n",
       "<table border=\"1\" class=\"dataframe\">\n",
       "  <thead>\n",
       "    <tr style=\"text-align: right;\">\n",
       "      <th>quintile</th>\n",
       "      <th>1</th>\n",
       "      <th>2</th>\n",
       "      <th>3</th>\n",
       "      <th>4</th>\n",
       "      <th>5</th>\n",
       "      <th>long_short</th>\n",
       "    </tr>\n",
       "  </thead>\n",
       "  <tbody>\n",
       "    <tr>\n",
       "      <th>count</th>\n",
       "      <td>87.000000</td>\n",
       "      <td>87.000000</td>\n",
       "      <td>87.000000</td>\n",
       "      <td>87.000000</td>\n",
       "      <td>87.000000</td>\n",
       "      <td>87.000000</td>\n",
       "    </tr>\n",
       "    <tr>\n",
       "      <th>mean</th>\n",
       "      <td>-0.107855</td>\n",
       "      <td>-0.029438</td>\n",
       "      <td>0.003403</td>\n",
       "      <td>0.034088</td>\n",
       "      <td>0.135408</td>\n",
       "      <td>0.243263</td>\n",
       "    </tr>\n",
       "    <tr>\n",
       "      <th>std</th>\n",
       "      <td>0.079667</td>\n",
       "      <td>0.060994</td>\n",
       "      <td>0.054547</td>\n",
       "      <td>0.053887</td>\n",
       "      <td>0.086082</td>\n",
       "      <td>0.065918</td>\n",
       "    </tr>\n",
       "    <tr>\n",
       "      <th>min</th>\n",
       "      <td>-0.398328</td>\n",
       "      <td>-0.270059</td>\n",
       "      <td>-0.208815</td>\n",
       "      <td>-0.168071</td>\n",
       "      <td>-0.097994</td>\n",
       "      <td>-0.006824</td>\n",
       "    </tr>\n",
       "    <tr>\n",
       "      <th>25%</th>\n",
       "      <td>-0.139731</td>\n",
       "      <td>-0.056603</td>\n",
       "      <td>-0.024825</td>\n",
       "      <td>0.003078</td>\n",
       "      <td>0.085342</td>\n",
       "      <td>0.206498</td>\n",
       "    </tr>\n",
       "    <tr>\n",
       "      <th>50%</th>\n",
       "      <td>-0.089916</td>\n",
       "      <td>-0.013212</td>\n",
       "      <td>0.011570</td>\n",
       "      <td>0.035194</td>\n",
       "      <td>0.127646</td>\n",
       "      <td>0.227912</td>\n",
       "    </tr>\n",
       "    <tr>\n",
       "      <th>75%</th>\n",
       "      <td>-0.054056</td>\n",
       "      <td>0.013017</td>\n",
       "      <td>0.037224</td>\n",
       "      <td>0.068635</td>\n",
       "      <td>0.172451</td>\n",
       "      <td>0.278929</td>\n",
       "    </tr>\n",
       "    <tr>\n",
       "      <th>max</th>\n",
       "      <td>0.013222</td>\n",
       "      <td>0.053024</td>\n",
       "      <td>0.093469</td>\n",
       "      <td>0.148306</td>\n",
       "      <td>0.466733</td>\n",
       "      <td>0.493931</td>\n",
       "    </tr>\n",
       "  </tbody>\n",
       "</table>\n",
       "</div>"
      ]
     },
     "execution_count": 340,
     "metadata": {},
     "output_type": "execute_result"
    }
   ],
   "execution_count": 340
  },
  {
   "cell_type": "code",
   "id": "87f1e193-5cb7-48e3-89c1-5d816dc1cc52",
   "metadata": {
    "ExecuteTime": {
     "end_time": "2024-12-12T01:05:16.775263Z",
     "start_time": "2024-12-12T01:05:16.765922Z"
    }
   },
   "source": [
    "# Evaluation cell (used for grading-I don't have a TA)\n",
    "print(size_df.head())\n",
    "size_df.describe()"
   ],
   "outputs": [
    {
     "name": "stdout",
     "output_type": "stream",
     "text": [
      "quintile           1         2         3         4         5  long_short\n",
      "2008-01-31 -0.048869 -0.072163 -0.080454 -0.062854 -0.057342   -0.008473\n",
      "2008-02-29 -0.017631 -0.036275 -0.028673 -0.016911 -0.001716    0.015915\n",
      "2008-03-31 -0.082652 -0.034555  0.013776 -0.000874 -0.002543    0.080109\n",
      "2008-04-30 -0.011354  0.022493  0.030700  0.054287  0.073322    0.084677\n",
      "2008-05-30  0.021062  0.043675  0.054959  0.068040  0.051415    0.030354\n"
     ]
    },
    {
     "data": {
      "text/plain": [
       "quintile           1           2           3           4           5  \\\n",
       "count     192.000000  192.000000  192.000000  192.000000  192.000000   \n",
       "mean       -0.013990    0.012110    0.017062    0.017573    0.015828   \n",
       "std         0.081728    0.078369    0.075312    0.064327    0.052205   \n",
       "min        -0.275462   -0.256301   -0.238449   -0.207975   -0.180111   \n",
       "25%        -0.054907   -0.029763   -0.029529   -0.016045   -0.010059   \n",
       "50%        -0.015803    0.011028    0.020997    0.022409    0.018991   \n",
       "75%         0.027530    0.057313    0.060700    0.055461    0.046770   \n",
       "max         0.268626    0.293462    0.287631    0.249626    0.168556   \n",
       "\n",
       "quintile  long_short  \n",
       "count     192.000000  \n",
       "mean        0.029818  \n",
       "std         0.053630  \n",
       "min        -0.193110  \n",
       "25%         0.004121  \n",
       "50%         0.033161  \n",
       "75%         0.058263  \n",
       "max         0.166313  "
      ],
      "text/html": [
       "<div>\n",
       "<style scoped>\n",
       "    .dataframe tbody tr th:only-of-type {\n",
       "        vertical-align: middle;\n",
       "    }\n",
       "\n",
       "    .dataframe tbody tr th {\n",
       "        vertical-align: top;\n",
       "    }\n",
       "\n",
       "    .dataframe thead th {\n",
       "        text-align: right;\n",
       "    }\n",
       "</style>\n",
       "<table border=\"1\" class=\"dataframe\">\n",
       "  <thead>\n",
       "    <tr style=\"text-align: right;\">\n",
       "      <th>quintile</th>\n",
       "      <th>1</th>\n",
       "      <th>2</th>\n",
       "      <th>3</th>\n",
       "      <th>4</th>\n",
       "      <th>5</th>\n",
       "      <th>long_short</th>\n",
       "    </tr>\n",
       "  </thead>\n",
       "  <tbody>\n",
       "    <tr>\n",
       "      <th>count</th>\n",
       "      <td>192.000000</td>\n",
       "      <td>192.000000</td>\n",
       "      <td>192.000000</td>\n",
       "      <td>192.000000</td>\n",
       "      <td>192.000000</td>\n",
       "      <td>192.000000</td>\n",
       "    </tr>\n",
       "    <tr>\n",
       "      <th>mean</th>\n",
       "      <td>-0.013990</td>\n",
       "      <td>0.012110</td>\n",
       "      <td>0.017062</td>\n",
       "      <td>0.017573</td>\n",
       "      <td>0.015828</td>\n",
       "      <td>0.029818</td>\n",
       "    </tr>\n",
       "    <tr>\n",
       "      <th>std</th>\n",
       "      <td>0.081728</td>\n",
       "      <td>0.078369</td>\n",
       "      <td>0.075312</td>\n",
       "      <td>0.064327</td>\n",
       "      <td>0.052205</td>\n",
       "      <td>0.053630</td>\n",
       "    </tr>\n",
       "    <tr>\n",
       "      <th>min</th>\n",
       "      <td>-0.275462</td>\n",
       "      <td>-0.256301</td>\n",
       "      <td>-0.238449</td>\n",
       "      <td>-0.207975</td>\n",
       "      <td>-0.180111</td>\n",
       "      <td>-0.193110</td>\n",
       "    </tr>\n",
       "    <tr>\n",
       "      <th>25%</th>\n",
       "      <td>-0.054907</td>\n",
       "      <td>-0.029763</td>\n",
       "      <td>-0.029529</td>\n",
       "      <td>-0.016045</td>\n",
       "      <td>-0.010059</td>\n",
       "      <td>0.004121</td>\n",
       "    </tr>\n",
       "    <tr>\n",
       "      <th>50%</th>\n",
       "      <td>-0.015803</td>\n",
       "      <td>0.011028</td>\n",
       "      <td>0.020997</td>\n",
       "      <td>0.022409</td>\n",
       "      <td>0.018991</td>\n",
       "      <td>0.033161</td>\n",
       "    </tr>\n",
       "    <tr>\n",
       "      <th>75%</th>\n",
       "      <td>0.027530</td>\n",
       "      <td>0.057313</td>\n",
       "      <td>0.060700</td>\n",
       "      <td>0.055461</td>\n",
       "      <td>0.046770</td>\n",
       "      <td>0.058263</td>\n",
       "    </tr>\n",
       "    <tr>\n",
       "      <th>max</th>\n",
       "      <td>0.268626</td>\n",
       "      <td>0.293462</td>\n",
       "      <td>0.287631</td>\n",
       "      <td>0.249626</td>\n",
       "      <td>0.168556</td>\n",
       "      <td>0.166313</td>\n",
       "    </tr>\n",
       "  </tbody>\n",
       "</table>\n",
       "</div>"
      ]
     },
     "execution_count": 341,
     "metadata": {},
     "output_type": "execute_result"
    }
   ],
   "execution_count": 341
  },
  {
   "cell_type": "code",
   "id": "fec5d82b-643d-42bc-ba05-7ad425f93749",
   "metadata": {
    "ExecuteTime": {
     "end_time": "2024-12-12T01:05:16.865278Z",
     "start_time": "2024-12-12T01:05:16.856677Z"
    }
   },
   "source": [
    "# Evaluation cell (used for grading-I don't have a TA)\n",
    "print(beta_df.head())\n",
    "beta_df.describe()"
   ],
   "outputs": [
    {
     "name": "stdout",
     "output_type": "stream",
     "text": [
      "quintile           1         2         3         4         5  long_short\n",
      "2009-01-30 -0.023865 -0.023039 -0.030809 -0.008737 -0.032843   -0.008978\n",
      "2009-02-27 -0.124877 -0.101805 -0.109806 -0.116103 -0.120832    0.004045\n",
      "2009-05-29  0.103892  0.093197  0.132265  0.093712  0.077940   -0.025952\n",
      "2009-07-31  0.091903  0.113208  0.109888  0.090813  0.100063    0.008160\n",
      "2009-10-30 -0.056643 -0.062920 -0.060118 -0.063057 -0.046485    0.010159\n"
     ]
    },
    {
     "data": {
      "text/plain": [
       "quintile          1          2          3          4          5  long_short\n",
       "count     82.000000  82.000000  82.000000  82.000000  82.000000   82.000000\n",
       "mean       0.008833   0.011730   0.017561   0.010374   0.008010   -0.000823\n",
       "std        0.053220   0.059653   0.064037   0.056744   0.050897    0.007343\n",
       "min       -0.124877  -0.130299  -0.125134  -0.116103  -0.120832   -0.025952\n",
       "25%       -0.023847  -0.021231  -0.016466  -0.019474  -0.020522   -0.005531\n",
       "50%        0.010337   0.009697   0.020956   0.011938   0.012251    0.000400\n",
       "75%        0.046900   0.049156   0.058423   0.050789   0.042171    0.003761\n",
       "max        0.103892   0.146546   0.183993   0.122662   0.100063    0.014839"
      ],
      "text/html": [
       "<div>\n",
       "<style scoped>\n",
       "    .dataframe tbody tr th:only-of-type {\n",
       "        vertical-align: middle;\n",
       "    }\n",
       "\n",
       "    .dataframe tbody tr th {\n",
       "        vertical-align: top;\n",
       "    }\n",
       "\n",
       "    .dataframe thead th {\n",
       "        text-align: right;\n",
       "    }\n",
       "</style>\n",
       "<table border=\"1\" class=\"dataframe\">\n",
       "  <thead>\n",
       "    <tr style=\"text-align: right;\">\n",
       "      <th>quintile</th>\n",
       "      <th>1</th>\n",
       "      <th>2</th>\n",
       "      <th>3</th>\n",
       "      <th>4</th>\n",
       "      <th>5</th>\n",
       "      <th>long_short</th>\n",
       "    </tr>\n",
       "  </thead>\n",
       "  <tbody>\n",
       "    <tr>\n",
       "      <th>count</th>\n",
       "      <td>82.000000</td>\n",
       "      <td>82.000000</td>\n",
       "      <td>82.000000</td>\n",
       "      <td>82.000000</td>\n",
       "      <td>82.000000</td>\n",
       "      <td>82.000000</td>\n",
       "    </tr>\n",
       "    <tr>\n",
       "      <th>mean</th>\n",
       "      <td>0.008833</td>\n",
       "      <td>0.011730</td>\n",
       "      <td>0.017561</td>\n",
       "      <td>0.010374</td>\n",
       "      <td>0.008010</td>\n",
       "      <td>-0.000823</td>\n",
       "    </tr>\n",
       "    <tr>\n",
       "      <th>std</th>\n",
       "      <td>0.053220</td>\n",
       "      <td>0.059653</td>\n",
       "      <td>0.064037</td>\n",
       "      <td>0.056744</td>\n",
       "      <td>0.050897</td>\n",
       "      <td>0.007343</td>\n",
       "    </tr>\n",
       "    <tr>\n",
       "      <th>min</th>\n",
       "      <td>-0.124877</td>\n",
       "      <td>-0.130299</td>\n",
       "      <td>-0.125134</td>\n",
       "      <td>-0.116103</td>\n",
       "      <td>-0.120832</td>\n",
       "      <td>-0.025952</td>\n",
       "    </tr>\n",
       "    <tr>\n",
       "      <th>25%</th>\n",
       "      <td>-0.023847</td>\n",
       "      <td>-0.021231</td>\n",
       "      <td>-0.016466</td>\n",
       "      <td>-0.019474</td>\n",
       "      <td>-0.020522</td>\n",
       "      <td>-0.005531</td>\n",
       "    </tr>\n",
       "    <tr>\n",
       "      <th>50%</th>\n",
       "      <td>0.010337</td>\n",
       "      <td>0.009697</td>\n",
       "      <td>0.020956</td>\n",
       "      <td>0.011938</td>\n",
       "      <td>0.012251</td>\n",
       "      <td>0.000400</td>\n",
       "    </tr>\n",
       "    <tr>\n",
       "      <th>75%</th>\n",
       "      <td>0.046900</td>\n",
       "      <td>0.049156</td>\n",
       "      <td>0.058423</td>\n",
       "      <td>0.050789</td>\n",
       "      <td>0.042171</td>\n",
       "      <td>0.003761</td>\n",
       "    </tr>\n",
       "    <tr>\n",
       "      <th>max</th>\n",
       "      <td>0.103892</td>\n",
       "      <td>0.146546</td>\n",
       "      <td>0.183993</td>\n",
       "      <td>0.122662</td>\n",
       "      <td>0.100063</td>\n",
       "      <td>0.014839</td>\n",
       "    </tr>\n",
       "  </tbody>\n",
       "</table>\n",
       "</div>"
      ]
     },
     "execution_count": 342,
     "metadata": {},
     "output_type": "execute_result"
    }
   ],
   "execution_count": 342
  },
  {
   "cell_type": "markdown",
   "id": "3bc29106-55f7-49e1-8cc5-f0684b1830e1",
   "metadata": {},
   "source": [
    "### plot (5 points)"
   ]
  },
  {
   "cell_type": "code",
   "id": "fc9378e8-c668-45ca-ad12-fc0c72287484",
   "metadata": {
    "ExecuteTime": {
     "end_time": "2024-12-12T01:05:45.150658Z",
     "start_time": "2024-12-12T01:05:43.657769Z"
    }
   },
   "source": [
    "#Set up the plot style\n",
    "plt.style.use('seaborn')\n",
    "sns.set_palette(\"husl\")\n",
    "\n",
    "# Create 2 rows of plots\n",
    "fig, axes = plt.subplots(2, 3, figsize=(20, 12))\n",
    "fig.suptitle('Average Long Only Returns by Quintile per Factor', fontsize=16)\n",
    "axes_flat = axes.flatten()\n",
    "\n",
    "# List of dfs\n",
    "dfs = [\n",
    "    (value_df, 'Value'),\n",
    "    (momentum_df, 'Momentum'), \n",
    "    (reversal_df, 'Reversal'), \n",
    "    (size_df, 'Size'), \n",
    "    (beta_df, 'Beta')\n",
    "]\n",
    "\n",
    "#plot each df\n",
    "for i, (df, factor_name) in enumerate(dfs):\n",
    "    # Select only long only\n",
    "    quintile_cols = [1, 2, 3, 4, 5]\n",
    "    \n",
    "    # Get average returns\n",
    "    avg_returns = df[quintile_cols].mean()\n",
    "    axes_flat[i].bar(range(1, 6), avg_returns)\n",
    "    \n",
    "    #Labels\n",
    "    axes_flat[i].set_title(f'{factor_name} Factor')\n",
    "    axes_flat[i].set_xlabel('Quintile')\n",
    "    axes_flat[i].set_ylabel('Average Return')\n",
    "    axes_flat[i].set_xticks(range(1, 6))\n",
    "    axes_flat[i].set_xticklabels([f'Q{j}' for j in range(1, 6)])\n",
    "\n",
    "#remove the unused subplot in the second row, adjust layout\n",
    "fig.delaxes(axes[1, 2])\n",
    "plt.tight_layout()\n",
    "plt.savefig('factor_quintile_average_returns.png', dpi=300, bbox_inches='tight')\n",
    "\n",
    "#plot\n",
    "plt.show()"
   ],
   "outputs": [
    {
     "name": "stderr",
     "output_type": "stream",
     "text": [
      "/var/folders/1b/vm9vwcxd62s4cvv71njdc7140000gv/T/ipykernel_85279/983609659.py:2: MatplotlibDeprecationWarning: The seaborn styles shipped by Matplotlib are deprecated since 3.6, as they no longer correspond to the styles shipped by seaborn. However, they will remain available as 'seaborn-v0_8-<style>'. Alternatively, directly use the seaborn API instead.\n",
      "  plt.style.use('seaborn')\n"
     ]
    },
    {
     "data": {
      "text/plain": [
       "<Figure size 2000x1200 with 5 Axes>"
      ],
      "image/png": "[encoded data removed]"
     },
     "metadata": {
      "image/png": {
       "width": 1989,
       "height": 1181
      }
     },
     "output_type": "display_data"
    }
   ],
   "execution_count": 348
  },
  {
   "cell_type": "markdown",
   "id": "3a45d7a1-bd8f-47ea-bd7c-76ce036fcc4e",
   "metadata": {},
   "source": [
    "### Save the 5 long-short factor returns in a DataFrame called `factors_df`. (Do not drop any missing values). (5 points)"
   ]
  },
  {
   "cell_type": "code",
   "id": "609e2295-d47c-4654-8bf7-a72b19f24a9a",
   "metadata": {
    "ExecuteTime": {
     "end_time": "2024-12-12T01:05:18.555348Z",
     "start_time": "2024-12-12T01:05:18.549413Z"
    }
   },
   "source": [
    "#Compile L/S data\n",
    "long_short_data = {\n",
    "    'value': value_df['long_short'],\n",
    "    'momentum': momentum_df['long_short'],\n",
    "    'reversal': reversal_df['long_short'],\n",
    "    'size': size_df['long_short'],\n",
    "    'beta': beta_df['long_short']\n",
    "}\n",
    "\n",
    "# Create a new DataFrame with LS data\n",
    "factors_df = pd.DataFrame(long_short_data)\n",
    "print(factors_df.head())"
   ],
   "outputs": [
    {
     "name": "stdout",
     "output_type": "stream",
     "text": [
      "               value  momentum  reversal      size  beta\n",
      "2008-01-31 -0.019984 -0.011216       NaN -0.008473   NaN\n",
      "2008-02-29  0.048010 -0.000290  0.278804  0.015915   NaN\n",
      "2008-03-31  0.006062 -0.007583       NaN  0.080109   NaN\n",
      "2008-04-30  0.035478  0.031754       NaN  0.084677   NaN\n",
      "2008-05-30  0.024782 -0.018492  0.282475  0.030354   NaN\n"
     ]
    }
   ],
   "execution_count": 344
  },
  {
   "cell_type": "code",
   "id": "dfdfcaa3-b0ee-48a1-b7b1-7fd3e996e32c",
   "metadata": {
    "ExecuteTime": {
     "end_time": "2024-12-12T01:05:18.597171Z",
     "start_time": "2024-12-12T01:05:18.588995Z"
    }
   },
   "source": [
    "# Evaluation cell (used for grading-I don't have a TA)\n",
    "print(factors_df.head())\n",
    "factors_df.describe()"
   ],
   "outputs": [
    {
     "name": "stdout",
     "output_type": "stream",
     "text": [
      "               value  momentum  reversal      size  beta\n",
      "2008-01-31 -0.019984 -0.011216       NaN -0.008473   NaN\n",
      "2008-02-29  0.048010 -0.000290  0.278804  0.015915   NaN\n",
      "2008-03-31  0.006062 -0.007583       NaN  0.080109   NaN\n",
      "2008-04-30  0.035478  0.031754       NaN  0.084677   NaN\n",
      "2008-05-30  0.024782 -0.018492  0.282475  0.030354   NaN\n"
     ]
    },
    {
     "data": {
      "text/plain": [
       "            value    momentum   reversal        size       beta\n",
       "count  192.000000  192.000000  87.000000  192.000000  82.000000\n",
       "mean     0.023419   -0.000894   0.243263    0.029818  -0.000823\n",
       "std      0.046410    0.034107   0.065918    0.053630   0.007343\n",
       "min     -0.170952   -0.141938  -0.006824   -0.193110  -0.025952\n",
       "25%      0.002609   -0.016927   0.206498    0.004121  -0.005531\n",
       "50%      0.021186    0.000550   0.227912    0.033161   0.000400\n",
       "75%      0.046231    0.018011   0.278929    0.058263   0.003761\n",
       "max      0.190675    0.101503   0.493931    0.166313   0.014839"
      ],
      "text/html": [
       "<div>\n",
       "<style scoped>\n",
       "    .dataframe tbody tr th:only-of-type {\n",
       "        vertical-align: middle;\n",
       "    }\n",
       "\n",
       "    .dataframe tbody tr th {\n",
       "        vertical-align: top;\n",
       "    }\n",
       "\n",
       "    .dataframe thead th {\n",
       "        text-align: right;\n",
       "    }\n",
       "</style>\n",
       "<table border=\"1\" class=\"dataframe\">\n",
       "  <thead>\n",
       "    <tr style=\"text-align: right;\">\n",
       "      <th></th>\n",
       "      <th>value</th>\n",
       "      <th>momentum</th>\n",
       "      <th>reversal</th>\n",
       "      <th>size</th>\n",
       "      <th>beta</th>\n",
       "    </tr>\n",
       "  </thead>\n",
       "  <tbody>\n",
       "    <tr>\n",
       "      <th>count</th>\n",
       "      <td>192.000000</td>\n",
       "      <td>192.000000</td>\n",
       "      <td>87.000000</td>\n",
       "      <td>192.000000</td>\n",
       "      <td>82.000000</td>\n",
       "    </tr>\n",
       "    <tr>\n",
       "      <th>mean</th>\n",
       "      <td>0.023419</td>\n",
       "      <td>-0.000894</td>\n",
       "      <td>0.243263</td>\n",
       "      <td>0.029818</td>\n",
       "      <td>-0.000823</td>\n",
       "    </tr>\n",
       "    <tr>\n",
       "      <th>std</th>\n",
       "      <td>0.046410</td>\n",
       "      <td>0.034107</td>\n",
       "      <td>0.065918</td>\n",
       "      <td>0.053630</td>\n",
       "      <td>0.007343</td>\n",
       "    </tr>\n",
       "    <tr>\n",
       "      <th>min</th>\n",
       "      <td>-0.170952</td>\n",
       "      <td>-0.141938</td>\n",
       "      <td>-0.006824</td>\n",
       "      <td>-0.193110</td>\n",
       "      <td>-0.025952</td>\n",
       "    </tr>\n",
       "    <tr>\n",
       "      <th>25%</th>\n",
       "      <td>0.002609</td>\n",
       "      <td>-0.016927</td>\n",
       "      <td>0.206498</td>\n",
       "      <td>0.004121</td>\n",
       "      <td>-0.005531</td>\n",
       "    </tr>\n",
       "    <tr>\n",
       "      <th>50%</th>\n",
       "      <td>0.021186</td>\n",
       "      <td>0.000550</td>\n",
       "      <td>0.227912</td>\n",
       "      <td>0.033161</td>\n",
       "      <td>0.000400</td>\n",
       "    </tr>\n",
       "    <tr>\n",
       "      <th>75%</th>\n",
       "      <td>0.046231</td>\n",
       "      <td>0.018011</td>\n",
       "      <td>0.278929</td>\n",
       "      <td>0.058263</td>\n",
       "      <td>0.003761</td>\n",
       "    </tr>\n",
       "    <tr>\n",
       "      <th>max</th>\n",
       "      <td>0.190675</td>\n",
       "      <td>0.101503</td>\n",
       "      <td>0.493931</td>\n",
       "      <td>0.166313</td>\n",
       "      <td>0.014839</td>\n",
       "    </tr>\n",
       "  </tbody>\n",
       "</table>\n",
       "</div>"
      ]
     },
     "execution_count": 345,
     "metadata": {},
     "output_type": "execute_result"
    }
   ],
   "execution_count": 345
  },
  {
   "cell_type": "markdown",
   "id": "c869692d-eac9-468a-bcfe-9d97d44e4740",
   "metadata": {},
   "source": [
    "## Evaluate the factors you created (14 points; 4+4+6)"
   ]
  },
  {
   "cell_type": "markdown",
   "id": "f483e9bd-e62e-403d-83cd-a083bf1f0dc0",
   "metadata": {},
   "source": [
    "### Estimate Fama-French 5-factor model for the 5 factor portfolios (in `factors_df`). Report the R squares, regression coefficients, and their p values in a single DataFrame called `ff5_factors_reg`. "
   ]
  },
  {
   "cell_type": "code",
   "id": "ea22f315-4068-4409-9991-d91cba7bf769",
   "metadata": {
    "ExecuteTime": {
     "end_time": "2024-12-12T01:05:18.642666Z",
     "start_time": "2024-12-12T01:05:18.641359Z"
    }
   },
   "source": [],
   "outputs": [],
   "execution_count": null
  },
  {
   "cell_type": "markdown",
   "id": "c19a8215-8c98-4a3f-aba3-53dad2626412",
   "metadata": {},
   "source": [
    "### Create `factors_sumstat`. "
   ]
  },
  {
   "cell_type": "code",
   "id": "7fc313a0-53cf-4f4a-9d57-4431cf204dd5",
   "metadata": {
    "ExecuteTime": {
     "end_time": "2024-12-12T01:05:18.743985Z",
     "start_time": "2024-12-12T01:05:18.731685Z"
    }
   },
   "source": [],
   "outputs": [],
   "execution_count": null
  },
  {
   "cell_type": "code",
   "id": "f900e7fc-e6d3-4a29-b401-34fbf072060a",
   "metadata": {
    "ExecuteTime": {
     "end_time": "2024-12-12T01:05:18.839165Z",
     "start_time": "2024-12-12T01:05:18.825081Z"
    }
   },
   "source": [
    "# Evaluation cell (used for grading-I don't have a TA)\n",
    "print(ff5_factors_reg)\n",
    "print(factors_sumstat)"
   ],
   "outputs": [
    {
     "ename": "NameError",
     "evalue": "name 'ff5_factors_reg' is not defined",
     "output_type": "error",
     "traceback": [
      "\u001B[0;31m---------------------------------------------------------------------------\u001B[0m",
      "\u001B[0;31mNameError\u001B[0m                                 Traceback (most recent call last)",
      "Cell \u001B[0;32mIn[346], line 2\u001B[0m\n\u001B[1;32m      1\u001B[0m \u001B[38;5;66;03m# Evaluation cell (used for grading-I don't have a TA)\u001B[39;00m\n\u001B[0;32m----> 2\u001B[0m \u001B[38;5;28mprint\u001B[39m(ff5_factors_reg)\n\u001B[1;32m      3\u001B[0m \u001B[38;5;28mprint\u001B[39m(factors_sumstat)\n",
      "\u001B[0;31mNameError\u001B[0m: name 'ff5_factors_reg' is not defined"
     ]
    }
   ],
   "execution_count": 346
  },
  {
   "cell_type": "markdown",
   "id": "207ccbcc-0cf6-4743-ab43-d867968aee5e",
   "metadata": {},
   "source": [
    "### Summarize at least three takeaways related to investments based on your results in Part II so far. Cite credible sources that help explain and support your findings. (6 points)"
   ]
  },
  {
   "cell_type": "markdown",
   "id": "ecf79a77-a416-49f9-916f-f208554cca47",
   "metadata": {},
   "source": []
  },
  {
   "cell_type": "markdown",
   "id": "918c4320-8d7f-4bdd-b159-15d81cdb4a7c",
   "metadata": {},
   "source": [
    "## Factor combination strategy (‘Mission Impossible’) (8 points)\n",
    "-  You can get partial credit if you have reasonable code."
   ]
  },
  {
   "cell_type": "code",
   "execution_count": null,
   "id": "e4f7237e-2fa8-4eca-ba83-f99b7bbef3e8",
   "metadata": {},
   "outputs": [],
   "source": [
    "\n",
    "\n"
   ]
  },
  {
   "cell_type": "code",
   "execution_count": null,
   "id": "b89a587b-6347-416c-a032-da0e758636de",
   "metadata": {},
   "outputs": [],
   "source": [
    "# Evaluation cell (used for grading-I don't have a TA)\n",
    "impossible_df"
   ]
  },
  {
   "cell_type": "code",
   "execution_count": null,
   "id": "3ec4beec-5e86-42fb-bc54-d1cb49994375",
   "metadata": {},
   "outputs": [],
   "source": [
    "end_time_part2 = time.time()  # End time\n",
    "execution_time_part2 = end_time_part2 - start_time_part2\n",
    "# Calculate the number of full minutes\n",
    "minutes = int(execution_time_part2 // 60)\n",
    "# Calculate the remaining seconds\n",
    "seconds = int(execution_time_part2 % 60)  \n",
    "print(f\"Execution time for Part II of the project:{minutes} minutes and {seconds} seconds\")"
   ]
  }
 ],
 "metadata": {
  "kernelspec": {
   "display_name": "Python 3 (ipykernel)",
   "language": "python",
   "name": "python3"
  },
  "language_info": {
   "codemirror_mode": {
    "name": "ipython",
    "version": 3
   },
   "file_extension": ".py",
   "mimetype": "text/x-python",
   "name": "python",
   "nbconvert_exporter": "python",
   "pygments_lexer": "ipython3",
   "version": "3.12.7"
  }
 },
 "nbformat": 4,
 "nbformat_minor": 5
}
