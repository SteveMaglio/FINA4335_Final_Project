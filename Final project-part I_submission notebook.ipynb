{
 "cells": [
  {
   "cell_type": "markdown",
   "id": "702f9b62-88b7-4c39-8bf8-67fe0884eebf",
   "metadata": {},
   "source": [
    "<center> <b>\n",
    "        <span style=\"font-size:24px;\">FINA 4335 -Final Project-<span style=\"color:red;\">Part I <span></span></b>\n",
    "<center><span style=\"font-size:22px;\"><b>Due date: 12/11/2024 11:59 PM ET</b></span></center>  \n",
    "\n",
    "##### First name and Last name (team member 1): Benjamin Damon\n",
    "##### First name and Last name (team member 2): Stephen Magliocchino\n",
    "##### First name and Last name (team member 3): Benjamin Inglesby"
   ]
  },
  {
   "cell_type": "markdown",
   "id": "cf13a509-5c06-4753-84e5-6791b898b16b",
   "metadata": {},
   "source": [
    "## Instructions\n",
    "\n",
    "1. Please rename the notebook. It should have the following format: **Final Project_Part I_Lastname1_Lastname2** if there are 2 members in the team.\n",
    "1. Use this **template** and you are free to modify or add more code/markdown cells. \n",
    "1. After you answer all questions:\n",
    "    1. Restart your kernel and run all cells\n",
    "    1. Save your notebook and export your notebook as HTML\n",
    "    1. Submit the **notebook** and **HTML** to Canvas, under Final Group Project."
   ]
  },
  {
   "cell_type": "markdown",
   "id": "71ca7d4f-6bca-4e26-b383-8f73a9275c13",
   "metadata": {},
   "source": [
    "## Some Grading Guidelines\n",
    "1. All code cells (excluding evaluation cells) should be **executable**. \n",
    "    - Non-executable code cells will receive up to **50%** of grade deduction. To receive more partial credit for a non-executable code cell, ensure it includes sufficient comments.\n",
    "1.  <span style=\"color: blue;\">I grade on both **'correctness'** and **effort**</span>\n",
    "    - **Suppose you don’t know how to generate a specific variable, then you <span style=\"color: red;\">may use random values (with reasonable range) to replace the variable</span>. You will lose point for that variable but will get most credit for subsequent questions.**\n",
    "1. Write efficient and clean code\n",
    "    -  No repetitive code (An example of repetitive code: import the same csv file twice).\n",
    "    - Informative variable names (if not specified in the project description).\n",
    "    - Less than 2 uncommented `print`, `.describe()`, or similar quality check in every code cell or every 5 lines of code.\n",
    "    - Every 2 occurrence of inefficient or unclean code will receive **1 point deduction**\n",
    "1. Include sufficient comments (at least 1 comment every 3 lines of code)\n",
    "      - Failure to include sufficient comments will result in a **5 points** grade deduction\n",
    "1. Format the markdown file such as including headings and brief question description\n",
    "1. Use the methods and formulas **covered in the lecture notebooks**; Using formulas inconsistent to the lecture notebooks receives 20% of grade penalty\n",
    "1. Reasonable code execution time\n",
    "   - The code execution time for Part I should be less than 5 minutes, otherwise **deduct 1 point for every 5 minutes more code execuation time**\n",
    "1. **10% of grade penalty per day late, receive 0% if the project is submitted after Dec 13 11:59 PM ET.**"
   ]
  },
  {
   "cell_type": "code",
   "id": "9442c84f-ce31-4798-aa94-a7b3e3a08ebc",
   "metadata": {
    "ExecuteTime": {
     "end_time": "2024-12-11T21:55:19.913141Z",
     "start_time": "2024-12-11T21:55:19.907271Z"
    }
   },
   "source": [
    "# import some packages\n",
    "# you may need to import more packages\n",
    "import pandas as pd\n",
    "import numpy as np\n",
    "import pandas_datareader.data as pdr\n",
    "import matplotlib.pyplot as plt\n",
    "import datetime\n",
    "import warnings\n",
    "import time\n",
    "# Suppress some annoying warnings \n",
    "warnings.filterwarnings(\"ignore\", message=\".*date_parser.*\")\n",
    "# Measure execution time\n",
    "start_time = time.time()  # Start time"
   ],
   "outputs": [],
   "execution_count": 564
  },
  {
   "cell_type": "markdown",
   "id": "3a057729-53d4-48a7-8c2d-751e8828a27d",
   "metadata": {},
   "source": [
    "## 1. Obtain asset returns\n",
    "\n",
    "### Download Fama-French 5 industry portfolios (2 points)"
   ]
  },
  {
   "cell_type": "code",
   "id": "35a08593-fd18-4903-b4a1-31b14b64ce9a",
   "metadata": {
    "ExecuteTime": {
     "end_time": "2024-12-11T21:55:20.181398Z",
     "start_time": "2024-12-11T21:55:19.918903Z"
    }
   },
   "source": [
    "# code provided; if you don't like my code you can change them\n",
    "start_date = '1995-01-01'; end_date = '2024-11-30'\n",
    "ff5ind_monthlyret = pdr.DataReader('5_Industry_Portfolios', 'famafrench', \n",
    "                                 start_date, end_date)[0]\n",
    "# Convert percentage returns to decimals \n",
    "ff5ind_monthlyret = ff5ind_monthlyret / 100"
   ],
   "outputs": [],
   "execution_count": 565
  },
  {
   "cell_type": "code",
   "id": "e3fa402e-3a50-4bef-acb1-a284b87fdf33",
   "metadata": {
    "ExecuteTime": {
     "end_time": "2024-12-11T21:55:20.214515Z",
     "start_time": "2024-12-11T21:55:20.210498Z"
    }
   },
   "source": [
    "# Evaluation cell (for grading)\n",
    "print(\"\\nFirst 3 rows of monthly returns (`ff5ind_monthlyret`):\")\n",
    "print(ff5ind_monthlyret.head(3))\n",
    "print(\"\\nLast 3 rows of monthly returns (`ff5ind_monthlyret`):\")\n",
    "print(ff5ind_monthlyret.tail(3))"
   ],
   "outputs": [
    {
     "name": "stdout",
     "output_type": "stream",
     "text": [
      "\n",
      "First 3 rows of monthly returns (`ff5ind_monthlyret`):\n",
      "          Cnsmr   Manuf   HiTec   Hlth    Other\n",
      "Date                                           \n",
      "1995-01  0.0062  0.0106  0.0125  0.0618  0.0471\n",
      "1995-02  0.0314  0.0437  0.0452  0.0226  0.0485\n",
      "1995-03  0.0293  0.0285  0.0277  0.0280  0.0190\n",
      "\n",
      "Last 3 rows of monthly returns (`ff5ind_monthlyret`):\n",
      "          Cnsmr   Manuf   HiTec   Hlth    Other\n",
      "Date                                           \n",
      "2024-08  0.0105  0.0118  0.0134  0.0644  0.0303\n",
      "2024-09  0.0441  0.0194  0.0309 -0.0181  0.0066\n",
      "2024-10 -0.0169 -0.0200 -0.0009 -0.0311  0.0111\n"
     ]
    }
   ],
   "execution_count": 566
  },
  {
   "cell_type": "markdown",
   "id": "9de4a667-7a06-44c1-9739-c40e80be6735",
   "metadata": {},
   "source": [
    "### Create three additional portfolios (15 points)"
   ]
  },
  {
   "cell_type": "code",
   "id": "4cb921d1-a7c0-4055-9ee1-6fa8c9df0355",
   "metadata": {
    "ExecuteTime": {
     "end_time": "2024-12-11T21:55:20.247137Z",
     "start_time": "2024-12-11T21:55:20.242496Z"
    }
   },
   "source": [
    "# Write your code in the provided code cell; you can add more cells (same applies below, no further repetition).\n",
    "#Set weights for the portfolios\n",
    "weights_tech_reb = np.array([0.15, 0.15, 0.40, 0.15, 0.15])\n",
    "weights_consumer_reb = np.array([0.40, 0.15, 0.15, 0.15, 0.15])\n",
    "weights_ew_reb = np.array([0.20, 0.20, 0.20, 0.20, 0.20])\n",
    "\n",
    "#apply weights to rebalanced portfolios\n",
    "Extra_3assets = pd.DataFrame({\n",
    "    'tech_heavy_reb': np.dot(ff5ind_monthlyret, weights_tech_reb),\n",
    "    'consumer_heavy_reb': np.dot(ff5ind_monthlyret, weights_consumer_reb),\n",
    "    'ew_reb': np.dot(ff5ind_monthlyret, weights_ew_reb)\n",
    "}, index=ff5ind_monthlyret.index)\n",
    "\n",
    "#Testing\n",
    "print(\"\\nFirst 3 rows of portfolio returns (`Extra_3assets`):\")\n",
    "print(Extra_3assets.head(3))\n",
    "print(Extra_3assets.columns)"
   ],
   "outputs": [
    {
     "name": "stdout",
     "output_type": "stream",
     "text": [
      "\n",
      "First 3 rows of portfolio returns (`Extra_3assets`):\n",
      "         tech_heavy_reb  consumer_heavy_reb   ew_reb\n",
      "Date                                                \n",
      "1995-01        0.023855             0.02228  0.02764\n",
      "1995-02        0.040010             0.03656  0.03828\n",
      "1995-03        0.026800             0.02720  0.02650\n",
      "Index(['tech_heavy_reb', 'consumer_heavy_reb', 'ew_reb'], dtype='object')\n"
     ]
    }
   ],
   "execution_count": 567
  },
  {
   "cell_type": "code",
   "id": "c64ea156-e4f4-454a-9868-f7ad4376352f",
   "metadata": {
    "scrolled": true,
    "ExecuteTime": {
     "end_time": "2024-12-11T21:55:20.281867Z",
     "start_time": "2024-12-11T21:55:20.276496Z"
    }
   },
   "source": [
    "# Evaluation cell (for grading)\n",
    "Extra_3assets.head()"
   ],
   "outputs": [
    {
     "data": {
      "text/plain": [
       "         tech_heavy_reb  consumer_heavy_reb   ew_reb\n",
       "Date                                                \n",
       "1995-01        0.023855             0.02228  0.02764\n",
       "1995-02        0.040010             0.03656  0.03828\n",
       "1995-03        0.026800             0.02720  0.02650\n",
       "1995-04        0.034030             0.02088  0.02674\n",
       "1995-05        0.029805             0.03403  0.03234"
      ],
      "text/html": [
       "<div>\n",
       "<style scoped>\n",
       "    .dataframe tbody tr th:only-of-type {\n",
       "        vertical-align: middle;\n",
       "    }\n",
       "\n",
       "    .dataframe tbody tr th {\n",
       "        vertical-align: top;\n",
       "    }\n",
       "\n",
       "    .dataframe thead th {\n",
       "        text-align: right;\n",
       "    }\n",
       "</style>\n",
       "<table border=\"1\" class=\"dataframe\">\n",
       "  <thead>\n",
       "    <tr style=\"text-align: right;\">\n",
       "      <th></th>\n",
       "      <th>tech_heavy_reb</th>\n",
       "      <th>consumer_heavy_reb</th>\n",
       "      <th>ew_reb</th>\n",
       "    </tr>\n",
       "    <tr>\n",
       "      <th>Date</th>\n",
       "      <th></th>\n",
       "      <th></th>\n",
       "      <th></th>\n",
       "    </tr>\n",
       "  </thead>\n",
       "  <tbody>\n",
       "    <tr>\n",
       "      <th>1995-01</th>\n",
       "      <td>0.023855</td>\n",
       "      <td>0.02228</td>\n",
       "      <td>0.02764</td>\n",
       "    </tr>\n",
       "    <tr>\n",
       "      <th>1995-02</th>\n",
       "      <td>0.040010</td>\n",
       "      <td>0.03656</td>\n",
       "      <td>0.03828</td>\n",
       "    </tr>\n",
       "    <tr>\n",
       "      <th>1995-03</th>\n",
       "      <td>0.026800</td>\n",
       "      <td>0.02720</td>\n",
       "      <td>0.02650</td>\n",
       "    </tr>\n",
       "    <tr>\n",
       "      <th>1995-04</th>\n",
       "      <td>0.034030</td>\n",
       "      <td>0.02088</td>\n",
       "      <td>0.02674</td>\n",
       "    </tr>\n",
       "    <tr>\n",
       "      <th>1995-05</th>\n",
       "      <td>0.029805</td>\n",
       "      <td>0.03403</td>\n",
       "      <td>0.03234</td>\n",
       "    </tr>\n",
       "  </tbody>\n",
       "</table>\n",
       "</div>"
      ]
     },
     "execution_count": 568,
     "metadata": {},
     "output_type": "execute_result"
    }
   ],
   "execution_count": 568
  },
  {
   "cell_type": "markdown",
   "id": "570cfb2e-85b8-431e-82fc-95ace5f3078a",
   "metadata": {},
   "source": [
    "#### Merge self-created portfolio returns with industry portfolio returns"
   ]
  },
  {
   "cell_type": "code",
   "id": "7f71cf57-91ed-4832-b70d-567fa2bb07b3",
   "metadata": {
    "ExecuteTime": {
     "end_time": "2024-12-11T21:55:20.343536Z",
     "start_time": "2024-12-11T21:55:20.337737Z"
    }
   },
   "source": [
    "#Merge dataframes\n",
    "assets_monthly = ff5ind_monthlyret.join(Extra_3assets)\n",
    "print(assets_monthly.head)"
   ],
   "outputs": [
    {
     "name": "stdout",
     "output_type": "stream",
     "text": [
      "<bound method NDFrame.head of           Cnsmr   Manuf   HiTec   Hlth    Other  tech_heavy_reb  \\\n",
      "Date                                                              \n",
      "1995-01  0.0062  0.0106  0.0125  0.0618  0.0471        0.023855   \n",
      "1995-02  0.0314  0.0437  0.0452  0.0226  0.0485        0.040010   \n",
      "1995-03  0.0293  0.0285  0.0277  0.0280  0.0190        0.026800   \n",
      "1995-04  0.0033  0.0268  0.0559  0.0300  0.0177        0.034030   \n",
      "1995-05  0.0391  0.0392  0.0222  0.0163  0.0449        0.029805   \n",
      "...         ...     ...     ...     ...     ...             ...   \n",
      "2024-06  0.0261 -0.0237  0.0715  0.0293 -0.0013        0.033160   \n",
      "2024-07  0.0266  0.0366 -0.0148  0.0085  0.0622        0.014165   \n",
      "2024-08  0.0105  0.0118  0.0134  0.0644  0.0303        0.022910   \n",
      "2024-09  0.0441  0.0194  0.0309 -0.0181  0.0066        0.020160   \n",
      "2024-10 -0.0169 -0.0200 -0.0009 -0.0311  0.0111       -0.008895   \n",
      "\n",
      "         consumer_heavy_reb   ew_reb  \n",
      "Date                                  \n",
      "1995-01            0.022280  0.02764  \n",
      "1995-02            0.036560  0.03828  \n",
      "1995-03            0.027200  0.02650  \n",
      "1995-04            0.020880  0.02674  \n",
      "1995-05            0.034030  0.03234  \n",
      "...                     ...      ...  \n",
      "2024-06            0.021810  0.02038  \n",
      "2024-07            0.024515  0.02382  \n",
      "2024-08            0.022185  0.02608  \n",
      "2024-09            0.023460  0.01658  \n",
      "2024-10           -0.012895 -0.01156  \n",
      "\n",
      "[358 rows x 8 columns]>\n"
     ]
    }
   ],
   "execution_count": 569
  },
  {
   "cell_type": "code",
   "id": "00bce474-103e-4b9d-a407-df4d44215f05",
   "metadata": {
    "ExecuteTime": {
     "end_time": "2024-12-11T21:55:20.376496Z",
     "start_time": "2024-12-11T21:55:20.372970Z"
    }
   },
   "source": [
    "# Evaluation cell (for grading)\n",
    "print(assets_monthly.iloc[:,-5:].head())"
   ],
   "outputs": [
    {
     "name": "stdout",
     "output_type": "stream",
     "text": [
      "          Hlth    Other  tech_heavy_reb  consumer_heavy_reb   ew_reb\n",
      "Date                                                                \n",
      "1995-01  0.0618  0.0471        0.023855             0.02228  0.02764\n",
      "1995-02  0.0226  0.0485        0.040010             0.03656  0.03828\n",
      "1995-03  0.0280  0.0190        0.026800             0.02720  0.02650\n",
      "1995-04  0.0300  0.0177        0.034030             0.02088  0.02674\n",
      "1995-05  0.0163  0.0449        0.029805             0.03403  0.03234\n"
     ]
    }
   ],
   "execution_count": 570
  },
  {
   "cell_type": "markdown",
   "id": "9711044e-9303-48d0-942a-f928220b59aa",
   "metadata": {},
   "source": [
    "#### Some basic visualization (add similar heading in the notebook later!)"
   ]
  },
  {
   "cell_type": "code",
   "id": "8a932ba0-9919-4212-adfc-18022a5a6ff6",
   "metadata": {
    "ExecuteTime": {
     "end_time": "2024-12-11T21:55:20.559185Z",
     "start_time": "2024-12-11T21:55:20.443230Z"
    }
   },
   "source": [
    "#Get means for pfs\n",
    "average_returns = assets_monthly.mean()\n",
    "\n",
    "#Plot figure\n",
    "plt.figure(figsize=(10, 6))\n",
    "average_returns.plot(kind='bar', color='skyblue', edgecolor='black')\n",
    "plt.title(\"Average Monthly Returns for Long Only Assets\", fontsize=16)\n",
    "plt.xlabel(\"Asset\", fontsize=12)\n",
    "plt.ylabel(\"Average Return\", fontsize=12)\n",
    "plt.xticks(rotation=45)\n",
    "plt.tight_layout()\n",
    "plt.show()"
   ],
   "outputs": [
    {
     "data": {
      "text/plain": [
       "<Figure size 1000x600 with 1 Axes>"
      ],
      "image/png": "[encoded data removed]"
     },
     "metadata": {},
     "output_type": "display_data"
    }
   ],
   "execution_count": 571
  },
  {
   "cell_type": "markdown",
   "id": "0f28bd3b-178f-44d1-b9c4-0c159473f21a",
   "metadata": {},
   "source": [
    "## 2. Technical trading (15 points)"
   ]
  },
  {
   "cell_type": "markdown",
   "id": "40d43811-c855-4aa3-aee3-092d1b6cb5fc",
   "metadata": {},
   "source": [
    "###  Simple moving average strategy with inflation (CPI) for each asset"
   ]
  },
  {
   "cell_type": "code",
   "id": "37ceece8-f95c-48e4-adc1-692decc7bf75",
   "metadata": {
    "ExecuteTime": {
     "end_time": "2024-12-11T21:55:20.727161Z",
     "start_time": "2024-12-11T21:55:20.595835Z"
    }
   },
   "source": [
    "# Download CPI data\n",
    "cpi_data = pdr.DataReader('CPIAUCNS', 'fred', start_date, end_date)\n",
    "# Rename the column to CPI \n",
    "cpi_data.rename(columns={'CPIAUCNS': 'CPI'}, inplace=True)\n",
    "\n",
    "#Standardize dates\n",
    "cpi_data.index = cpi_data.index.to_period('M')\n",
    "\n",
    "#Add previous rolling 3 month avg and long/short positions and avoid look ahead bias\n",
    "cpi_data['MA3_CPI'] = cpi_data['CPI'].rolling(window=3).mean().shift(2)\n",
    "cpi_data['Position'] = np.where(cpi_data['CPI'] > cpi_data['MA3_CPI'], 1, np.where(cpi_data['CPI'] <= cpi_data['MA3_CPI'], -1, 0))\n",
    "\n",
    "# Join for temporary df to calculate returns\n",
    "assets_with_cpi = assets_monthly.join(cpi_data[['Position']])\n",
    "\n",
    "# Now multiply the returns by the positions\n",
    "MAs_CPI_rets = assets_with_cpi.iloc[:, :-1].multiply(assets_with_cpi['Position'], axis=0)\n",
    "\n",
    "print(MAs_CPI_rets.head())\n",
    "print(MAs_CPI_rets.tail())\n",
    "print(MAs_CPI_rets.columns)"
   ],
   "outputs": [
    {
     "name": "stdout",
     "output_type": "stream",
     "text": [
      "          Cnsmr   Manuf   HiTec   Hlth    Other  tech_heavy_reb  \\\n",
      "Date                                                              \n",
      "1995-01  0.0000  0.0000  0.0000  0.0000  0.0000        0.000000   \n",
      "1995-02  0.0000  0.0000  0.0000  0.0000  0.0000        0.000000   \n",
      "1995-03  0.0000  0.0000  0.0000  0.0000  0.0000        0.000000   \n",
      "1995-04  0.0000  0.0000  0.0000  0.0000  0.0000        0.000000   \n",
      "1995-05  0.0391  0.0392  0.0222  0.0163  0.0449        0.029805   \n",
      "\n",
      "         consumer_heavy_reb   ew_reb  \n",
      "Date                                  \n",
      "1995-01             0.00000  0.00000  \n",
      "1995-02             0.00000  0.00000  \n",
      "1995-03             0.00000  0.00000  \n",
      "1995-04             0.00000  0.00000  \n",
      "1995-05             0.03403  0.03234  \n",
      "          Cnsmr   Manuf   HiTec   Hlth    Other  tech_heavy_reb  \\\n",
      "Date                                                              \n",
      "2024-06  0.0261 -0.0237  0.0715  0.0293 -0.0013        0.033160   \n",
      "2024-07  0.0266  0.0366 -0.0148  0.0085  0.0622        0.014165   \n",
      "2024-08  0.0105  0.0118  0.0134  0.0644  0.0303        0.022910   \n",
      "2024-09  0.0441  0.0194  0.0309 -0.0181  0.0066        0.020160   \n",
      "2024-10 -0.0169 -0.0200 -0.0009 -0.0311  0.0111       -0.008895   \n",
      "\n",
      "         consumer_heavy_reb   ew_reb  \n",
      "Date                                  \n",
      "2024-06            0.021810  0.02038  \n",
      "2024-07            0.024515  0.02382  \n",
      "2024-08            0.022185  0.02608  \n",
      "2024-09            0.023460  0.01658  \n",
      "2024-10           -0.012895 -0.01156  \n",
      "Index(['Cnsmr', 'Manuf', 'HiTec', 'Hlth ', 'Other', 'tech_heavy_reb',\n",
      "       'consumer_heavy_reb', 'ew_reb'],\n",
      "      dtype='object')\n"
     ]
    }
   ],
   "execution_count": 572
  },
  {
   "cell_type": "code",
   "id": "0bad01f4-cbfb-42b0-8cb5-a9584690b149",
   "metadata": {
    "ExecuteTime": {
     "end_time": "2024-12-11T21:55:20.766308Z",
     "start_time": "2024-12-11T21:55:20.756668Z"
    }
   },
   "source": [
    "# Evaluation cell (for grading)\n",
    "print(MAs_CPI_rets.head(3))\n",
    "print(MAs_CPI_rets.describe())"
   ],
   "outputs": [
    {
     "name": "stdout",
     "output_type": "stream",
     "text": [
      "         Cnsmr  Manuf  HiTec  Hlth   Other  tech_heavy_reb  \\\n",
      "Date                                                         \n",
      "1995-01    0.0    0.0    0.0    0.0    0.0             0.0   \n",
      "1995-02    0.0    0.0    0.0    0.0    0.0             0.0   \n",
      "1995-03    0.0    0.0    0.0    0.0    0.0             0.0   \n",
      "\n",
      "         consumer_heavy_reb  ew_reb  \n",
      "Date                                 \n",
      "1995-01                 0.0     0.0  \n",
      "1995-02                 0.0     0.0  \n",
      "1995-03                 0.0     0.0  \n",
      "            Cnsmr       Manuf       HiTec       Hlth        Other  \\\n",
      "count  358.000000  358.000000  358.000000  358.000000  358.000000   \n",
      "mean     0.007503    0.007568    0.010167    0.007227    0.009281   \n",
      "std      0.042465    0.045584    0.062414    0.043006    0.052953   \n",
      "min     -0.158500   -0.192400   -0.227200   -0.134800   -0.214600   \n",
      "25%     -0.017800   -0.017950   -0.021900   -0.020050   -0.023775   \n",
      "50%      0.009850    0.008400    0.015150    0.007100    0.010600   \n",
      "75%      0.031800    0.035325    0.048300    0.036900    0.039425   \n",
      "max      0.152000    0.176400    0.201600    0.120400    0.198000   \n",
      "\n",
      "       tech_heavy_reb  consumer_heavy_reb      ew_reb  \n",
      "count      358.000000          358.000000  358.000000  \n",
      "mean         0.008804            0.008138    0.008349  \n",
      "std          0.046175            0.042034    0.042837  \n",
      "min         -0.151745           -0.148145   -0.149660  \n",
      "25%         -0.019820           -0.017823   -0.017475  \n",
      "50%          0.012080            0.011360    0.011510  \n",
      "75%          0.039427            0.036036    0.036115  \n",
      "max          0.166145            0.159995    0.162660  \n"
     ]
    }
   ],
   "execution_count": 573
  },
  {
   "cell_type": "markdown",
   "id": "64fc03fc-4dcd-4c89-8eb8-73e282066805",
   "metadata": {},
   "source": [
    "#### Some basic visualization "
   ]
  },
  {
   "cell_type": "code",
   "id": "07a14086-3bf1-4c66-9bc8-ca50175fa038",
   "metadata": {
    "ExecuteTime": {
     "end_time": "2024-12-11T21:55:20.893431Z",
     "start_time": "2024-12-11T21:55:20.794641Z"
    }
   },
   "source": [
    "average_returns = MAs_CPI_rets.mean()\n",
    "\n",
    "#Plot figure\n",
    "plt.figure(figsize=(10, 6))\n",
    "average_returns.plot(kind='bar', color='skyblue', edgecolor='black')\n",
    "plt.title(\"Average Monthly Returns for SMA Strategy\", fontsize=16)\n",
    "plt.xlabel(\"Asset\", fontsize=12)\n",
    "plt.ylabel(\"Average Return\", fontsize=12)\n",
    "plt.xticks(rotation=45)\n",
    "plt.tight_layout()\n",
    "plt.show()"
   ],
   "outputs": [
    {
     "data": {
      "text/plain": [
       "<Figure size 1000x600 with 1 Axes>"
      ],
      "image/png": "[encoded data removed]"
     },
     "metadata": {},
     "output_type": "display_data"
    }
   ],
   "execution_count": 574
  },
  {
   "metadata": {},
   "cell_type": "markdown",
   "source": "As mentioned in class, often technical trading (at least using this CPI strategy) does not beat market returns as soon through these returns being slightly lower than regular returns from the previous graph.",
   "id": "edb810890febffe0"
  },
  {
   "cell_type": "markdown",
   "id": "46a4cf16-b10b-4ebb-9387-d33da39889b2",
   "metadata": {},
   "source": [
    "## 3. Portfolio evaluation (8 points)"
   ]
  },
  {
   "cell_type": "code",
   "id": "36edafce1f88ae4c",
   "metadata": {
    "ExecuteTime": {
     "end_time": "2024-12-11T21:55:23.125189Z",
     "start_time": "2024-12-11T21:55:20.980224Z"
    }
   },
   "source": [
    "#Get market premium rate from fama french\n",
    "three_factors_day = pdr.get_data_famafrench('F-F_Research_Data_Factors_daily', start=start_date, end=end_date)[0][['Mkt-RF']].div(100)"
   ],
   "outputs": [],
   "execution_count": 575
  },
  {
   "metadata": {
    "ExecuteTime": {
     "end_time": "2024-12-11T21:55:23.134931Z",
     "start_time": "2024-12-11T21:55:23.128452Z"
    }
   },
   "cell_type": "code",
   "source": [
    "#Convert dates on market RF to get RF\n",
    "ff_monthly = (1 + three_factors_day).resample('M').prod() - 1\n",
    "ff_monthly.index = ff_monthly.index.to_period('M')\n",
    "rf_rate = ff_monthly['Mkt-RF']\n",
    "\n",
    "returns = assets_monthly.copy()\n",
    "rf_rate = rf_rate.reindex(returns.index)\n",
    "# Calculate excess returns\n",
    "excess_returns = returns.sub(rf_rate, axis=0)  \n",
    "# Detailed calculation\n",
    "mean_excess = excess_returns.mean()\n",
    "std_excess = excess_returns.std(ddof=1)\n",
    "sharpe = mean_excess / std_excess * np.sqrt(12)\n",
    "# Create a DataFrame for Sharpe ratios\n",
    "sharpe_by_asset = pd.DataFrame({\n",
    "    'Sharpe_Ratio': sharpe\n",
    "})\n",
    "\n",
    "#Calculate MDD using homework method\n",
    "cumulative_returns = (1 + MAs_CPI_rets).cumprod()\n",
    "running_max = cumulative_returns.cummax()\n",
    "drawdown = (cumulative_returns - running_max) / running_max\n",
    "MDD_by_asset = drawdown.min()  "
   ],
   "id": "c20f7f0d-fc89-4604-b6a2-f5c8524dc91e",
   "outputs": [],
   "execution_count": 576
  },
  {
   "cell_type": "code",
   "id": "eec8a0ed-b983-48fc-a0ee-8cd63153e96a",
   "metadata": {
    "ExecuteTime": {
     "end_time": "2024-12-11T21:55:23.164014Z",
     "start_time": "2024-12-11T21:55:23.160564Z"
    }
   },
   "source": [
    "# Evaluation cell (for grading)\n",
    "sharpe_by_asset"
   ],
   "outputs": [
    {
     "data": {
      "text/plain": [
       "                    Sharpe_Ratio\n",
       "Cnsmr                   0.353332\n",
       "Manuf                   0.230238\n",
       "HiTec                   0.459225\n",
       "Hlth                    0.249913\n",
       "Other                   0.233803\n",
       "tech_heavy_reb          1.562583\n",
       "consumer_heavy_reb      0.822684\n",
       "ew_reb                  1.045168"
      ],
      "text/html": [
       "<div>\n",
       "<style scoped>\n",
       "    .dataframe tbody tr th:only-of-type {\n",
       "        vertical-align: middle;\n",
       "    }\n",
       "\n",
       "    .dataframe tbody tr th {\n",
       "        vertical-align: top;\n",
       "    }\n",
       "\n",
       "    .dataframe thead th {\n",
       "        text-align: right;\n",
       "    }\n",
       "</style>\n",
       "<table border=\"1\" class=\"dataframe\">\n",
       "  <thead>\n",
       "    <tr style=\"text-align: right;\">\n",
       "      <th></th>\n",
       "      <th>Sharpe_Ratio</th>\n",
       "    </tr>\n",
       "  </thead>\n",
       "  <tbody>\n",
       "    <tr>\n",
       "      <th>Cnsmr</th>\n",
       "      <td>0.353332</td>\n",
       "    </tr>\n",
       "    <tr>\n",
       "      <th>Manuf</th>\n",
       "      <td>0.230238</td>\n",
       "    </tr>\n",
       "    <tr>\n",
       "      <th>HiTec</th>\n",
       "      <td>0.459225</td>\n",
       "    </tr>\n",
       "    <tr>\n",
       "      <th>Hlth</th>\n",
       "      <td>0.249913</td>\n",
       "    </tr>\n",
       "    <tr>\n",
       "      <th>Other</th>\n",
       "      <td>0.233803</td>\n",
       "    </tr>\n",
       "    <tr>\n",
       "      <th>tech_heavy_reb</th>\n",
       "      <td>1.562583</td>\n",
       "    </tr>\n",
       "    <tr>\n",
       "      <th>consumer_heavy_reb</th>\n",
       "      <td>0.822684</td>\n",
       "    </tr>\n",
       "    <tr>\n",
       "      <th>ew_reb</th>\n",
       "      <td>1.045168</td>\n",
       "    </tr>\n",
       "  </tbody>\n",
       "</table>\n",
       "</div>"
      ]
     },
     "execution_count": 577,
     "metadata": {},
     "output_type": "execute_result"
    }
   ],
   "execution_count": 577
  },
  {
   "cell_type": "code",
   "id": "71441934-e5af-4682-bf14-268f2003b25b",
   "metadata": {
    "ExecuteTime": {
     "end_time": "2024-12-11T21:55:23.209503Z",
     "start_time": "2024-12-11T21:55:23.206436Z"
    }
   },
   "source": [
    "# Evaluation cell (for grading)\n",
    "print(MDD_by_asset)"
   ],
   "outputs": [
    {
     "name": "stdout",
     "output_type": "stream",
     "text": [
      "Cnsmr                -0.327583\n",
      "Manuf                -0.424375\n",
      "HiTec                -0.777570\n",
      "Hlth                 -0.308597\n",
      "Other                -0.404050\n",
      "tech_heavy_reb       -0.506393\n",
      "consumer_heavy_reb   -0.344540\n",
      "ew_reb               -0.384977\n",
      "dtype: float64\n"
     ]
    }
   ],
   "execution_count": 578
  },
  {
   "cell_type": "markdown",
   "id": "c4cbd0e4-7642-4add-80f1-e53e9014266c",
   "metadata": {},
   "source": [
    "Taking a look at the results, we can see that the portfolios with the highest sharpe ratios were tech_heavy_reb and ew_reb which are at 1.56 and 1.04 respectively. As Sharpe ratios measure the risk adjusted return of a portfolio, these two numbers make sense. The tech heavy portfolio with regular rebalancing outperformed other asset classes as it was able to take advantage of high performing high beta tech stocks while reducing risk through rebalancing and diversification. Tech has performed well over the last two decades, but also has held higher risk which is why the rebalncing portfolio is the ultimate winner. By pursuing a portfolio with a tech concentration and regular rebalancing and some diversification, investors can acheive good risk adjusted returns.\n",
    "https://www.investing.com/news/stock-market-news/breaking-down-the-stunning-tech-outperformance-in-last-20-years-3607022\n",
    "https://pages.stern.nyu.edu/~adamodar/New_Home_Page/datafile/Betas.html\n",
    "The highest drawdown was in HiTech, which also makes sense. Since it has the highest Beta of all sectors it should have the highest volatility. On the other side of the equation, the smallest drawdown was the healthcare sector. This also makes some sense as healthcare demand is extremely inelastic which would cause it to be less cyclical than other sectors. This would results in a steadier stock performance across various market conditions. By investing in healthcare stocks, investors will be able to see consistent and market condition independent revenue streams. This would result in a lower risk investment with smaller drawdowns.\n",
    "https://www.alliancebernstein.com/corporate/en/insights/investment-insights/are-healthcare-stocks-still-defensive-in-the-current-environment.html\n"
   ]
  },
  {
   "cell_type": "code",
   "id": "838066cb-fa4a-4fda-8078-5e7a5f993360",
   "metadata": {
    "ExecuteTime": {
     "end_time": "2024-12-11T21:55:23.236467Z",
     "start_time": "2024-12-11T21:55:23.233416Z"
    }
   },
   "source": [
    "end_time = time.time()  # End time\n",
    "execution_time = end_time - start_time\n",
    "# Calculate the number of full minutes\n",
    "minutes = int(execution_time // 60)\n",
    "# Calculate the remaining seconds\n",
    "seconds = int(execution_time % 60)  \n",
    "print(f\"Execution time for Part I of the project:{minutes} minutes and {seconds} seconds\")"
   ],
   "outputs": [
    {
     "name": "stdout",
     "output_type": "stream",
     "text": [
      "Execution time for Part I of the project:0 minutes and 3 seconds\n"
     ]
    }
   ],
   "execution_count": 579
  }
 ],
 "metadata": {
  "kernelspec": {
   "display_name": "Python 3 (ipykernel)",
   "language": "python",
   "name": "python3"
  },
  "language_info": {
   "codemirror_mode": {
    "name": "ipython",
    "version": 3
   },
   "file_extension": ".py",
   "mimetype": "text/x-python",
   "name": "python",
   "nbconvert_exporter": "python",
   "pygments_lexer": "ipython3",
   "version": "3.12.7"
  }
 },
 "nbformat": 4,
 "nbformat_minor": 5
}
